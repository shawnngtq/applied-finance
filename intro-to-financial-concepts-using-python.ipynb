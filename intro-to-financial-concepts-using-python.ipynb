{
 "cells": [
  {
   "cell_type": "markdown",
   "metadata": {},
   "source": [
    "# 1.0 Intro to Financial Concepts using Python"
   ]
  },
  {
   "cell_type": "code",
   "execution_count": 1,
   "metadata": {},
   "outputs": [],
   "source": [
    "import numpy as np\n",
    "import scipy as sp"
   ]
  },
  {
   "cell_type": "markdown",
   "metadata": {},
   "source": [
    "## ROI: Return on investment (% gain)\n",
    "\n",
    "$ return = \\frac{v_{t2}-v_{t1}}{v_{t1}} = r $\n",
    "\n",
    "- $v_{t1}$: investment initial value\n",
    "- $v_{t2}$: investment final value"
   ]
  },
  {
   "cell_type": "code",
   "execution_count": 2,
   "metadata": {},
   "outputs": [],
   "source": [
    "def percent_gain(pv, fv, displayPercent=True):\n",
    "    \"\"\"\n",
    "    Returns the percent gain from investment\n",
    "    \n",
    "    Parameters\n",
    "    ----------\n",
    "    pv: int / float\n",
    "        Investment's initial value\n",
    "    fv: int / float\n",
    "        Investment's final value\n",
    "    displayPercent: bool\n",
    "        0 returns result in float format, while 1 returns result in percent format\n",
    "    \"\"\"\n",
    "    if not all(isinstance(i, (int, float)) for i in [pv,fv]): \n",
    "        raise TypeError('pv and fv must be int/float datatype')\n",
    "    elif not isinstance(displayPercent, (bool)):\n",
    "        raise TypeError('displayPercent value must be bool datatype')\n",
    "    elif displayPercent is True:\n",
    "        return 'The return on investment is {0}%'.format(str((fv-pv)/pv * 100))\n",
    "    elif displayPercent is not True:\n",
    "        return 'The return on investment is {0}'.format((fv-pv)/pv)\n",
    "    else:\n",
    "        raise Exception('Unknown error, please check the function and values')"
   ]
  },
  {
   "cell_type": "markdown",
   "metadata": {},
   "source": [
    "You invest `$10,000` and it's worth `$11,000` after 1 year, what's the interest rate?"
   ]
  },
  {
   "cell_type": "code",
   "execution_count": 3,
   "metadata": {},
   "outputs": [
    {
     "data": {
      "text/plain": [
       "'The return on investment is 10.0%'"
      ]
     },
     "execution_count": 3,
     "metadata": {},
     "output_type": "execute_result"
    }
   ],
   "source": [
    "percent_gain(10000,11000)"
   ]
  },
  {
   "cell_type": "code",
   "execution_count": 4,
   "metadata": {},
   "outputs": [
    {
     "data": {
      "text/plain": [
       "'The return on investment is 0.1'"
      ]
     },
     "execution_count": 4,
     "metadata": {},
     "output_type": "execute_result"
    }
   ],
   "source": [
    "percent_gain(10000,11000,False)"
   ]
  },
  {
   "cell_type": "markdown",
   "metadata": {},
   "source": [
    "## ROI: Return on investment (Dollar Value)\n",
    "\n",
    "$ v_{t2} = v_{t1} * (1+r) $\n",
    "\n",
    "- `r`: the rate of return of the investment per period t"
   ]
  },
  {
   "cell_type": "markdown",
   "metadata": {},
   "source": [
    "Assuming you invest `$10,000` and the ARR=`10%`, what do you get after 1 year?"
   ]
  },
  {
   "cell_type": "code",
   "execution_count": 5,
   "metadata": {},
   "outputs": [
    {
     "data": {
      "text/plain": [
       "11000.0"
      ]
     },
     "execution_count": 5,
     "metadata": {},
     "output_type": "execute_result"
    }
   ],
   "source": [
    "np.fv(0.1, 1, 0, -10000)"
   ]
  },
  {
   "cell_type": "markdown",
   "metadata": {},
   "source": [
    "## Cumulative growth / Depreciation\n",
    "\n",
    "Investment value = $ v_{t_0} * (1+r)^t $\n",
    "\n",
    "- `r`: growth rate"
   ]
  },
  {
   "cell_type": "markdown",
   "metadata": {},
   "source": [
    "Assuming you invest `$10,000` and the ARR=`10%`, what do you get after 10 years?"
   ]
  },
  {
   "cell_type": "code",
   "execution_count": 6,
   "metadata": {},
   "outputs": [
    {
     "data": {
      "text/plain": [
       "25937.424601000024"
      ]
     },
     "execution_count": 6,
     "metadata": {},
     "output_type": "execute_result"
    }
   ],
   "source": [
    "np.fv(0.1, 10, 0, -10000)"
   ]
  },
  {
   "cell_type": "markdown",
   "metadata": {},
   "source": [
    "## Discount factors\n",
    "\n",
    "$ df = \\frac{1}{(1+r)^t} $\n",
    "\n",
    "$ v = fv * df $\n",
    "\n",
    "- `df`: discount factor\n",
    "- `v`: investment's initial value\n",
    "- `fv`: investment future value"
   ]
  },
  {
   "cell_type": "markdown",
   "metadata": {},
   "source": [
    "## Compound interest\n",
    "\n",
    "Investment value = $ v_{t_0} * (1 + \\frac{r}{c})^{t*c} $\n",
    "\n",
    "- `r`: annual growth rate\n",
    "- `c`: # of compounding periods per year"
   ]
  },
  {
   "cell_type": "markdown",
   "metadata": {},
   "source": [
    "Consider a `$1,000` investment with a `10%` annual return, compounded quarterly (every 3 months, 4 times per year)"
   ]
  },
  {
   "cell_type": "code",
   "execution_count": 7,
   "metadata": {},
   "outputs": [
    {
     "data": {
      "text/plain": [
       "1103.8128906249995"
      ]
     },
     "execution_count": 7,
     "metadata": {},
     "output_type": "execute_result"
    }
   ],
   "source": [
    "np.fv(0.1/4, 1*4, 0, -1000)"
   ]
  },
  {
   "cell_type": "markdown",
   "metadata": {},
   "source": [
    "Compounded over `30` years"
   ]
  },
  {
   "cell_type": "code",
   "execution_count": 8,
   "metadata": {},
   "outputs": [
    {
     "data": {
      "text/plain": [
       "19358.149833777778"
      ]
     },
     "execution_count": 8,
     "metadata": {},
     "output_type": "execute_result"
    }
   ],
   "source": [
    "np.fv(0.1/4, 30*4, 0, -1000)"
   ]
  },
  {
   "cell_type": "markdown",
   "metadata": {},
   "source": [
    "# 1.1 Present and future values"
   ]
  },
  {
   "cell_type": "markdown",
   "metadata": {},
   "source": [
    "Calculate the present value of `$100` received 3 years from now at a `1.0%` inflation rate."
   ]
  },
  {
   "cell_type": "code",
   "execution_count": 9,
   "metadata": {},
   "outputs": [
    {
     "data": {
      "text/plain": [
       "97.05901479276443"
      ]
     },
     "execution_count": 9,
     "metadata": {},
     "output_type": "execute_result"
    }
   ],
   "source": [
    "np.pv(0.01, 3, 0, -100)"
   ]
  },
  {
   "cell_type": "markdown",
   "metadata": {},
   "source": [
    "Calculate the future value of `$100` invested for 3 years at a `5.0%` average annual rate of return."
   ]
  },
  {
   "cell_type": "code",
   "execution_count": 10,
   "metadata": {},
   "outputs": [
    {
     "data": {
      "text/plain": [
       "115.76250000000002"
      ]
     },
     "execution_count": 10,
     "metadata": {},
     "output_type": "execute_result"
    }
   ],
   "source": [
    "np.fv(0.05, 3, 0, -100)"
   ]
  },
  {
   "cell_type": "markdown",
   "metadata": {},
   "source": [
    "# 1.2 Net present value & cash flows"
   ]
  },
  {
   "cell_type": "markdown",
   "metadata": {},
   "source": [
    "## Net present value (NPV)\n",
    "\n",
    "NPV is equal to the sum of all discounted cash flows. NPV is a simple cash flow valuation measure that does not allow for the comparison of different sized projects or lengths.\n",
    "\n",
    "$ NPV = \\sum^T_{t=1} \\frac{C_t}{(1+r)^t} - C_0 $\n",
    "\n",
    "- $C_t$: cashflow at time t\n",
    "- `r`: discount rate"
   ]
  },
  {
   "cell_type": "markdown",
   "metadata": {},
   "source": [
    "### Discount cash flow\n",
    "https://www.investopedia.com/terms/d/dcf.asp"
   ]
  },
  {
   "cell_type": "code",
   "execution_count": 11,
   "metadata": {
    "scrolled": true
   },
   "outputs": [
    {
     "data": {
      "text/plain": [
       "249.93"
      ]
     },
     "execution_count": 11,
     "metadata": {},
     "output_type": "execute_result"
    }
   ],
   "source": [
    "# Year 1-5\n",
    "50.93 + 51.87 + 50.43 + 49.03 + 47.67"
   ]
  },
  {
   "cell_type": "code",
   "execution_count": 12,
   "metadata": {},
   "outputs": [
    {
     "data": {
      "text/plain": [
       "249.92162512796267"
      ]
     },
     "execution_count": 12,
     "metadata": {},
     "output_type": "execute_result"
    }
   ],
   "source": [
    "# Include 0 as we don't have cashflow for year 0\n",
    "# Don't include terminal from the example\n",
    "cf = np.array([0, 55, 60.5, 63.53, 66.7, 70.04])\n",
    "np.npv(rate=0.08, values=cf)"
   ]
  },
  {
   "cell_type": "markdown",
   "metadata": {},
   "source": [
    "# 2.0 A tale of 2 project proposals"
   ]
  },
  {
   "cell_type": "markdown",
   "metadata": {},
   "source": [
    "## Internal rate of return (IRR)\n",
    "\n",
    "The internal rate of return must be computed by solving for IRR in the NPV equation when set equal to 0. IRR can be used to compare projects of different sizes and lengths but requires an algorithmic solution and does not measure total value.\n",
    "\n",
    "$ NPV = \\sum^T_{t=1} \\frac{C_t}{(1+IRR)^t} - C_t = 0 $\n",
    "\n",
    "- `IRR`: internal rate of return\n",
    "\n",
    "https://en.wikipedia.org/wiki/Internal_rate_of_return#Example"
   ]
  },
  {
   "cell_type": "code",
   "execution_count": 13,
   "metadata": {},
   "outputs": [
    {
     "data": {
      "text/plain": [
       "0.0596163785673296"
      ]
     },
     "execution_count": 13,
     "metadata": {},
     "output_type": "execute_result"
    }
   ],
   "source": [
    "cf = np.array([-123400,36200,54800,48100])\n",
    "np.irr(cf)"
   ]
  },
  {
   "cell_type": "markdown",
   "metadata": {},
   "source": [
    "# 2.1 The weighted average cost of capital (WACC)\n",
    "\n",
    "$ WACC = F_{equity}*C_{equity} + F_{debt}*C_{debt} * (1-TR) $\n",
    "\n",
    "- `F`: financing\n",
    "- `C`: cost\n",
    "- `TR`: corporate tax rate\n",
    "\n",
    "$ F_{equity} = \\frac{M_{equity}}{M_{total}} $\n",
    "\n",
    "$ F_{debt} = \\frac{M_{debt}}{M_{total}} $\n",
    "\n",
    "$ M_{total} = M_{equity} + M_{debt}$\n",
    "\n",
    "**WACC vs discount rate**: https://www.investopedia.com/ask/answers/052715/what-difference-between-cost-capital-and-discount-rate.asp"
   ]
  },
  {
   "cell_type": "markdown",
   "metadata": {},
   "source": [
    "Calculate the WACC of a company with 12% cost of debt, 14% cost of equity, 20% debt financing and 80% equity financing, with a corporate tax rate of 35%"
   ]
  },
  {
   "cell_type": "code",
   "execution_count": 14,
   "metadata": {},
   "outputs": [
    {
     "data": {
      "text/plain": [
       "0.12760000000000002"
      ]
     },
     "execution_count": 14,
     "metadata": {},
     "output_type": "execute_result"
    }
   ],
   "source": [
    "financing_equity = 0.8\n",
    "cost_equity = 0.14\n",
    "financing_debt = 0.2\n",
    "cost_debt = 0.12\n",
    "corporate_tax_rate = 0.35\n",
    "\n",
    "WACC = financing_equity*cost_equity + financing_debt*cost_debt * (1-corporate_tax_rate)\n",
    "WACC"
   ]
  },
  {
   "cell_type": "markdown",
   "metadata": {},
   "source": [
    "Calculate the NPV of a project that provides $100 in cashflow every year for 5 years. With WACC of 13%"
   ]
  },
  {
   "cell_type": "code",
   "execution_count": 15,
   "metadata": {},
   "outputs": [
    {
     "name": "stdout",
     "output_type": "stream",
     "text": [
      "397.4471325543258\n"
     ]
    }
   ],
   "source": [
    "cf_project1 = np.repeat(100,5)\n",
    "npv_project1 = np.npv(0.13, cf_project1)\n",
    "print(npv_project1)"
   ]
  },
  {
   "cell_type": "markdown",
   "metadata": {},
   "source": [
    "# 2.2 Comparing 2 projects of different life spans"
   ]
  },
  {
   "cell_type": "code",
   "execution_count": 16,
   "metadata": {},
   "outputs": [
    {
     "name": "stdout",
     "output_type": "stream",
     "text": [
      "project1 length: 3\n",
      "project2 length: 8\n",
      "project1_npv: 362.5850340136054\n",
      "project2_npv: 453.6373397397568\n",
      "project1_irr: 2.0\n",
      "project2_irr: 0.7862100635772007\n"
     ]
    }
   ],
   "source": [
    "project1_cf = np.array([-100,200,300])\n",
    "project2_cf = np.array([-125,100,100,100,100,100,100,100])\n",
    "print('project1 length:', len(project1_cf))\n",
    "print('project2 length:', len(project2_cf))\n",
    "\n",
    "# NPV: Assume 5% discount rate for both projects\n",
    "project1_npv = np.npv(0.05, project1_cf)\n",
    "project2_npv = np.npv(0.05, project2_cf)\n",
    "print('project1_npv:', project1_npv)\n",
    "print('project2_npv:', project2_npv)\n",
    "\n",
    "# IRR\n",
    "project1_irr = np.irr(project1_cf)\n",
    "project2_irr = np.irr(project2_cf)\n",
    "print('project1_irr:', project1_irr)\n",
    "print('project2_irr:', project2_irr)"
   ]
  },
  {
   "cell_type": "markdown",
   "metadata": {},
   "source": [
    "You can undertake multiple project 1 (3 years) over 8 years (which project 2 requires). Even though project 2 has a higher NPV, it has a smaller IRR."
   ]
  },
  {
   "cell_type": "markdown",
   "metadata": {},
   "source": [
    "## Equivalent annual annuity\n",
    "\n",
    "Use to compare 2 projects of different lifespans in present value terms"
   ]
  },
  {
   "cell_type": "code",
   "execution_count": 17,
   "metadata": {},
   "outputs": [
    {
     "name": "stdout",
     "output_type": "stream",
     "text": [
      "project1_eea: 133.14432989690712\n",
      "project2_eea: 70.18759193377169\n"
     ]
    }
   ],
   "source": [
    "project1_eea = np.pmt(rate=0.05, nper=3, pv=-1*project1_npv, fv=0)\n",
    "project2_eea = np.pmt(rate=0.05, nper=8, pv=-1*project2_npv, fv=0)\n",
    "print('project1_eea:', project1_eea)\n",
    "print('project2_eea:', project2_eea)"
   ]
  },
  {
   "cell_type": "markdown",
   "metadata": {},
   "source": [
    "project 1 has higher EEA than project 2"
   ]
  },
  {
   "cell_type": "markdown",
   "metadata": {},
   "source": [
    "# 3.0 Mortgage basics\n",
    "\n",
    "A mortgage is a loan that covers the remaining cost of a home after paying a percentage of the home value as downpayment.\n",
    "\n",
    "## Converting annual rate to periodic rate\n",
    "$ R_{periodic} = (1 + R_{annual})^{\\frac{1}{N}} - 1 $\n",
    "\n",
    "- `R`: rate of return\n",
    "- `N`: number of payment periods per year"
   ]
  },
  {
   "cell_type": "code",
   "execution_count": 18,
   "metadata": {},
   "outputs": [
    {
     "data": {
      "text/plain": [
       "0.009488792934583046"
      ]
     },
     "execution_count": 18,
     "metadata": {},
     "output_type": "execute_result"
    }
   ],
   "source": [
    "# Convert a 12% annual interest rate to the equivalent monthly rate\n",
    "(1 + 0.12)**(1/12) - 1"
   ]
  },
  {
   "cell_type": "code",
   "execution_count": 19,
   "metadata": {},
   "outputs": [],
   "source": [
    "def annual_to_periodic_rate(annualRate, periods=12):\n",
    "    \"\"\"\n",
    "    Returns a periodic rate\n",
    "\n",
    "    Parameters\n",
    "    ----------\n",
    "    annualRate: float\n",
    "        Represents the annual interest rate, where 0 = 0% and 1 = 100%\n",
    "    periods: int\n",
    "        Represents the number of payment periods per year\n",
    "    \"\"\"\n",
    "    if annualRate is None or not isinstance(annualRate, (float)):\n",
    "        raise ValueError('Please provide a valid annual rate with float datatype')\n",
    "    if periods is None or not isinstance(periods, (int)):\n",
    "        raise ValueError('Please provide a valid payment periods with int datatype')\n",
    "\n",
    "    periodicRate = (1 + annualRate)**(1/periods) - 1\n",
    "    return periodicRate"
   ]
  },
  {
   "cell_type": "markdown",
   "metadata": {},
   "source": [
    "Calculate the monthly mortgage payment of a $400k 30 year loan at 3.8% interest"
   ]
  },
  {
   "cell_type": "code",
   "execution_count": 20,
   "metadata": {},
   "outputs": [
    {
     "data": {
      "text/plain": [
       "-1849.145605207357"
      ]
     },
     "execution_count": 20,
     "metadata": {},
     "output_type": "execute_result"
    }
   ],
   "source": [
    "monthlyRate = annual_to_periodic_rate(.038)\n",
    "np.pmt(rate=monthlyRate, nper=12*30, pv=400000)"
   ]
  },
  {
   "cell_type": "markdown",
   "metadata": {},
   "source": [
    "# 3.1 Amortization, principal and interest\n",
    "\n",
    "## Amortization\n",
    "`Principal` (equity): The amount of your mortgage paid that counts towards the value of the house itself\n",
    "\n",
    "`Interest payment`: $ IP_{periodic} = RMB * R_{periodic} $\n",
    "\n",
    "`Principal payment`: $ PP_{periodic} = MP_{periodic} - IP_{periodic} $\n",
    "\n",
    "`PP`: prinicpal payment\n",
    "\n",
    "`MP`: mortgage payment\n",
    "\n",
    "`IP`: interest payment\n",
    "\n",
    "`R`: mortgage periodic interest rate\n",
    "\n",
    "`RMB`: remaining mortgage balance"
   ]
  },
  {
   "cell_type": "markdown",
   "metadata": {},
   "source": [
    "# 3.2 Home ownership, equity and forecasting\n",
    "\n",
    "`Home equity`: percent of the home you actually owned\n",
    "\n",
    "$ Percent\\ equity\\ owned = P_{downpayment} + \\frac{E_{cumulative,t}}{V_{home\\ value}} $\n",
    "\n",
    "$ E_{cumulative,t} = \\sum^T_{t=1} P_{principal,t} $\n",
    "\n",
    "$E_{cumulative,t}$: Cumulative home equity at time t\n",
    "\n",
    "$P_{principal,t}$: Principal payment at time t"
   ]
  },
  {
   "cell_type": "markdown",
   "metadata": {},
   "source": [
    "## Underwater mortgage\n",
    "\n",
    "It is when the remaining amount you owe on your mortgage is actually higher than the value of the house itself"
   ]
  },
  {
   "cell_type": "code",
   "execution_count": 21,
   "metadata": {},
   "outputs": [
    {
     "data": {
      "text/plain": [
       "array([1, 3, 6])"
      ]
     },
     "execution_count": 21,
     "metadata": {},
     "output_type": "execute_result"
    }
   ],
   "source": [
    "np.cumsum(np.array([1,2,3]))"
   ]
  },
  {
   "cell_type": "code",
   "execution_count": 22,
   "metadata": {},
   "outputs": [
    {
     "data": {
      "text/plain": [
       "array([1, 2, 6])"
      ]
     },
     "execution_count": 22,
     "metadata": {},
     "output_type": "execute_result"
    }
   ],
   "source": [
    "np.cumprod(np.array([1,2,3]))"
   ]
  },
  {
   "cell_type": "markdown",
   "metadata": {},
   "source": [
    "What's the cumulative value at each point in time of a $100 investment that grows by 3% in period 1, then 3% again in period 2, and then 5% in period 3?"
   ]
  },
  {
   "cell_type": "code",
   "execution_count": 23,
   "metadata": {},
   "outputs": [
    {
     "data": {
      "text/plain": [
       "array([1.03    , 1.0609  , 1.113945])"
      ]
     },
     "execution_count": 23,
     "metadata": {},
     "output_type": "execute_result"
    }
   ],
   "source": [
    "np.cumprod(1 + np.array([0.03,0.03,0.05]))"
   ]
  },
  {
   "cell_type": "markdown",
   "metadata": {},
   "source": [
    "# 4.0 Budgeting project proposal"
   ]
  },
  {
   "cell_type": "markdown",
   "metadata": {},
   "source": [
    "## Constant cumulative growth forecast\n",
    "\n",
    "What's the cumulative growth of an investment that grows by 3% per year for 3 years?"
   ]
  },
  {
   "cell_type": "code",
   "execution_count": 24,
   "metadata": {},
   "outputs": [
    {
     "data": {
      "text/plain": [
       "array([0.03    , 0.0609  , 0.092727])"
      ]
     },
     "execution_count": 24,
     "metadata": {},
     "output_type": "execute_result"
    }
   ],
   "source": [
    "np.cumprod(1 + np.repeat(0.03, 3)) - 1"
   ]
  },
  {
   "cell_type": "markdown",
   "metadata": {},
   "source": [
    "## Forecasting values from growth rates\n",
    "\n",
    "Compute the value at each point in time of an initial $100 investment that grows by 3% per year for 3 years"
   ]
  },
  {
   "cell_type": "code",
   "execution_count": 25,
   "metadata": {},
   "outputs": [
    {
     "data": {
      "text/plain": [
       "array([103.    , 106.09  , 109.2727])"
      ]
     },
     "execution_count": 25,
     "metadata": {},
     "output_type": "execute_result"
    }
   ],
   "source": [
    "100 * np.cumprod(1 + np.repeat(0.03, 3))"
   ]
  },
  {
   "cell_type": "markdown",
   "metadata": {},
   "source": [
    "# 4.1 Net worth and valuation in your personal financial life\n",
    "\n",
    "Net worth = Assets - liabilities = equity\n",
    "\n",
    "## Valuation\n",
    "- NPV (discount rate, cash flows)\n",
    "- Future cash flows, salary and expenses\n",
    "- Adjust for inflation"
   ]
  },
  {
   "cell_type": "markdown",
   "metadata": {},
   "source": [
    "# 4.2 The power of time and compound interest\n",
    "\n",
    "Save $1 million over 40 years. Assume an average 7% rate of return per year"
   ]
  },
  {
   "cell_type": "code",
   "execution_count": 26,
   "metadata": {},
   "outputs": [
    {
     "data": {
      "text/plain": [
       "-404.60570652994693"
      ]
     },
     "execution_count": 26,
     "metadata": {},
     "output_type": "execute_result"
    }
   ],
   "source": [
    "monthlyRate = annual_to_periodic_rate(0.07)\n",
    "np.pmt(rate=monthlyRate, nper=12*40, pv=0, fv=1000000)"
   ]
  },
  {
   "cell_type": "markdown",
   "metadata": {},
   "source": [
    "If ROI is 5% per year?"
   ]
  },
  {
   "cell_type": "code",
   "execution_count": 27,
   "metadata": {},
   "outputs": [
    {
     "data": {
      "text/plain": [
       "-674.5250658283281"
      ]
     },
     "execution_count": 27,
     "metadata": {},
     "output_type": "execute_result"
    }
   ],
   "source": [
    "monthlyRate = annual_to_periodic_rate(0.05)\n",
    "np.pmt(rate=monthlyRate, nper=12*40, pv=0, fv=1000000)"
   ]
  },
  {
   "cell_type": "markdown",
   "metadata": {},
   "source": [
    "Save $1 million over 25 years. Assume an average 7% rate of return per year"
   ]
  },
  {
   "cell_type": "code",
   "execution_count": 28,
   "metadata": {},
   "outputs": [
    {
     "data": {
      "text/plain": [
       "-1277.070900224547"
      ]
     },
     "execution_count": 28,
     "metadata": {},
     "output_type": "execute_result"
    }
   ],
   "source": [
    "monthlyRate = annual_to_periodic_rate(0.07)\n",
    "np.pmt(rate=monthlyRate, nper=12*25, pv=0, fv=1000000)"
   ]
  },
  {
   "cell_type": "markdown",
   "metadata": {},
   "source": [
    "If ROI is 5% per year?"
   ]
  },
  {
   "cell_type": "code",
   "execution_count": 29,
   "metadata": {},
   "outputs": [
    {
     "data": {
      "text/plain": [
       "-1707.2580921733218"
      ]
     },
     "execution_count": 29,
     "metadata": {},
     "output_type": "execute_result"
    }
   ],
   "source": [
    "monthlyRate = annual_to_periodic_rate(0.05)\n",
    "np.pmt(rate=monthlyRate, nper=12*25, pv=0, fv=1000000)"
   ]
  },
  {
   "cell_type": "markdown",
   "metadata": {},
   "source": [
    "Save $1 million over 10 years, assume an average 9% rate of return per year"
   ]
  },
  {
   "cell_type": "code",
   "execution_count": 30,
   "metadata": {},
   "outputs": [
    {
     "data": {
      "text/plain": [
       "-5270.962985239908"
      ]
     },
     "execution_count": 30,
     "metadata": {},
     "output_type": "execute_result"
    }
   ],
   "source": [
    "monthlyRate = annual_to_periodic_rate(0.09)\n",
    "np.pmt(rate=monthlyRate, nper=12*10, pv=0, fv=1000000)"
   ]
  },
  {
   "cell_type": "markdown",
   "metadata": {},
   "source": [
    "Assume an average rate of inflation of 3% per year, what will be present value of $1 million be worth in 25 years?"
   ]
  },
  {
   "cell_type": "code",
   "execution_count": 31,
   "metadata": {},
   "outputs": [
    {
     "data": {
      "text/plain": [
       "466974.7052543717"
      ]
     },
     "execution_count": 31,
     "metadata": {},
     "output_type": "execute_result"
    }
   ],
   "source": [
    "np.fv(rate=-0.03, nper=25, pv=-1000000, pmt=0)"
   ]
  },
  {
   "cell_type": "markdown",
   "metadata": {},
   "source": [
    "# 4.3 Summary\n",
    "\n",
    "- The time value of money\n",
    "- Compound interest\n",
    "- Discounting and projecting cash flows\n",
    "- Making rational economic decisions\n",
    "- Mortgage structures\n",
    "- Interest and equity\n",
    "- The cost of capital\n",
    "- Wealth accumulation"
   ]
  }
 ],
 "metadata": {
  "kernelspec": {
   "display_name": "Python 3",
   "language": "python",
   "name": "python3"
  },
  "language_info": {
   "codemirror_mode": {
    "name": "ipython",
    "version": 3
   },
   "file_extension": ".py",
   "mimetype": "text/x-python",
   "name": "python",
   "nbconvert_exporter": "python",
   "pygments_lexer": "ipython3",
   "version": "3.6.6"
  }
 },
 "nbformat": 4,
 "nbformat_minor": 2
}
