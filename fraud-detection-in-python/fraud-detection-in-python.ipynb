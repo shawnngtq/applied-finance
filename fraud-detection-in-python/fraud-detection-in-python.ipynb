{
 "cells": [
  {
   "cell_type": "markdown",
   "metadata": {},
   "source": [
    "# 1.1. Introduction to fraud detection"
   ]
  },
  {
   "cell_type": "code",
   "execution_count": 1,
   "metadata": {},
   "outputs": [],
   "source": [
    "import matplotlib.pyplot as plt\n",
    "import numpy as np\n",
    "import pandas as pd\n",
    "import seaborn as sns\n",
    "\n",
    "import sys\n",
    "FILEPATH='/home/anonymous/Documents/github/data-science/pandas'\n",
    "\n",
    "if FILEPATH not in sys.path:\n",
    "    sys.path.append(FILEPATH)\n",
    "\n",
    "import pandas_common"
   ]
  },
  {
   "cell_type": "code",
   "execution_count": 2,
   "metadata": {},
   "outputs": [
    {
     "data": {
      "text/plain": [
       "['/home/anonymous/anaconda3/lib/python36.zip',\n",
       " '/home/anonymous/anaconda3/lib/python3.6',\n",
       " '/home/anonymous/anaconda3/lib/python3.6/lib-dynload',\n",
       " '',\n",
       " '/home/anonymous/.local/lib/python3.6/site-packages',\n",
       " '/home/anonymous/anaconda3/lib/python3.6/site-packages',\n",
       " '/home/anonymous/anaconda3/lib/python3.6/site-packages/IPython/extensions',\n",
       " '/home/anonymous/.ipython',\n",
       " '/home/anonymous/Documents/github/data-science/pandas']"
      ]
     },
     "execution_count": 2,
     "metadata": {},
     "output_type": "execute_result"
    }
   ],
   "source": [
    "sys.path"
   ]
  },
  {
   "cell_type": "code",
   "execution_count": 3,
   "metadata": {},
   "outputs": [],
   "source": [
    "pandas_common.config_pandas_display()\n",
    "pd.set_option('display.max_colwidth', 500)"
   ]
  },
  {
   "cell_type": "code",
   "execution_count": 4,
   "metadata": {},
   "outputs": [],
   "source": [
    "def printListItemLength(List):\n",
    "    for item in List:\n",
    "        print(len(item))"
   ]
  },
  {
   "cell_type": "code",
   "execution_count": 5,
   "metadata": {
    "scrolled": true
   },
   "outputs": [
    {
     "name": "stdout",
     "output_type": "stream",
     "text": [
      "<class 'pandas.core.frame.DataFrame'>\n",
      "Int64Index: 8000 entries, 0 to 7999\n",
      "Data columns (total 31 columns):\n",
      "Time      8000 non-null int64\n",
      "V1        8000 non-null float64\n",
      "V2        8000 non-null float64\n",
      "V3        8000 non-null float64\n",
      "V4        8000 non-null float64\n",
      "V5        8000 non-null float64\n",
      "V6        8000 non-null float64\n",
      "V7        8000 non-null float64\n",
      "V8        8000 non-null float64\n",
      "V9        8000 non-null float64\n",
      "V10       8000 non-null float64\n",
      "V11       8000 non-null float64\n",
      "V12       8000 non-null float64\n",
      "V13       8000 non-null float64\n",
      "V14       8000 non-null float64\n",
      "V15       8000 non-null float64\n",
      "V16       8000 non-null float64\n",
      "V17       8000 non-null float64\n",
      "V18       8000 non-null float64\n",
      "V19       8000 non-null float64\n",
      "V20       8000 non-null float64\n",
      "V21       8000 non-null float64\n",
      "V22       8000 non-null float64\n",
      "V23       8000 non-null float64\n",
      "V24       8000 non-null float64\n",
      "V25       8000 non-null float64\n",
      "V26       8000 non-null float64\n",
      "V27       8000 non-null float64\n",
      "V28       8000 non-null float64\n",
      "Amount    8000 non-null float64\n",
      "Class     8000 non-null int64\n",
      "dtypes: float64(29), int64(2)\n",
      "memory usage: 2.0 MB\n"
     ]
    }
   ],
   "source": [
    "df = pd.read_csv('data/chapter_1/creditcard_sampledata.csv', index_col=0)\n",
    "df.info()"
   ]
  },
  {
   "cell_type": "code",
   "execution_count": 6,
   "metadata": {},
   "outputs": [
    {
     "data": {
      "text/plain": [
       "(8000, 31)"
      ]
     },
     "execution_count": 6,
     "metadata": {},
     "output_type": "execute_result"
    }
   ],
   "source": [
    "df.shape"
   ]
  },
  {
   "cell_type": "code",
   "execution_count": 7,
   "metadata": {
    "scrolled": true
   },
   "outputs": [
    {
     "name": "stdout",
     "output_type": "stream",
     "text": [
      "<class 'pandas.core.frame.DataFrame'>\n",
      "Int64Index: 5050 entries, 258647 to 63421\n",
      "Data columns (total 30 columns):\n",
      "V1        5050 non-null float64\n",
      "V2        5050 non-null float64\n",
      "V3        5050 non-null float64\n",
      "V4        5050 non-null float64\n",
      "V5        5050 non-null float64\n",
      "V6        5050 non-null float64\n",
      "V7        5050 non-null float64\n",
      "V8        5050 non-null float64\n",
      "V9        5050 non-null float64\n",
      "V10       5050 non-null float64\n",
      "V11       5050 non-null float64\n",
      "V12       5050 non-null float64\n",
      "V13       5050 non-null float64\n",
      "V14       5050 non-null float64\n",
      "V15       5050 non-null float64\n",
      "V16       5050 non-null float64\n",
      "V17       5050 non-null float64\n",
      "V18       5050 non-null float64\n",
      "V19       5050 non-null float64\n",
      "V20       5050 non-null float64\n",
      "V21       5050 non-null float64\n",
      "V22       5050 non-null float64\n",
      "V23       5050 non-null float64\n",
      "V24       5050 non-null float64\n",
      "V25       5050 non-null float64\n",
      "V26       5050 non-null float64\n",
      "V27       5050 non-null float64\n",
      "V28       5050 non-null float64\n",
      "Amount    5050 non-null float64\n",
      "Class     5050 non-null int64\n",
      "dtypes: float64(29), int64(1)\n",
      "memory usage: 1.2 MB\n"
     ]
    }
   ],
   "source": [
    "df1_2 = pd.read_csv('data/chapter_1/creditcard_sampledata_3.csv', index_col=0)\n",
    "df1_2.info()"
   ]
  },
  {
   "cell_type": "code",
   "execution_count": 8,
   "metadata": {},
   "outputs": [
    {
     "data": {
      "text/plain": [
       "(5050, 30)"
      ]
     },
     "execution_count": 8,
     "metadata": {},
     "output_type": "execute_result"
    }
   ],
   "source": [
    "df1_2.shape"
   ]
  },
  {
   "cell_type": "code",
   "execution_count": 9,
   "metadata": {},
   "outputs": [
    {
     "data": {
      "text/html": [
       "<div>\n",
       "<style scoped>\n",
       "    .dataframe tbody tr th:only-of-type {\n",
       "        vertical-align: middle;\n",
       "    }\n",
       "\n",
       "    .dataframe tbody tr th {\n",
       "        vertical-align: top;\n",
       "    }\n",
       "\n",
       "    .dataframe thead th {\n",
       "        text-align: right;\n",
       "    }\n",
       "</style>\n",
       "<table border=\"1\" class=\"dataframe\">\n",
       "  <thead>\n",
       "    <tr style=\"text-align: right;\">\n",
       "      <th></th>\n",
       "      <th>V1</th>\n",
       "      <th>V2</th>\n",
       "      <th>V3</th>\n",
       "      <th>V4</th>\n",
       "      <th>V5</th>\n",
       "      <th>V6</th>\n",
       "      <th>V7</th>\n",
       "      <th>V8</th>\n",
       "      <th>V9</th>\n",
       "      <th>V10</th>\n",
       "      <th>V11</th>\n",
       "      <th>V12</th>\n",
       "      <th>V13</th>\n",
       "      <th>V14</th>\n",
       "      <th>V15</th>\n",
       "      <th>V16</th>\n",
       "      <th>V17</th>\n",
       "      <th>V18</th>\n",
       "      <th>V19</th>\n",
       "      <th>V20</th>\n",
       "      <th>V21</th>\n",
       "      <th>V22</th>\n",
       "      <th>V23</th>\n",
       "      <th>V24</th>\n",
       "      <th>V25</th>\n",
       "      <th>V26</th>\n",
       "      <th>V27</th>\n",
       "      <th>V28</th>\n",
       "      <th>Amount</th>\n",
       "      <th>Class</th>\n",
       "    </tr>\n",
       "  </thead>\n",
       "  <tbody>\n",
       "    <tr>\n",
       "      <th>258647</th>\n",
       "      <td>1.725265</td>\n",
       "      <td>-1.337256</td>\n",
       "      <td>-1.012687</td>\n",
       "      <td>-0.361656</td>\n",
       "      <td>-1.431611</td>\n",
       "      <td>-1.098681</td>\n",
       "      <td>-0.842274</td>\n",
       "      <td>-0.026594</td>\n",
       "      <td>-0.032409</td>\n",
       "      <td>0.215113</td>\n",
       "      <td>1.618952</td>\n",
       "      <td>-0.654046</td>\n",
       "      <td>-1.442665</td>\n",
       "      <td>-1.546538</td>\n",
       "      <td>-0.230008</td>\n",
       "      <td>1.785539</td>\n",
       "      <td>1.419793</td>\n",
       "      <td>0.071666</td>\n",
       "      <td>0.233031</td>\n",
       "      <td>0.275911</td>\n",
       "      <td>0.414524</td>\n",
       "      <td>0.793434</td>\n",
       "      <td>0.028887</td>\n",
       "      <td>0.419421</td>\n",
       "      <td>-0.367529</td>\n",
       "      <td>-0.155634</td>\n",
       "      <td>-0.015768</td>\n",
       "      <td>0.010790</td>\n",
       "      <td>189.00</td>\n",
       "      <td>0</td>\n",
       "    </tr>\n",
       "    <tr>\n",
       "      <th>69263</th>\n",
       "      <td>0.683254</td>\n",
       "      <td>-1.681875</td>\n",
       "      <td>0.533349</td>\n",
       "      <td>-0.326064</td>\n",
       "      <td>-1.455603</td>\n",
       "      <td>0.101832</td>\n",
       "      <td>-0.520590</td>\n",
       "      <td>0.114036</td>\n",
       "      <td>-0.601760</td>\n",
       "      <td>0.444011</td>\n",
       "      <td>1.521570</td>\n",
       "      <td>0.499202</td>\n",
       "      <td>-0.127849</td>\n",
       "      <td>-0.237253</td>\n",
       "      <td>-0.752351</td>\n",
       "      <td>0.667190</td>\n",
       "      <td>0.724785</td>\n",
       "      <td>-1.736615</td>\n",
       "      <td>0.702088</td>\n",
       "      <td>0.638186</td>\n",
       "      <td>0.116898</td>\n",
       "      <td>-0.304605</td>\n",
       "      <td>-0.125547</td>\n",
       "      <td>0.244848</td>\n",
       "      <td>0.069163</td>\n",
       "      <td>-0.460712</td>\n",
       "      <td>-0.017068</td>\n",
       "      <td>0.063542</td>\n",
       "      <td>315.17</td>\n",
       "      <td>0</td>\n",
       "    </tr>\n",
       "  </tbody>\n",
       "</table>\n",
       "</div>"
      ],
      "text/plain": [
       "              V1        V2        V3        V4        V5        V6        V7  \\\n",
       "258647  1.725265 -1.337256 -1.012687 -0.361656 -1.431611 -1.098681 -0.842274   \n",
       "69263   0.683254 -1.681875  0.533349 -0.326064 -1.455603  0.101832 -0.520590   \n",
       "\n",
       "              V8        V9       V10       V11       V12       V13       V14  \\\n",
       "258647 -0.026594 -0.032409  0.215113  1.618952 -0.654046 -1.442665 -1.546538   \n",
       "69263   0.114036 -0.601760  0.444011  1.521570  0.499202 -0.127849 -0.237253   \n",
       "\n",
       "             V15       V16       V17       V18       V19       V20       V21  \\\n",
       "258647 -0.230008  1.785539  1.419793  0.071666  0.233031  0.275911  0.414524   \n",
       "69263  -0.752351  0.667190  0.724785 -1.736615  0.702088  0.638186  0.116898   \n",
       "\n",
       "             V22       V23       V24       V25       V26       V27       V28  \\\n",
       "258647  0.793434  0.028887  0.419421 -0.367529 -0.155634 -0.015768  0.010790   \n",
       "69263  -0.304605 -0.125547  0.244848  0.069163 -0.460712 -0.017068  0.063542   \n",
       "\n",
       "        Amount  Class  \n",
       "258647  189.00      0  \n",
       "69263   315.17      0  "
      ]
     },
     "execution_count": 9,
     "metadata": {},
     "output_type": "execute_result"
    }
   ],
   "source": [
    "df1_2.head(2)"
   ]
  },
  {
   "cell_type": "code",
   "execution_count": 10,
   "metadata": {},
   "outputs": [
    {
     "data": {
      "text/html": [
       "<div>\n",
       "<style scoped>\n",
       "    .dataframe tbody tr th:only-of-type {\n",
       "        vertical-align: middle;\n",
       "    }\n",
       "\n",
       "    .dataframe tbody tr th {\n",
       "        vertical-align: top;\n",
       "    }\n",
       "\n",
       "    .dataframe thead th {\n",
       "        text-align: right;\n",
       "    }\n",
       "</style>\n",
       "<table border=\"1\" class=\"dataframe\">\n",
       "  <thead>\n",
       "    <tr style=\"text-align: right;\">\n",
       "      <th></th>\n",
       "      <th>V1</th>\n",
       "      <th>V2</th>\n",
       "      <th>V3</th>\n",
       "      <th>V4</th>\n",
       "      <th>V5</th>\n",
       "      <th>V6</th>\n",
       "      <th>V7</th>\n",
       "      <th>V8</th>\n",
       "      <th>V9</th>\n",
       "      <th>V10</th>\n",
       "      <th>V11</th>\n",
       "      <th>V12</th>\n",
       "      <th>V13</th>\n",
       "      <th>V14</th>\n",
       "      <th>V15</th>\n",
       "      <th>V16</th>\n",
       "      <th>V17</th>\n",
       "      <th>V18</th>\n",
       "      <th>V19</th>\n",
       "      <th>V20</th>\n",
       "      <th>V21</th>\n",
       "      <th>V22</th>\n",
       "      <th>V23</th>\n",
       "      <th>V24</th>\n",
       "      <th>V25</th>\n",
       "      <th>V26</th>\n",
       "      <th>V27</th>\n",
       "      <th>V28</th>\n",
       "      <th>Amount</th>\n",
       "      <th>Class</th>\n",
       "    </tr>\n",
       "  </thead>\n",
       "  <tbody>\n",
       "    <tr>\n",
       "      <th>count</th>\n",
       "      <td>5050.000000</td>\n",
       "      <td>5050.000000</td>\n",
       "      <td>5050.000000</td>\n",
       "      <td>5050.000000</td>\n",
       "      <td>5050.000000</td>\n",
       "      <td>5050.000000</td>\n",
       "      <td>5050.000000</td>\n",
       "      <td>5050.000000</td>\n",
       "      <td>5050.000000</td>\n",
       "      <td>5050.000000</td>\n",
       "      <td>5050.000000</td>\n",
       "      <td>5050.000000</td>\n",
       "      <td>5050.000000</td>\n",
       "      <td>5050.000000</td>\n",
       "      <td>5050.000000</td>\n",
       "      <td>5050.000000</td>\n",
       "      <td>5050.000000</td>\n",
       "      <td>5050.000000</td>\n",
       "      <td>5050.000000</td>\n",
       "      <td>5050.000000</td>\n",
       "      <td>5050.000000</td>\n",
       "      <td>5050.000000</td>\n",
       "      <td>5050.000000</td>\n",
       "      <td>5050.000000</td>\n",
       "      <td>5050.000000</td>\n",
       "      <td>5050.000000</td>\n",
       "      <td>5050.000000</td>\n",
       "      <td>5050.000000</td>\n",
       "      <td>5050.000000</td>\n",
       "      <td>5050.000000</td>\n",
       "    </tr>\n",
       "    <tr>\n",
       "      <th>mean</th>\n",
       "      <td>-0.014675</td>\n",
       "      <td>0.044325</td>\n",
       "      <td>-0.035144</td>\n",
       "      <td>0.002494</td>\n",
       "      <td>-0.046625</td>\n",
       "      <td>-0.046340</td>\n",
       "      <td>-0.043020</td>\n",
       "      <td>-0.008398</td>\n",
       "      <td>-0.027331</td>\n",
       "      <td>-0.056943</td>\n",
       "      <td>0.035342</td>\n",
       "      <td>-0.052371</td>\n",
       "      <td>0.003131</td>\n",
       "      <td>-0.063824</td>\n",
       "      <td>-0.027567</td>\n",
       "      <td>-0.044949</td>\n",
       "      <td>-0.070704</td>\n",
       "      <td>-0.037026</td>\n",
       "      <td>-0.007536</td>\n",
       "      <td>-0.000940</td>\n",
       "      <td>-0.003516</td>\n",
       "      <td>-0.009421</td>\n",
       "      <td>-0.004147</td>\n",
       "      <td>-0.001200</td>\n",
       "      <td>-0.003314</td>\n",
       "      <td>-0.004836</td>\n",
       "      <td>-0.005726</td>\n",
       "      <td>0.002482</td>\n",
       "      <td>86.117232</td>\n",
       "      <td>0.009901</td>\n",
       "    </tr>\n",
       "    <tr>\n",
       "      <th>std</th>\n",
       "      <td>1.952784</td>\n",
       "      <td>1.558235</td>\n",
       "      <td>1.691458</td>\n",
       "      <td>1.493592</td>\n",
       "      <td>1.321320</td>\n",
       "      <td>1.254301</td>\n",
       "      <td>1.338170</td>\n",
       "      <td>1.323247</td>\n",
       "      <td>1.134506</td>\n",
       "      <td>1.278092</td>\n",
       "      <td>1.105792</td>\n",
       "      <td>1.259155</td>\n",
       "      <td>0.994961</td>\n",
       "      <td>1.190900</td>\n",
       "      <td>0.905586</td>\n",
       "      <td>1.031225</td>\n",
       "      <td>1.234009</td>\n",
       "      <td>0.894977</td>\n",
       "      <td>0.827070</td>\n",
       "      <td>0.715765</td>\n",
       "      <td>0.756735</td>\n",
       "      <td>0.724749</td>\n",
       "      <td>0.601276</td>\n",
       "      <td>0.599400</td>\n",
       "      <td>0.517363</td>\n",
       "      <td>0.481913</td>\n",
       "      <td>0.411055</td>\n",
       "      <td>0.302719</td>\n",
       "      <td>227.210259</td>\n",
       "      <td>0.099020</td>\n",
       "    </tr>\n",
       "    <tr>\n",
       "      <th>min</th>\n",
       "      <td>-25.266355</td>\n",
       "      <td>-18.701995</td>\n",
       "      <td>-26.823673</td>\n",
       "      <td>-4.575708</td>\n",
       "      <td>-18.664251</td>\n",
       "      <td>-6.357009</td>\n",
       "      <td>-23.783470</td>\n",
       "      <td>-41.484823</td>\n",
       "      <td>-8.504285</td>\n",
       "      <td>-17.141514</td>\n",
       "      <td>-3.469084</td>\n",
       "      <td>-18.683715</td>\n",
       "      <td>-3.539561</td>\n",
       "      <td>-15.297656</td>\n",
       "      <td>-3.875765</td>\n",
       "      <td>-14.129855</td>\n",
       "      <td>-21.338195</td>\n",
       "      <td>-8.484449</td>\n",
       "      <td>-4.038451</td>\n",
       "      <td>-13.421949</td>\n",
       "      <td>-20.262054</td>\n",
       "      <td>-5.532541</td>\n",
       "      <td>-17.026156</td>\n",
       "      <td>-2.307453</td>\n",
       "      <td>-3.308049</td>\n",
       "      <td>-1.715640</td>\n",
       "      <td>-7.976100</td>\n",
       "      <td>-5.048979</td>\n",
       "      <td>0.000000</td>\n",
       "      <td>0.000000</td>\n",
       "    </tr>\n",
       "    <tr>\n",
       "      <th>25%</th>\n",
       "      <td>-0.926226</td>\n",
       "      <td>-0.589562</td>\n",
       "      <td>-0.873696</td>\n",
       "      <td>-0.871759</td>\n",
       "      <td>-0.733235</td>\n",
       "      <td>-0.777552</td>\n",
       "      <td>-0.571678</td>\n",
       "      <td>-0.211263</td>\n",
       "      <td>-0.651215</td>\n",
       "      <td>-0.541561</td>\n",
       "      <td>-0.752762</td>\n",
       "      <td>-0.438689</td>\n",
       "      <td>-0.639214</td>\n",
       "      <td>-0.462520</td>\n",
       "      <td>-0.601438</td>\n",
       "      <td>-0.490668</td>\n",
       "      <td>-0.490088</td>\n",
       "      <td>-0.508041</td>\n",
       "      <td>-0.471003</td>\n",
       "      <td>-0.212240</td>\n",
       "      <td>-0.231508</td>\n",
       "      <td>-0.558904</td>\n",
       "      <td>-0.161166</td>\n",
       "      <td>-0.354973</td>\n",
       "      <td>-0.316947</td>\n",
       "      <td>-0.331584</td>\n",
       "      <td>-0.070963</td>\n",
       "      <td>-0.052133</td>\n",
       "      <td>4.990000</td>\n",
       "      <td>0.000000</td>\n",
       "    </tr>\n",
       "    <tr>\n",
       "      <th>50%</th>\n",
       "      <td>0.009592</td>\n",
       "      <td>0.088726</td>\n",
       "      <td>0.168377</td>\n",
       "      <td>-0.027034</td>\n",
       "      <td>-0.060932</td>\n",
       "      <td>-0.304225</td>\n",
       "      <td>0.036753</td>\n",
       "      <td>0.000985</td>\n",
       "      <td>-0.052724</td>\n",
       "      <td>-0.109888</td>\n",
       "      <td>-0.032953</td>\n",
       "      <td>0.144052</td>\n",
       "      <td>-0.019056</td>\n",
       "      <td>0.032090</td>\n",
       "      <td>0.013126</td>\n",
       "      <td>0.064560</td>\n",
       "      <td>-0.077191</td>\n",
       "      <td>-0.021247</td>\n",
       "      <td>-0.004843</td>\n",
       "      <td>-0.062039</td>\n",
       "      <td>-0.035204</td>\n",
       "      <td>-0.013332</td>\n",
       "      <td>-0.011305</td>\n",
       "      <td>0.038272</td>\n",
       "      <td>0.019200</td>\n",
       "      <td>-0.059882</td>\n",
       "      <td>0.003521</td>\n",
       "      <td>0.012842</td>\n",
       "      <td>20.260000</td>\n",
       "      <td>0.000000</td>\n",
       "    </tr>\n",
       "    <tr>\n",
       "      <th>75%</th>\n",
       "      <td>1.310062</td>\n",
       "      <td>0.809298</td>\n",
       "      <td>1.017166</td>\n",
       "      <td>0.763626</td>\n",
       "      <td>0.603678</td>\n",
       "      <td>0.356664</td>\n",
       "      <td>0.594029</td>\n",
       "      <td>0.313264</td>\n",
       "      <td>0.568374</td>\n",
       "      <td>0.437051</td>\n",
       "      <td>0.759681</td>\n",
       "      <td>0.623239</td>\n",
       "      <td>0.683348</td>\n",
       "      <td>0.466251</td>\n",
       "      <td>0.607702</td>\n",
       "      <td>0.516420</td>\n",
       "      <td>0.389950</td>\n",
       "      <td>0.469353</td>\n",
       "      <td>0.458362</td>\n",
       "      <td>0.124908</td>\n",
       "      <td>0.196481</td>\n",
       "      <td>0.509243</td>\n",
       "      <td>0.146835</td>\n",
       "      <td>0.441278</td>\n",
       "      <td>0.348177</td>\n",
       "      <td>0.228486</td>\n",
       "      <td>0.095662</td>\n",
       "      <td>0.077357</td>\n",
       "      <td>75.000000</td>\n",
       "      <td>0.000000</td>\n",
       "    </tr>\n",
       "    <tr>\n",
       "      <th>max</th>\n",
       "      <td>2.422508</td>\n",
       "      <td>14.323254</td>\n",
       "      <td>3.760965</td>\n",
       "      <td>11.885313</td>\n",
       "      <td>9.880564</td>\n",
       "      <td>7.473970</td>\n",
       "      <td>9.288494</td>\n",
       "      <td>16.633103</td>\n",
       "      <td>8.054123</td>\n",
       "      <td>12.562347</td>\n",
       "      <td>9.939820</td>\n",
       "      <td>4.846452</td>\n",
       "      <td>3.579906</td>\n",
       "      <td>6.634483</td>\n",
       "      <td>3.363685</td>\n",
       "      <td>3.620831</td>\n",
       "      <td>6.024397</td>\n",
       "      <td>3.531250</td>\n",
       "      <td>4.851255</td>\n",
       "      <td>10.150611</td>\n",
       "      <td>19.283602</td>\n",
       "      <td>5.805795</td>\n",
       "      <td>13.218751</td>\n",
       "      <td>3.535179</td>\n",
       "      <td>3.590787</td>\n",
       "      <td>2.961609</td>\n",
       "      <td>4.623508</td>\n",
       "      <td>9.876371</td>\n",
       "      <td>4584.880000</td>\n",
       "      <td>1.000000</td>\n",
       "    </tr>\n",
       "  </tbody>\n",
       "</table>\n",
       "</div>"
      ],
      "text/plain": [
       "                V1           V2           V3           V4           V5  \\\n",
       "count  5050.000000  5050.000000  5050.000000  5050.000000  5050.000000   \n",
       "mean     -0.014675     0.044325    -0.035144     0.002494    -0.046625   \n",
       "std       1.952784     1.558235     1.691458     1.493592     1.321320   \n",
       "min     -25.266355   -18.701995   -26.823673    -4.575708   -18.664251   \n",
       "25%      -0.926226    -0.589562    -0.873696    -0.871759    -0.733235   \n",
       "50%       0.009592     0.088726     0.168377    -0.027034    -0.060932   \n",
       "75%       1.310062     0.809298     1.017166     0.763626     0.603678   \n",
       "max       2.422508    14.323254     3.760965    11.885313     9.880564   \n",
       "\n",
       "                V6           V7           V8           V9          V10  \\\n",
       "count  5050.000000  5050.000000  5050.000000  5050.000000  5050.000000   \n",
       "mean     -0.046340    -0.043020    -0.008398    -0.027331    -0.056943   \n",
       "std       1.254301     1.338170     1.323247     1.134506     1.278092   \n",
       "min      -6.357009   -23.783470   -41.484823    -8.504285   -17.141514   \n",
       "25%      -0.777552    -0.571678    -0.211263    -0.651215    -0.541561   \n",
       "50%      -0.304225     0.036753     0.000985    -0.052724    -0.109888   \n",
       "75%       0.356664     0.594029     0.313264     0.568374     0.437051   \n",
       "max       7.473970     9.288494    16.633103     8.054123    12.562347   \n",
       "\n",
       "               V11          V12          V13          V14          V15  \\\n",
       "count  5050.000000  5050.000000  5050.000000  5050.000000  5050.000000   \n",
       "mean      0.035342    -0.052371     0.003131    -0.063824    -0.027567   \n",
       "std       1.105792     1.259155     0.994961     1.190900     0.905586   \n",
       "min      -3.469084   -18.683715    -3.539561   -15.297656    -3.875765   \n",
       "25%      -0.752762    -0.438689    -0.639214    -0.462520    -0.601438   \n",
       "50%      -0.032953     0.144052    -0.019056     0.032090     0.013126   \n",
       "75%       0.759681     0.623239     0.683348     0.466251     0.607702   \n",
       "max       9.939820     4.846452     3.579906     6.634483     3.363685   \n",
       "\n",
       "               V16          V17          V18          V19          V20  \\\n",
       "count  5050.000000  5050.000000  5050.000000  5050.000000  5050.000000   \n",
       "mean     -0.044949    -0.070704    -0.037026    -0.007536    -0.000940   \n",
       "std       1.031225     1.234009     0.894977     0.827070     0.715765   \n",
       "min     -14.129855   -21.338195    -8.484449    -4.038451   -13.421949   \n",
       "25%      -0.490668    -0.490088    -0.508041    -0.471003    -0.212240   \n",
       "50%       0.064560    -0.077191    -0.021247    -0.004843    -0.062039   \n",
       "75%       0.516420     0.389950     0.469353     0.458362     0.124908   \n",
       "max       3.620831     6.024397     3.531250     4.851255    10.150611   \n",
       "\n",
       "               V21          V22          V23          V24          V25  \\\n",
       "count  5050.000000  5050.000000  5050.000000  5050.000000  5050.000000   \n",
       "mean     -0.003516    -0.009421    -0.004147    -0.001200    -0.003314   \n",
       "std       0.756735     0.724749     0.601276     0.599400     0.517363   \n",
       "min     -20.262054    -5.532541   -17.026156    -2.307453    -3.308049   \n",
       "25%      -0.231508    -0.558904    -0.161166    -0.354973    -0.316947   \n",
       "50%      -0.035204    -0.013332    -0.011305     0.038272     0.019200   \n",
       "75%       0.196481     0.509243     0.146835     0.441278     0.348177   \n",
       "max      19.283602     5.805795    13.218751     3.535179     3.590787   \n",
       "\n",
       "               V26          V27          V28       Amount        Class  \n",
       "count  5050.000000  5050.000000  5050.000000  5050.000000  5050.000000  \n",
       "mean     -0.004836    -0.005726     0.002482    86.117232     0.009901  \n",
       "std       0.481913     0.411055     0.302719   227.210259     0.099020  \n",
       "min      -1.715640    -7.976100    -5.048979     0.000000     0.000000  \n",
       "25%      -0.331584    -0.070963    -0.052133     4.990000     0.000000  \n",
       "50%      -0.059882     0.003521     0.012842    20.260000     0.000000  \n",
       "75%       0.228486     0.095662     0.077357    75.000000     0.000000  \n",
       "max       2.961609     4.623508     9.876371  4584.880000     1.000000  "
      ]
     },
     "execution_count": 10,
     "metadata": {},
     "output_type": "execute_result"
    }
   ],
   "source": [
    "df1_2.describe()"
   ]
  },
  {
   "cell_type": "code",
   "execution_count": 11,
   "metadata": {},
   "outputs": [
    {
     "data": {
      "text/plain": [
       "0    5000\n",
       "1      50\n",
       "Name: Class, dtype: int64"
      ]
     },
     "execution_count": 11,
     "metadata": {},
     "output_type": "execute_result"
    }
   ],
   "source": [
    "df1_2['Class'].value_counts()"
   ]
  },
  {
   "cell_type": "markdown",
   "metadata": {},
   "source": [
    "# 1.1. Increasing successful detections using data sampling"
   ]
  },
  {
   "cell_type": "code",
   "execution_count": 12,
   "metadata": {},
   "outputs": [
    {
     "name": "stderr",
     "output_type": "stream",
     "text": [
      "/home/anonymous/anaconda3/lib/python3.6/site-packages/sklearn/externals/six.py:31: DeprecationWarning: The module is deprecated in version 0.21 and will be removed in version 0.23 since we've dropped support for Python 2.7. Please rely on the official version of six (https://pypi.org/project/six/).\n",
      "  \"(https://pypi.org/project/six/).\", DeprecationWarning)\n"
     ]
    }
   ],
   "source": [
    "from imblearn.over_sampling import RandomOverSampler"
   ]
  },
  {
   "cell_type": "code",
   "execution_count": 13,
   "metadata": {},
   "outputs": [
    {
     "data": {
      "text/plain": [
       "Index(['V1', 'V2', 'V3', 'V4', 'V5', 'V6', 'V7', 'V8', 'V9', 'V10', 'V11',\n",
       "       'V12', 'V13', 'V14', 'V15', 'V16', 'V17', 'V18', 'V19', 'V20', 'V21',\n",
       "       'V22', 'V23', 'V24', 'V25', 'V26', 'V27', 'V28', 'Amount'],\n",
       "      dtype='object')"
      ]
     },
     "execution_count": 13,
     "metadata": {},
     "output_type": "execute_result"
    }
   ],
   "source": [
    "labels = df1_2.columns[:-1]\n",
    "labels"
   ]
  },
  {
   "cell_type": "code",
   "execution_count": 14,
   "metadata": {},
   "outputs": [
    {
     "data": {
      "text/html": [
       "<div>\n",
       "<style scoped>\n",
       "    .dataframe tbody tr th:only-of-type {\n",
       "        vertical-align: middle;\n",
       "    }\n",
       "\n",
       "    .dataframe tbody tr th {\n",
       "        vertical-align: top;\n",
       "    }\n",
       "\n",
       "    .dataframe thead th {\n",
       "        text-align: right;\n",
       "    }\n",
       "</style>\n",
       "<table border=\"1\" class=\"dataframe\">\n",
       "  <thead>\n",
       "    <tr style=\"text-align: right;\">\n",
       "      <th></th>\n",
       "      <th>V1</th>\n",
       "      <th>V2</th>\n",
       "      <th>V3</th>\n",
       "      <th>V4</th>\n",
       "      <th>V5</th>\n",
       "      <th>V6</th>\n",
       "      <th>V7</th>\n",
       "      <th>V8</th>\n",
       "      <th>V9</th>\n",
       "      <th>V10</th>\n",
       "      <th>V11</th>\n",
       "      <th>V12</th>\n",
       "      <th>V13</th>\n",
       "      <th>V14</th>\n",
       "      <th>V15</th>\n",
       "      <th>V16</th>\n",
       "      <th>V17</th>\n",
       "      <th>V18</th>\n",
       "      <th>V19</th>\n",
       "      <th>V20</th>\n",
       "      <th>V21</th>\n",
       "      <th>V22</th>\n",
       "      <th>V23</th>\n",
       "      <th>V24</th>\n",
       "      <th>V25</th>\n",
       "      <th>V26</th>\n",
       "      <th>V27</th>\n",
       "      <th>V28</th>\n",
       "      <th>Amount</th>\n",
       "    </tr>\n",
       "  </thead>\n",
       "  <tbody>\n",
       "    <tr>\n",
       "      <th>258647</th>\n",
       "      <td>1.725265</td>\n",
       "      <td>-1.337256</td>\n",
       "      <td>-1.012687</td>\n",
       "      <td>-0.361656</td>\n",
       "      <td>-1.431611</td>\n",
       "      <td>-1.098681</td>\n",
       "      <td>-0.842274</td>\n",
       "      <td>-0.026594</td>\n",
       "      <td>-0.032409</td>\n",
       "      <td>0.215113</td>\n",
       "      <td>1.618952</td>\n",
       "      <td>-0.654046</td>\n",
       "      <td>-1.442665</td>\n",
       "      <td>-1.546538</td>\n",
       "      <td>-0.230008</td>\n",
       "      <td>1.785539</td>\n",
       "      <td>1.419793</td>\n",
       "      <td>0.071666</td>\n",
       "      <td>0.233031</td>\n",
       "      <td>0.275911</td>\n",
       "      <td>0.414524</td>\n",
       "      <td>0.793434</td>\n",
       "      <td>0.028887</td>\n",
       "      <td>0.419421</td>\n",
       "      <td>-0.367529</td>\n",
       "      <td>-0.155634</td>\n",
       "      <td>-0.015768</td>\n",
       "      <td>0.010790</td>\n",
       "      <td>189.00</td>\n",
       "    </tr>\n",
       "    <tr>\n",
       "      <th>69263</th>\n",
       "      <td>0.683254</td>\n",
       "      <td>-1.681875</td>\n",
       "      <td>0.533349</td>\n",
       "      <td>-0.326064</td>\n",
       "      <td>-1.455603</td>\n",
       "      <td>0.101832</td>\n",
       "      <td>-0.520590</td>\n",
       "      <td>0.114036</td>\n",
       "      <td>-0.601760</td>\n",
       "      <td>0.444011</td>\n",
       "      <td>1.521570</td>\n",
       "      <td>0.499202</td>\n",
       "      <td>-0.127849</td>\n",
       "      <td>-0.237253</td>\n",
       "      <td>-0.752351</td>\n",
       "      <td>0.667190</td>\n",
       "      <td>0.724785</td>\n",
       "      <td>-1.736615</td>\n",
       "      <td>0.702088</td>\n",
       "      <td>0.638186</td>\n",
       "      <td>0.116898</td>\n",
       "      <td>-0.304605</td>\n",
       "      <td>-0.125547</td>\n",
       "      <td>0.244848</td>\n",
       "      <td>0.069163</td>\n",
       "      <td>-0.460712</td>\n",
       "      <td>-0.017068</td>\n",
       "      <td>0.063542</td>\n",
       "      <td>315.17</td>\n",
       "    </tr>\n",
       "  </tbody>\n",
       "</table>\n",
       "</div>"
      ],
      "text/plain": [
       "              V1        V2        V3        V4        V5        V6        V7  \\\n",
       "258647  1.725265 -1.337256 -1.012687 -0.361656 -1.431611 -1.098681 -0.842274   \n",
       "69263   0.683254 -1.681875  0.533349 -0.326064 -1.455603  0.101832 -0.520590   \n",
       "\n",
       "              V8        V9       V10       V11       V12       V13       V14  \\\n",
       "258647 -0.026594 -0.032409  0.215113  1.618952 -0.654046 -1.442665 -1.546538   \n",
       "69263   0.114036 -0.601760  0.444011  1.521570  0.499202 -0.127849 -0.237253   \n",
       "\n",
       "             V15       V16       V17       V18       V19       V20       V21  \\\n",
       "258647 -0.230008  1.785539  1.419793  0.071666  0.233031  0.275911  0.414524   \n",
       "69263  -0.752351  0.667190  0.724785 -1.736615  0.702088  0.638186  0.116898   \n",
       "\n",
       "             V22       V23       V24       V25       V26       V27       V28  \\\n",
       "258647  0.793434  0.028887  0.419421 -0.367529 -0.155634 -0.015768  0.010790   \n",
       "69263  -0.304605 -0.125547  0.244848  0.069163 -0.460712 -0.017068  0.063542   \n",
       "\n",
       "        Amount  \n",
       "258647  189.00  \n",
       "69263   315.17  "
      ]
     },
     "execution_count": 14,
     "metadata": {},
     "output_type": "execute_result"
    }
   ],
   "source": [
    "X = df1_2[labels]\n",
    "X.head(2)"
   ]
  },
  {
   "cell_type": "code",
   "execution_count": 15,
   "metadata": {},
   "outputs": [
    {
     "data": {
      "text/plain": [
       "258647    0\n",
       "69263     0\n",
       "Name: Class, dtype: int64"
      ]
     },
     "execution_count": 15,
     "metadata": {},
     "output_type": "execute_result"
    }
   ],
   "source": [
    "y = df1_2['Class']\n",
    "y.head(2)"
   ]
  },
  {
   "cell_type": "code",
   "execution_count": 16,
   "metadata": {},
   "outputs": [
    {
     "name": "stdout",
     "output_type": "stream",
     "text": [
      "X_resampled: [[ 1.72526466e+00 -1.33725592e+00 -1.01268723e+00 -3.61656463e-01\n",
      "  -1.43161112e+00 -1.09868097e+00 -8.42273887e-01 -2.65944111e-02\n",
      "  -3.24086916e-02  2.15113318e-01  1.61895151e+00 -6.54046265e-01\n",
      "  -1.44266462e+00 -1.54653811e+00 -2.30008313e-01  1.78553942e+00\n",
      "   1.41979301e+00  7.16655170e-02  2.33031136e-01  2.75911462e-01\n",
      "   4.14523549e-01  7.93433622e-01  2.88866295e-02  4.19420877e-01\n",
      "  -3.67528630e-01 -1.55634495e-01 -1.57676763e-02  1.07902703e-02\n",
      "   1.89000000e+02]\n",
      " [ 6.83253845e-01 -1.68187486e+00  5.33349336e-01 -3.26064341e-01\n",
      "  -1.45560260e+00  1.01831722e-01 -5.20590367e-01  1.14036026e-01\n",
      "  -6.01759617e-01  4.44011205e-01  1.52157013e+00  4.99202119e-01\n",
      "  -1.27848981e-01 -2.37253049e-01 -7.52351221e-01  6.67190352e-01\n",
      "   7.24785310e-01 -1.73661453e+00  7.02087839e-01  6.38185555e-01\n",
      "   1.16897942e-01 -3.04605373e-01 -1.25546963e-01  2.44847768e-01\n",
      "   6.91630813e-02 -4.60711621e-01 -1.70682293e-02  6.35420640e-02\n",
      "   3.15170000e+02]]\n",
      "y_resampled: [0 0]\n"
     ]
    }
   ],
   "source": [
    "method = RandomOverSampler()\n",
    "X_resampled, y_resampled = method.fit_sample(X, y)\n",
    "print('X_resampled:', X_resampled[:2])\n",
    "print('y_resampled:', y_resampled[:2])"
   ]
  },
  {
   "cell_type": "code",
   "execution_count": 17,
   "metadata": {},
   "outputs": [],
   "source": [
    "# compare_plots(X_resampled, y_resampled, X, y)"
   ]
  },
  {
   "cell_type": "code",
   "execution_count": 18,
   "metadata": {},
   "outputs": [],
   "source": [
    "from imblearn.over_sampling import SMOTE\n",
    "from sklearn.model_selection import train_test_split\n",
    "from sklearn.linear_model import LogisticRegression\n",
    "from sklearn.metrics import classification_report, confusion_matrix"
   ]
  },
  {
   "cell_type": "code",
   "execution_count": 19,
   "metadata": {},
   "outputs": [
    {
     "name": "stdout",
     "output_type": "stream",
     "text": [
      "4040\n",
      "1010\n",
      "4040\n",
      "1010\n"
     ]
    }
   ],
   "source": [
    "'''Define resampling method'''\n",
    "method = SMOTE(kind='borderline1')\n",
    "X_train, X_test, y_train, y_test = train_test_split(X, y, train_size=0.8, random_state=0)\n",
    "\n",
    "printListItemLength([X_train, X_test, y_train, y_test])"
   ]
  },
  {
   "cell_type": "code",
   "execution_count": 20,
   "metadata": {},
   "outputs": [
    {
     "name": "stdout",
     "output_type": "stream",
     "text": [
      "7992\n",
      "7992\n"
     ]
    }
   ],
   "source": [
    "'''Apply resampling to training data only'''\n",
    "X_resampled, y_resampled = method.fit_sample(X_train, y_train)\n",
    "\n",
    "printListItemLength([X_resampled, y_resampled])"
   ]
  },
  {
   "cell_type": "code",
   "execution_count": 21,
   "metadata": {},
   "outputs": [
    {
     "name": "stderr",
     "output_type": "stream",
     "text": [
      "/home/anonymous/anaconda3/lib/python3.6/site-packages/sklearn/linear_model/logistic.py:432: FutureWarning: Default solver will be changed to 'lbfgs' in 0.22. Specify a solver to silence this warning.\n",
      "  FutureWarning)\n"
     ]
    },
    {
     "data": {
      "text/plain": [
       "LogisticRegression(C=1.0, class_weight=None, dual=False, fit_intercept=True,\n",
       "                   intercept_scaling=1, l1_ratio=None, max_iter=100,\n",
       "                   multi_class='warn', n_jobs=None, penalty='l2',\n",
       "                   random_state=None, solver='warn', tol=0.0001, verbose=0,\n",
       "                   warm_start=False)"
      ]
     },
     "execution_count": 21,
     "metadata": {},
     "output_type": "execute_result"
    }
   ],
   "source": [
    "model = LogisticRegression()\n",
    "model.fit(X_resampled, y_resampled)\n",
    "model"
   ]
  },
  {
   "cell_type": "code",
   "execution_count": 22,
   "metadata": {},
   "outputs": [
    {
     "name": "stdout",
     "output_type": "stream",
     "text": [
      "              precision    recall  f1-score   support\n",
      "\n",
      "           0       1.00      1.00      1.00      1004\n",
      "           1       0.75      1.00      0.86         6\n",
      "\n",
      "    accuracy                           1.00      1010\n",
      "   macro avg       0.88      1.00      0.93      1010\n",
      "weighted avg       1.00      1.00      1.00      1010\n",
      "\n"
     ]
    }
   ],
   "source": [
    "predicted = model.predict(X_test)\n",
    "print(classification_report(y_test, predicted))"
   ]
  },
  {
   "cell_type": "markdown",
   "metadata": {},
   "source": [
    "# 1.2. Fraud detection algorithms in action"
   ]
  },
  {
   "cell_type": "code",
   "execution_count": 23,
   "metadata": {},
   "outputs": [],
   "source": [
    "from sklearn.linear_model import LinearRegression\n",
    "from sklearn.model_selection import train_test_split\n",
    "from sklearn import metrics"
   ]
  },
  {
   "cell_type": "code",
   "execution_count": 24,
   "metadata": {},
   "outputs": [
    {
     "name": "stdout",
     "output_type": "stream",
     "text": [
      "4040\n",
      "1010\n",
      "4040\n",
      "1010\n"
     ]
    }
   ],
   "source": [
    "'''Split features & labels'''\n",
    "X_train, X_test, y_train, y_test = train_test_split(X, y, test_size=0.2)\n",
    "\n",
    "printListItemLength([X_train, X_test, y_train, y_test])"
   ]
  },
  {
   "cell_type": "code",
   "execution_count": 25,
   "metadata": {},
   "outputs": [
    {
     "data": {
      "text/plain": [
       "LinearRegression(copy_X=True, fit_intercept=True, n_jobs=None, normalize=False)"
      ]
     },
     "execution_count": 25,
     "metadata": {},
     "output_type": "execute_result"
    }
   ],
   "source": [
    "model = LinearRegression()\n",
    "model.fit(X_train, y_train)\n",
    "model"
   ]
  },
  {
   "cell_type": "code",
   "execution_count": 26,
   "metadata": {},
   "outputs": [
    {
     "data": {
      "text/plain": [
       "array([-0.00057326, -0.0023998 , -0.00051398, ...,  0.00101095,\n",
       "        0.02758604, -0.00390853])"
      ]
     },
     "execution_count": 26,
     "metadata": {},
     "output_type": "execute_result"
    }
   ],
   "source": [
    "predicted = model.predict(X_test)\n",
    "predicted"
   ]
  },
  {
   "cell_type": "code",
   "execution_count": 27,
   "metadata": {},
   "outputs": [
    {
     "name": "stdout",
     "output_type": "stream",
     "text": [
      "0.5199697167464297\n"
     ]
    }
   ],
   "source": [
    "print(metrics.r2_score(y_test, predicted))"
   ]
  },
  {
   "cell_type": "markdown",
   "metadata": {},
   "source": [
    "# 2. Review of classification methods for fraud detection"
   ]
  },
  {
   "cell_type": "code",
   "execution_count": 28,
   "metadata": {
    "scrolled": true
   },
   "outputs": [
    {
     "name": "stdout",
     "output_type": "stream",
     "text": [
      "<class 'pandas.core.frame.DataFrame'>\n",
      "Int64Index: 7300 entries, 221547 to 145800\n",
      "Data columns (total 30 columns):\n",
      "V1        7300 non-null float64\n",
      "V2        7300 non-null float64\n",
      "V3        7300 non-null float64\n",
      "V4        7300 non-null float64\n",
      "V5        7300 non-null float64\n",
      "V6        7300 non-null float64\n",
      "V7        7300 non-null float64\n",
      "V8        7300 non-null float64\n",
      "V9        7300 non-null float64\n",
      "V10       7300 non-null float64\n",
      "V11       7300 non-null float64\n",
      "V12       7300 non-null float64\n",
      "V13       7300 non-null float64\n",
      "V14       7300 non-null float64\n",
      "V15       7300 non-null float64\n",
      "V16       7300 non-null float64\n",
      "V17       7300 non-null float64\n",
      "V18       7300 non-null float64\n",
      "V19       7300 non-null float64\n",
      "V20       7300 non-null float64\n",
      "V21       7300 non-null float64\n",
      "V22       7300 non-null float64\n",
      "V23       7300 non-null float64\n",
      "V24       7300 non-null float64\n",
      "V25       7300 non-null float64\n",
      "V26       7300 non-null float64\n",
      "V27       7300 non-null float64\n",
      "V28       7300 non-null float64\n",
      "Amount    7300 non-null float64\n",
      "Class     7300 non-null int64\n",
      "dtypes: float64(29), int64(1)\n",
      "memory usage: 1.7 MB\n"
     ]
    }
   ],
   "source": [
    "df2_1 = pd.read_csv('data/chapter_2/creditcard_sampledata_2.csv', index_col=0)\n",
    "df2_1.info()"
   ]
  },
  {
   "cell_type": "code",
   "execution_count": 29,
   "metadata": {},
   "outputs": [],
   "source": [
    "from sklearn.ensemble import RandomForestClassifier"
   ]
  },
  {
   "cell_type": "code",
   "execution_count": 30,
   "metadata": {},
   "outputs": [],
   "source": [
    "model = RandomForestClassifier(random_state=42)\n",
    "labels = df2_1.columns[:-1]\n",
    "X = df2_1[labels]\n",
    "y = df2_1['Class']"
   ]
  },
  {
   "cell_type": "code",
   "execution_count": 31,
   "metadata": {},
   "outputs": [
    {
     "name": "stdout",
     "output_type": "stream",
     "text": [
      "0.996039603960396\n"
     ]
    },
    {
     "name": "stderr",
     "output_type": "stream",
     "text": [
      "/home/anonymous/anaconda3/lib/python3.6/site-packages/sklearn/ensemble/forest.py:245: FutureWarning: The default value of n_estimators will change from 10 in version 0.20 to 100 in 0.22.\n",
      "  \"10 in version 0.20 to 100 in 0.22.\", FutureWarning)\n"
     ]
    }
   ],
   "source": [
    "model.fit(X_train, y_train)\n",
    "predicted = model.predict(X_test)\n",
    "print(metrics.accuracy_score(y_test, predicted))"
   ]
  },
  {
   "cell_type": "code",
   "execution_count": 32,
   "metadata": {},
   "outputs": [
    {
     "data": {
      "text/plain": [
       "array([[1., 0.],\n",
       "       [1., 0.],\n",
       "       [1., 0.],\n",
       "       ...,\n",
       "       [1., 0.],\n",
       "       [1., 0.],\n",
       "       [1., 0.]])"
      ]
     },
     "execution_count": 32,
     "metadata": {},
     "output_type": "execute_result"
    }
   ],
   "source": [
    "probs = model.predict_proba(X_test)\n",
    "probs"
   ]
  },
  {
   "cell_type": "markdown",
   "metadata": {},
   "source": [
    "# 2.1. Measuring fraud detection performance"
   ]
  },
  {
   "cell_type": "code",
   "execution_count": 33,
   "metadata": {
    "scrolled": true
   },
   "outputs": [
    {
     "data": {
      "text/plain": [
       "0.6494349434943494"
      ]
     },
     "execution_count": 33,
     "metadata": {},
     "output_type": "execute_result"
    }
   ],
   "source": [
    "average_precision = metrics.average_precision_score(y_test, predicted)\n",
    "average_precision"
   ]
  },
  {
   "cell_type": "code",
   "execution_count": 34,
   "metadata": {
    "scrolled": true
   },
   "outputs": [
    {
     "data": {
      "text/plain": [
       "(array([0.01089109, 0.88888889, 1.        ]),\n",
       " array([1.        , 0.72727273, 0.        ]),\n",
       " array([0, 1]))"
      ]
     },
     "execution_count": 34,
     "metadata": {},
     "output_type": "execute_result"
    }
   ],
   "source": [
    "precision, recall, threshold = metrics.precision_recall_curve(y_test, predicted)\n",
    "precision, recall, threshold"
   ]
  },
  {
   "cell_type": "code",
   "execution_count": 35,
   "metadata": {},
   "outputs": [
    {
     "data": {
      "text/plain": [
       "0.7999999999999999"
      ]
     },
     "execution_count": 35,
     "metadata": {},
     "output_type": "execute_result"
    }
   ],
   "source": [
    "'''Calculate F1 score'''\n",
    "f1 = metrics.f1_score(y_test, predicted)\n",
    "f1"
   ]
  },
  {
   "cell_type": "code",
   "execution_count": 36,
   "metadata": {},
   "outputs": [
    {
     "data": {
      "text/plain": [
       "0.8095659565956596"
      ]
     },
     "execution_count": 36,
     "metadata": {},
     "output_type": "execute_result"
    }
   ],
   "source": [
    "'''Calculate precision-recall AUC'''\n",
    "auc = metrics.auc(recall, precision)\n",
    "auc"
   ]
  },
  {
   "cell_type": "code",
   "execution_count": 37,
   "metadata": {},
   "outputs": [
    {
     "data": {
      "image/png": "[encoded data removed]",
      "text/plain": [
       "<Figure size 432x288 with 1 Axes>"
      ]
     },
     "metadata": {
      "needs_background": "light"
     },
     "output_type": "display_data"
    }
   ],
   "source": [
    "plt.plot([0,1], [0.5,0.5], linestyle='--')\n",
    "plt.plot(recall, precision, marker='.')\n",
    "plt.show()"
   ]
  },
  {
   "cell_type": "code",
   "execution_count": 38,
   "metadata": {},
   "outputs": [
    {
     "name": "stdout",
     "output_type": "stream",
     "text": [
      "0.9075439075439076\n"
     ]
    }
   ],
   "source": [
    "print(metrics.roc_auc_score(y_test, probs[:, 1]))"
   ]
  },
  {
   "cell_type": "code",
   "execution_count": 39,
   "metadata": {},
   "outputs": [
    {
     "name": "stdout",
     "output_type": "stream",
     "text": [
      "              precision    recall  f1-score   support\n",
      "\n",
      "           0       1.00      1.00      1.00       999\n",
      "           1       0.89      0.73      0.80        11\n",
      "\n",
      "    accuracy                           1.00      1010\n",
      "   macro avg       0.94      0.86      0.90      1010\n",
      "weighted avg       1.00      1.00      1.00      1010\n",
      "\n"
     ]
    }
   ],
   "source": [
    "print(classification_report(y_test, predicted))"
   ]
  },
  {
   "cell_type": "code",
   "execution_count": 40,
   "metadata": {},
   "outputs": [
    {
     "name": "stdout",
     "output_type": "stream",
     "text": [
      "[[998   1]\n",
      " [  3   8]]\n"
     ]
    }
   ],
   "source": [
    "print(confusion_matrix(y_test, predicted))"
   ]
  },
  {
   "cell_type": "markdown",
   "metadata": {},
   "source": [
    "# 2.2. Adjusting your algorithms for fraud detection"
   ]
  },
  {
   "cell_type": "code",
   "execution_count": 41,
   "metadata": {},
   "outputs": [],
   "source": [
    "from sklearn.svm import SVC"
   ]
  },
  {
   "cell_type": "code",
   "execution_count": 42,
   "metadata": {},
   "outputs": [],
   "source": [
    "'''Balanced weight'''\n",
    "\n",
    "model = RandomForestClassifier(class_weight='balanced')\n",
    "model = RandomForestClassifier(class_weight='balanced_subsample')\n",
    "model = LogisticRegression(class_weight='balanced')\n",
    "model = SVC(kernel='linear', class_weight='balanced', probability=True)"
   ]
  },
  {
   "cell_type": "code",
   "execution_count": 43,
   "metadata": {},
   "outputs": [],
   "source": [
    "'''Hyperparameter tuning for fraud detection'''\n",
    "\n",
    "model = RandomForestClassifier(class_weight={0:1,1:4}, random_state=1)\n",
    "model = LogisticRegression(class_weight={0:1,1:4}, random_state=1)\n",
    "\n",
    "model = RandomForestClassifier(n_estimators=10, criterion='gini', max_depth=None, \n",
    "                               min_samples_split=2,min_samples_leaf=1, \n",
    "                               max_features='auto', n_jobs=-1, class_weight=None)"
   ]
  },
  {
   "cell_type": "code",
   "execution_count": 44,
   "metadata": {},
   "outputs": [],
   "source": [
    "from sklearn.model_selection import GridSearchCV"
   ]
  },
  {
   "cell_type": "code",
   "execution_count": 45,
   "metadata": {},
   "outputs": [],
   "source": [
    "param_grid = {\n",
    "    'max_depth': [80, 90, 100, 110],\n",
    "    'max_features': [2, 3],\n",
    "    'min_samples_leaf': [3, 4, 5],\n",
    "    'min_samples_split': [8, 10, 12],\n",
    "    'n_estimators': [100, 200, 300, 1000]\n",
    "}"
   ]
  },
  {
   "cell_type": "code",
   "execution_count": 46,
   "metadata": {},
   "outputs": [],
   "source": [
    "model = RandomForestClassifier()"
   ]
  },
  {
   "cell_type": "code",
   "execution_count": 47,
   "metadata": {},
   "outputs": [
    {
     "name": "stdout",
     "output_type": "stream",
     "text": [
      "CPU times: user 8.73 s, sys: 411 ms, total: 9.14 s\n",
      "Wall time: 7min 15s\n"
     ]
    }
   ],
   "source": [
    "%%time\n",
    "grid_search_model = GridSearchCV(estimator=model, param_grid=param_grid, cv=5, n_jobs=-1, scoring='f1')\n",
    "grid_search_model.fit(X_train, y_train)"
   ]
  },
  {
   "cell_type": "code",
   "execution_count": 48,
   "metadata": {},
   "outputs": [
    {
     "data": {
      "text/plain": [
       "{'max_depth': 80,\n",
       " 'max_features': 3,\n",
       " 'min_samples_leaf': 3,\n",
       " 'min_samples_split': 8,\n",
       " 'n_estimators': 100}"
      ]
     },
     "execution_count": 48,
     "metadata": {},
     "output_type": "execute_result"
    }
   ],
   "source": [
    "'''Get the optimal parameters'''\n",
    "grid_search_model.best_params_"
   ]
  },
  {
   "cell_type": "code",
   "execution_count": 49,
   "metadata": {},
   "outputs": [
    {
     "data": {
      "text/plain": [
       "RandomForestClassifier(bootstrap=True, class_weight=None, criterion='gini',\n",
       "                       max_depth=80, max_features=3, max_leaf_nodes=None,\n",
       "                       min_impurity_decrease=0.0, min_impurity_split=None,\n",
       "                       min_samples_leaf=3, min_samples_split=8,\n",
       "                       min_weight_fraction_leaf=0.0, n_estimators=100,\n",
       "                       n_jobs=None, oob_score=False, random_state=None,\n",
       "                       verbose=0, warm_start=False)"
      ]
     },
     "execution_count": 49,
     "metadata": {},
     "output_type": "execute_result"
    }
   ],
   "source": [
    "'''Get the best estimator results'''\n",
    "grid_search_model.best_estimator_"
   ]
  },
  {
   "cell_type": "code",
   "execution_count": 50,
   "metadata": {},
   "outputs": [
    {
     "data": {
      "text/plain": [
       "0.8894743045733144"
      ]
     },
     "execution_count": 50,
     "metadata": {},
     "output_type": "execute_result"
    }
   ],
   "source": [
    "grid_search_model.best_score_"
   ]
  },
  {
   "cell_type": "markdown",
   "metadata": {},
   "source": [
    "# 2.3. Using ensemble methods to improve fraud detection"
   ]
  },
  {
   "cell_type": "code",
   "execution_count": 51,
   "metadata": {},
   "outputs": [],
   "source": [
    "from sklearn.ensemble import VotingClassifier\n",
    "from sklearn.naive_bayes import GaussianNB"
   ]
  },
  {
   "cell_type": "code",
   "execution_count": 52,
   "metadata": {},
   "outputs": [],
   "source": [
    "clf1 = LogisticRegression(random_state=1)\n",
    "clf2 = RandomForestClassifier(random_state=1)\n",
    "clf3 = GaussianNB()"
   ]
  },
  {
   "cell_type": "code",
   "execution_count": 53,
   "metadata": {},
   "outputs": [],
   "source": [
    "ensemble_model = VotingClassifier(estimators=[('lr', clf1), ('rf', clf2), ('gnb', clf3)], voting='hard')"
   ]
  },
  {
   "cell_type": "code",
   "execution_count": 54,
   "metadata": {},
   "outputs": [
    {
     "name": "stderr",
     "output_type": "stream",
     "text": [
      "/home/anonymous/anaconda3/lib/python3.6/site-packages/sklearn/linear_model/logistic.py:432: FutureWarning: Default solver will be changed to 'lbfgs' in 0.22. Specify a solver to silence this warning.\n",
      "  FutureWarning)\n",
      "/home/anonymous/anaconda3/lib/python3.6/site-packages/sklearn/ensemble/forest.py:245: FutureWarning: The default value of n_estimators will change from 10 in version 0.20 to 100 in 0.22.\n",
      "  \"10 in version 0.20 to 100 in 0.22.\", FutureWarning)\n"
     ]
    },
    {
     "data": {
      "text/plain": [
       "array([0, 0, 0, ..., 0, 0, 0])"
      ]
     },
     "execution_count": 54,
     "metadata": {},
     "output_type": "execute_result"
    }
   ],
   "source": [
    "ensemble_model.fit(X_train, y_train)\n",
    "ensemble_model.predict(X_test)"
   ]
  },
  {
   "cell_type": "code",
   "execution_count": 55,
   "metadata": {},
   "outputs": [
    {
     "data": {
      "text/plain": [
       "VotingClassifier(estimators=[('lr',\n",
       "                              LogisticRegression(C=1.0, class_weight=None,\n",
       "                                                 dual=False, fit_intercept=True,\n",
       "                                                 intercept_scaling=1,\n",
       "                                                 l1_ratio=None, max_iter=100,\n",
       "                                                 multi_class='warn',\n",
       "                                                 n_jobs=None, penalty='l2',\n",
       "                                                 random_state=1, solver='warn',\n",
       "                                                 tol=0.0001, verbose=0,\n",
       "                                                 warm_start=False)),\n",
       "                             ('rf',\n",
       "                              RandomForestClassifier(bootstrap=True,\n",
       "                                                     class_weight=None,\n",
       "                                                     criterion='gini',\n",
       "                                                     max...\n",
       "                                                     max_features='auto',\n",
       "                                                     max_leaf_nodes=None,\n",
       "                                                     min_impurity_decrease=0.0,\n",
       "                                                     min_impurity_split=None,\n",
       "                                                     min_samples_leaf=1,\n",
       "                                                     min_samples_split=2,\n",
       "                                                     min_weight_fraction_leaf=0.0,\n",
       "                                                     n_estimators='warn',\n",
       "                                                     n_jobs=None,\n",
       "                                                     oob_score=False,\n",
       "                                                     random_state=1, verbose=0,\n",
       "                                                     warm_start=False)),\n",
       "                             ('gnb',\n",
       "                              GaussianNB(priors=None, var_smoothing=1e-09))],\n",
       "                 flatten_transform=True, n_jobs=None, voting='soft',\n",
       "                 weights=[2, 1, 1])"
      ]
     },
     "execution_count": 55,
     "metadata": {},
     "output_type": "execute_result"
    }
   ],
   "source": [
    "VotingClassifier(estimators=[('lr', clf1), ('rf', clf2), ('gnb', clf3)], voting='soft', weights=[2,1,1])"
   ]
  },
  {
   "cell_type": "markdown",
   "metadata": {},
   "source": [
    "# 3. Normal versus abnormal behaviour"
   ]
  },
  {
   "cell_type": "code",
   "execution_count": 56,
   "metadata": {
    "scrolled": true
   },
   "outputs": [
    {
     "name": "stdout",
     "output_type": "stream",
     "text": [
      "<class 'pandas.core.frame.DataFrame'>\n",
      "Int64Index: 7189 entries, 0 to 7199\n",
      "Data columns (total 18 columns):\n",
      "age                      7189 non-null int64\n",
      "amount                   7189 non-null float64\n",
      "fraud                    7189 non-null int64\n",
      "M                        7189 non-null int64\n",
      "es_barsandrestaurants    7189 non-null int64\n",
      "es_contents              7189 non-null int64\n",
      "es_fashion               7189 non-null int64\n",
      "es_food                  7189 non-null int64\n",
      "es_health                7189 non-null int64\n",
      "es_home                  7189 non-null int64\n",
      "es_hotelservices         7189 non-null int64\n",
      "es_hyper                 7189 non-null int64\n",
      "es_leisure               7189 non-null int64\n",
      "es_otherservices         7189 non-null int64\n",
      "es_sportsandtoys         7189 non-null int64\n",
      "es_tech                  7189 non-null int64\n",
      "es_transportation        7189 non-null int64\n",
      "es_travel                7189 non-null int64\n",
      "dtypes: float64(1), int64(17)\n",
      "memory usage: 1.0 MB\n"
     ]
    }
   ],
   "source": [
    "df3_1 = pd.read_csv('data/chapter_3/banksim_adj.csv', index_col=0)\n",
    "df3_1.info()"
   ]
  },
  {
   "cell_type": "code",
   "execution_count": 57,
   "metadata": {},
   "outputs": [
    {
     "name": "stdout",
     "output_type": "stream",
     "text": [
      "<class 'pandas.core.frame.DataFrame'>\n",
      "Int64Index: 7200 entries, 171915 to 579286\n",
      "Data columns (total 5 columns):\n",
      "age         7200 non-null object\n",
      "gender      7200 non-null object\n",
      "category    7200 non-null object\n",
      "amount      7200 non-null float64\n",
      "fraud       7200 non-null int64\n",
      "dtypes: float64(1), int64(1), object(3)\n",
      "memory usage: 337.5+ KB\n"
     ]
    }
   ],
   "source": [
    "df3_2 = pd.read_csv('data/chapter_3/banksim.csv', index_col=0)\n",
    "df3_2.info()"
   ]
  },
  {
   "cell_type": "code",
   "execution_count": 58,
   "metadata": {},
   "outputs": [
    {
     "data": {
      "text/plain": [
       "DBSCAN(algorithm='auto', eps=0.9, leaf_size=30, metric='euclidean',\n",
       "       metric_params=None, min_samples=10, n_jobs=-1, p=None)"
      ]
     },
     "execution_count": 58,
     "metadata": {},
     "output_type": "execute_result"
    }
   ],
   "source": [
    "df3_3 = pd.read_pickle('data/chapter_3/db_full.pickle')\n",
    "df3_3"
   ]
  },
  {
   "cell_type": "code",
   "execution_count": 59,
   "metadata": {},
   "outputs": [
    {
     "data": {
      "text/plain": [
       "0    0\n",
       "1    0\n",
       "2    0\n",
       "3    0\n",
       "4    0\n",
       "5    0\n",
       "6    0\n",
       "7    0\n",
       "8    0\n",
       "9    0\n",
       "Name: fraud, dtype: int64"
      ]
     },
     "execution_count": 59,
     "metadata": {},
     "output_type": "execute_result"
    }
   ],
   "source": [
    "df3_4 = pd.read_pickle('data/chapter_3/labels_full.pickle')\n",
    "df3_4[:10]"
   ]
  },
  {
   "cell_type": "code",
   "execution_count": 60,
   "metadata": {},
   "outputs": [
    {
     "data": {
      "text/plain": [
       "0    6989\n",
       "1     200\n",
       "Name: fraud, dtype: int64"
      ]
     },
     "execution_count": 60,
     "metadata": {},
     "output_type": "execute_result"
    }
   ],
   "source": [
    "df3_4.value_counts()"
   ]
  },
  {
   "cell_type": "code",
   "execution_count": 61,
   "metadata": {},
   "outputs": [
    {
     "data": {
      "text/plain": [
       "4656    0\n",
       "3579    0\n",
       "3474    0\n",
       "1501    0\n",
       "6221    0\n",
       "6407    0\n",
       "3823    0\n",
       "471     0\n",
       "705     0\n",
       "3670    0\n",
       "Name: fraud, dtype: int64"
      ]
     },
     "execution_count": 61,
     "metadata": {},
     "output_type": "execute_result"
    }
   ],
   "source": [
    "df3_5 = pd.read_pickle('data/chapter_3/labels.pickle')\n",
    "df3_5[:10]"
   ]
  },
  {
   "cell_type": "code",
   "execution_count": 62,
   "metadata": {},
   "outputs": [
    {
     "data": {
      "text/plain": [
       "0    3000\n",
       "1     100\n",
       "Name: fraud, dtype: int64"
      ]
     },
     "execution_count": 62,
     "metadata": {},
     "output_type": "execute_result"
    }
   ],
   "source": [
    "df3_5.value_counts()"
   ]
  },
  {
   "cell_type": "code",
   "execution_count": 65,
   "metadata": {},
   "outputs": [
    {
     "data": {
      "text/plain": [
       "array([0.83333333, 0.01910336, 1.        , 0.        , 0.        ,\n",
       "       0.        , 0.        , 0.        , 0.        , 0.        ,\n",
       "       0.        , 0.        , 0.        , 0.        , 0.        ,\n",
       "       1.        , 0.        ])"
      ]
     },
     "execution_count": 65,
     "metadata": {},
     "output_type": "execute_result"
    }
   ],
   "source": [
    "df3_6 = pd.read_pickle('data/chapter_3/x_scaled.pickle')\n",
    "df3_6[0]"
   ]
  },
  {
   "cell_type": "code",
   "execution_count": 66,
   "metadata": {},
   "outputs": [],
   "source": [
    "def npValueCounts(Array):\n",
    "    '''\n",
    "    Return numpy array value counts as a pandas dataframe\n",
    "    \n",
    "    Parameters\n",
    "    ----------\n",
    "    Array: np.array\n",
    "    \n",
    "    Result\n",
    "    ------\n",
    "    Pandas dataframe\n",
    "    '''\n",
    "    import numpy as np\n",
    "    import pandas as pd\n",
    "    \n",
    "    unique, counts = np.unique(Array, return_counts=True)\n",
    "    unique_counts = {'value': list(unique), 'count': list(counts)}\n",
    "    df = pd.DataFrame.from_dict(unique_counts)\n",
    "    return df"
   ]
  },
  {
   "cell_type": "code",
   "execution_count": 67,
   "metadata": {
    "scrolled": true
   },
   "outputs": [
    {
     "data": {
      "text/html": [
       "<div>\n",
       "<style scoped>\n",
       "    .dataframe tbody tr th:only-of-type {\n",
       "        vertical-align: middle;\n",
       "    }\n",
       "\n",
       "    .dataframe tbody tr th {\n",
       "        vertical-align: top;\n",
       "    }\n",
       "\n",
       "    .dataframe thead th {\n",
       "        text-align: right;\n",
       "    }\n",
       "</style>\n",
       "<table border=\"1\" class=\"dataframe\">\n",
       "  <thead>\n",
       "    <tr style=\"text-align: right;\">\n",
       "      <th></th>\n",
       "      <th>value</th>\n",
       "      <th>count</th>\n",
       "    </tr>\n",
       "  </thead>\n",
       "  <tbody>\n",
       "    <tr>\n",
       "      <th>0</th>\n",
       "      <td>0.000000</td>\n",
       "      <td>42152</td>\n",
       "    </tr>\n",
       "    <tr>\n",
       "      <th>2418</th>\n",
       "      <td>1.000000</td>\n",
       "      <td>4621</td>\n",
       "    </tr>\n",
       "    <tr>\n",
       "      <th>2266</th>\n",
       "      <td>0.333333</td>\n",
       "      <td>1015</td>\n",
       "    </tr>\n",
       "    <tr>\n",
       "      <th>2345</th>\n",
       "      <td>0.500000</td>\n",
       "      <td>733</td>\n",
       "    </tr>\n",
       "    <tr>\n",
       "      <th>2380</th>\n",
       "      <td>0.666667</td>\n",
       "      <td>568</td>\n",
       "    </tr>\n",
       "  </tbody>\n",
       "</table>\n",
       "</div>"
      ],
      "text/plain": [
       "         value  count\n",
       "0     0.000000  42152\n",
       "2418  1.000000   4621\n",
       "2266  0.333333   1015\n",
       "2345  0.500000    733\n",
       "2380  0.666667    568"
      ]
     },
     "execution_count": 67,
     "metadata": {},
     "output_type": "execute_result"
    }
   ],
   "source": [
    "npValueCounts(df3_6).sort_values('count', ascending=False).head()"
   ]
  },
  {
   "cell_type": "code",
   "execution_count": 68,
   "metadata": {},
   "outputs": [
    {
     "data": {
      "text/plain": [
       "array([0.5       , 0.20681002, 0.        , 0.        , 0.        ,\n",
       "       0.        , 0.        , 0.        , 0.        , 0.        ,\n",
       "       0.        , 0.        , 0.        , 0.        , 0.        ,\n",
       "       1.        , 0.        ])"
      ]
     },
     "execution_count": 68,
     "metadata": {},
     "output_type": "execute_result"
    }
   ],
   "source": [
    "df3_7 = pd.read_pickle('data/chapter_3/x_scawed_full.pickle')\n",
    "df3_7[0]"
   ]
  },
  {
   "cell_type": "code",
   "execution_count": 69,
   "metadata": {
    "scrolled": true
   },
   "outputs": [
    {
     "data": {
      "text/html": [
       "<div>\n",
       "<style scoped>\n",
       "    .dataframe tbody tr th:only-of-type {\n",
       "        vertical-align: middle;\n",
       "    }\n",
       "\n",
       "    .dataframe tbody tr th {\n",
       "        vertical-align: top;\n",
       "    }\n",
       "\n",
       "    .dataframe thead th {\n",
       "        text-align: right;\n",
       "    }\n",
       "</style>\n",
       "<table border=\"1\" class=\"dataframe\">\n",
       "  <thead>\n",
       "    <tr style=\"text-align: right;\">\n",
       "      <th></th>\n",
       "      <th>value</th>\n",
       "      <th>count</th>\n",
       "    </tr>\n",
       "  </thead>\n",
       "  <tbody>\n",
       "    <tr>\n",
       "      <th>0</th>\n",
       "      <td>0.000000</td>\n",
       "      <td>97814</td>\n",
       "    </tr>\n",
       "    <tr>\n",
       "      <th>4389</th>\n",
       "      <td>1.000000</td>\n",
       "      <td>10660</td>\n",
       "    </tr>\n",
       "    <tr>\n",
       "      <th>4043</th>\n",
       "      <td>0.333333</td>\n",
       "      <td>2333</td>\n",
       "    </tr>\n",
       "    <tr>\n",
       "      <th>4218</th>\n",
       "      <td>0.500000</td>\n",
       "      <td>1718</td>\n",
       "    </tr>\n",
       "    <tr>\n",
       "      <th>4311</th>\n",
       "      <td>0.666667</td>\n",
       "      <td>1279</td>\n",
       "    </tr>\n",
       "  </tbody>\n",
       "</table>\n",
       "</div>"
      ],
      "text/plain": [
       "         value  count\n",
       "0     0.000000  97814\n",
       "4389  1.000000  10660\n",
       "4043  0.333333   2333\n",
       "4218  0.500000   1718\n",
       "4311  0.666667   1279"
      ]
     },
     "execution_count": 69,
     "metadata": {},
     "output_type": "execute_result"
    }
   ],
   "source": [
    "npValueCounts(df3_7).sort_values('count', ascending=False).head()"
   ]
  },
  {
   "cell_type": "code",
   "execution_count": 70,
   "metadata": {},
   "outputs": [],
   "source": [
    "from sklearn.preprocessing import MinMaxScaler\n",
    "from sklearn.cluster import KMeans"
   ]
  },
  {
   "cell_type": "markdown",
   "metadata": {},
   "source": [
    "## KMeans"
   ]
  },
  {
   "cell_type": "code",
   "execution_count": 71,
   "metadata": {},
   "outputs": [
    {
     "data": {
      "text/plain": [
       "array([[-1.19166848e+00,  4.28408570e-01,  1.64002800e+00, ...,\n",
       "        -1.74444289e-02,  2.74400000e+01,  0.00000000e+00],\n",
       "       [ 1.96661435e+00, -4.50086974e-01, -1.22858598e+00, ...,\n",
       "        -7.13139301e-02,  3.59500000e+01,  0.00000000e+00],\n",
       "       [ 1.52845161e+00, -1.29619125e+00, -8.90676942e-01, ...,\n",
       "         2.58531705e-02,  2.84000000e+01,  0.00000000e+00],\n",
       "       ...,\n",
       "       [-3.61427839e-01,  1.13347192e+00, -2.97136044e+00, ...,\n",
       "        -1.82750897e-01,  4.80720000e+02,  1.00000000e+00],\n",
       "       [-1.14155894e+00,  1.92765004e+00, -3.90535615e+00, ...,\n",
       "         7.62114891e-02,  2.50000000e+01,  1.00000000e+00],\n",
       "       [-4.19820174e-01, -1.15597801e+00, -2.09251550e+00, ...,\n",
       "         1.29096386e-01,  4.51270000e+02,  1.00000000e+00]])"
      ]
     },
     "execution_count": 71,
     "metadata": {},
     "output_type": "execute_result"
    }
   ],
   "source": [
    "X = np.array(df2_1).astype(np.float)\n",
    "X"
   ]
  },
  {
   "cell_type": "code",
   "execution_count": 72,
   "metadata": {},
   "outputs": [
    {
     "data": {
      "text/plain": [
       "KMeans(algorithm='auto', copy_x=True, init='k-means++', max_iter=300,\n",
       "       n_clusters=6, n_init=10, n_jobs=None, precompute_distances='auto',\n",
       "       random_state=42, tol=0.0001, verbose=0)"
      ]
     },
     "execution_count": 72,
     "metadata": {},
     "output_type": "execute_result"
    }
   ],
   "source": [
    "scaler = MinMaxScaler()\n",
    "X_scaled = scaler.fit_transform(X)\n",
    "kmeans = KMeans(n_clusters=6, random_state=42).fit(X_scaled)\n",
    "kmeans"
   ]
  },
  {
   "cell_type": "markdown",
   "metadata": {},
   "source": [
    "## Right amount of clusters"
   ]
  },
  {
   "cell_type": "code",
   "execution_count": 73,
   "metadata": {},
   "outputs": [
    {
     "data": {
      "text/plain": [
       "[-1319.2623146279884,\n",
       " -871.8713924662665,\n",
       " -793.9142667605355,\n",
       " -716.0272968299423,\n",
       " -677.0290872392054,\n",
       " -648.3118453906632,\n",
       " -625.8925978268425,\n",
       " -605.7337776364698,\n",
       " -590.1229051372973]"
      ]
     },
     "execution_count": 73,
     "metadata": {},
     "output_type": "execute_result"
    }
   ],
   "source": [
    "clust = range(1, 10)\n",
    "kmeans = [KMeans(n_clusters=i) for i in clust]\n",
    "score = [kmeans[i].fit(X_scaled).score(X_scaled) for i in range(len(kmeans))]\n",
    "score"
   ]
  },
  {
   "cell_type": "markdown",
   "metadata": {},
   "source": [
    "## Elbow curve\n",
    "https://en.wikipedia.org/wiki/Elbow_method_(clustering)"
   ]
  },
  {
   "cell_type": "code",
   "execution_count": 74,
   "metadata": {},
   "outputs": [
    {
     "data": {
      "image/png": "[encoded data removed]",
      "text/plain": [
       "<Figure size 432x288 with 1 Axes>"
      ]
     },
     "metadata": {
      "needs_background": "light"
     },
     "output_type": "display_data"
    }
   ],
   "source": [
    "plt.plot(clust, score)\n",
    "plt.xlabel('Number of clusters')\n",
    "plt.ylabel('Score')\n",
    "plt.title('Elbow Curve')\n",
    "plt.show()"
   ]
  },
  {
   "cell_type": "markdown",
   "metadata": {},
   "source": [
    "# 3.1. Assigning fraud versus non-fraud cases"
   ]
  },
  {
   "cell_type": "code",
   "execution_count": 75,
   "metadata": {
    "scrolled": true
   },
   "outputs": [
    {
     "data": {
      "text/plain": [
       "array([[9.30326930e-01, 6.58013592e-01, 8.91470119e-01, 2.98407174e-01,\n",
       "        6.92995753e-01, 2.82662755e-01, 6.24293301e-01, 6.71913254e-01,\n",
       "        6.21410867e-01, 6.57172707e-01, 2.13714726e-01, 8.21587445e-01,\n",
       "        6.40461703e-01, 7.51479815e-01, 4.61797435e-01, 7.47403860e-01,\n",
       "        7.90010560e-01, 7.15702852e-01, 4.11181295e-01, 4.15243600e-01,\n",
       "        4.55688047e-01, 5.15915167e-01, 5.70856861e-01, 4.42200154e-01,\n",
       "        5.55857570e-01, 3.07185390e-01, 5.91225691e-01, 2.06097679e-01,\n",
       "        6.38904901e-03, 8.32667268e-16],\n",
       "       [5.93629587e-01, 7.76159313e-01, 4.66089637e-01, 7.38119523e-01,\n",
       "        4.69359978e-01, 1.99511101e-01, 4.29328142e-01, 7.32125494e-01,\n",
       "        3.65008859e-01, 3.42534520e-01, 6.42077015e-01, 2.93650009e-01,\n",
       "        5.69009804e-01, 3.36421711e-01, 5.23892602e-01, 2.65218646e-01,\n",
       "        2.89380840e-01, 2.61405305e-01, 6.22649766e-01, 4.33037091e-01,\n",
       "        4.63099879e-01, 5.40090616e-01, 5.70164465e-01, 4.56836705e-01,\n",
       "        5.63387771e-01, 3.53058735e-01, 5.89787121e-01, 2.02402024e-01,\n",
       "        6.10235772e-03, 1.00000000e+00],\n",
       "       [9.23178887e-01, 6.54468199e-01, 8.91436587e-01, 2.69242292e-01,\n",
       "        6.92724181e-01, 2.89754290e-01, 6.25398760e-01, 6.71979987e-01,\n",
       "        6.28286006e-01, 6.54427156e-01, 2.14001010e-01, 8.31033964e-01,\n",
       "        5.03879047e-01, 7.48477206e-01, 5.57992108e-01, 7.36012615e-01,\n",
       "        7.87044644e-01, 7.15435238e-01, 3.91139092e-01, 4.16039393e-01,\n",
       "        4.56599230e-01, 5.11640524e-01, 5.70784367e-01, 4.60378128e-01,\n",
       "        5.58318556e-01, 4.90828683e-01, 5.88026053e-01, 2.05453181e-01,\n",
       "        9.23218459e-03, 7.28583860e-16],\n",
       "       [9.30043767e-01, 6.57185854e-01, 8.95056408e-01, 3.01423118e-01,\n",
       "        6.94061484e-01, 2.86957458e-01, 6.23980410e-01, 6.72912191e-01,\n",
       "        6.15337936e-01, 6.56719129e-01, 2.05549237e-01, 8.29989987e-01,\n",
       "        5.67535200e-01, 7.44813406e-01, 6.58044485e-01, 7.49228732e-01,\n",
       "        7.88305549e-01, 7.12745185e-01, 4.18675759e-01, 4.15713925e-01,\n",
       "        4.56092269e-01, 5.18058238e-01, 5.69532355e-01, 4.65550732e-01,\n",
       "        5.61173526e-01, 3.02143828e-01, 5.89086541e-01, 2.05771309e-01,\n",
       "        6.44333421e-03, 9.02056208e-16],\n",
       "       [9.31236168e-01, 6.56551090e-01, 8.91867569e-01, 2.99131243e-01,\n",
       "        6.91857763e-01, 2.77870974e-01, 6.24521656e-01, 6.71872796e-01,\n",
       "        6.22080895e-01, 6.56760719e-01, 2.13766787e-01, 8.17823045e-01,\n",
       "        3.78383523e-01, 7.53068136e-01, 5.37693724e-01, 7.49414937e-01,\n",
       "        7.89216727e-01, 7.17574677e-01, 4.13657836e-01, 4.15175769e-01,\n",
       "        4.55800513e-01, 5.17368612e-01, 5.70160905e-01, 4.37724256e-01,\n",
       "        5.58416231e-01, 3.06078304e-01, 5.90582725e-01, 2.05813528e-01,\n",
       "        6.33271899e-03, 8.88178420e-16],\n",
       "       [8.76291178e-01, 6.84622610e-01, 7.94077800e-01, 4.69718732e-01,\n",
       "        6.75511709e-01, 2.56865453e-01, 5.95378677e-01, 6.63791060e-01,\n",
       "        5.62053080e-01, 5.75875841e-01, 3.73709507e-01, 6.58476642e-01,\n",
       "        4.86925629e-01, 5.45079664e-01, 5.69591651e-01, 6.33017809e-01,\n",
       "        6.94672118e-01, 6.60382033e-01, 4.49925922e-01, 4.18076013e-01,\n",
       "        4.74372121e-01, 5.11301904e-01, 5.70132127e-01, 4.32432372e-01,\n",
       "        5.56831934e-01, 3.36634730e-01, 6.04330582e-01, 2.14681627e-01,\n",
       "        1.08701575e-02, 1.00000000e+00]])"
      ]
     },
     "execution_count": 75,
     "metadata": {},
     "output_type": "execute_result"
    }
   ],
   "source": [
    "'''Run KMeans model on scaled data'''\n",
    "kmeans = KMeans(n_clusters=6, random_state=42, n_jobs=-1).fit(X_scaled)\n",
    "\n",
    "'''Get the cluster number for each datapoint'''\n",
    "X_clusters = kmeans.predict(X_scaled)\n",
    "\n",
    "'''Save the cluster centroids'''\n",
    "X_clusters_centers = kmeans.cluster_centers_\n",
    "\n",
    "X_clusters_centers"
   ]
  },
  {
   "cell_type": "code",
   "execution_count": 76,
   "metadata": {},
   "outputs": [
    {
     "data": {
      "text/plain": [
       "[0.31791654367137306,\n",
       " 0.1967040711444739,\n",
       " 0.28072073181670354,\n",
       " 0.21838338765292928,\n",
       " 0.42462893827920384,\n",
       " 0.25127538063448873,\n",
       " 0.18103219252833663,\n",
       " 0.37287074790805236,\n",
       " 0.21988456413718224,\n",
       " 0.17842344034158075]"
      ]
     },
     "execution_count": 76,
     "metadata": {},
     "output_type": "execute_result"
    }
   ],
   "source": [
    "'''Calculate the distance to the cluster centroid for each point'''\n",
    "dist = [np.linalg.norm(x-y) for x,y in zip(X_scaled, X_clusters_centers[X_clusters])]\n",
    "\n",
    "dist[:10]"
   ]
  },
  {
   "cell_type": "code",
   "execution_count": 77,
   "metadata": {},
   "outputs": [
    {
     "data": {
      "text/plain": [
       "array([0., 0., 0., ..., 1., 0., 1.])"
      ]
     },
     "execution_count": 77,
     "metadata": {},
     "output_type": "execute_result"
    }
   ],
   "source": [
    "'''Create predictions based on distance'''\n",
    "km_y_pred = np.array(dist)\n",
    "km_y_pred[dist >= np.percentile(dist, 93)] = 1\n",
    "km_y_pred[dist < np.percentile(dist, 93)] = 0\n",
    "\n",
    "km_y_pred"
   ]
  },
  {
   "cell_type": "code",
   "execution_count": 78,
   "metadata": {},
   "outputs": [
    {
     "data": {
      "text/html": [
       "<div>\n",
       "<style scoped>\n",
       "    .dataframe tbody tr th:only-of-type {\n",
       "        vertical-align: middle;\n",
       "    }\n",
       "\n",
       "    .dataframe tbody tr th {\n",
       "        vertical-align: top;\n",
       "    }\n",
       "\n",
       "    .dataframe thead th {\n",
       "        text-align: right;\n",
       "    }\n",
       "</style>\n",
       "<table border=\"1\" class=\"dataframe\">\n",
       "  <thead>\n",
       "    <tr style=\"text-align: right;\">\n",
       "      <th></th>\n",
       "      <th>value</th>\n",
       "      <th>count</th>\n",
       "    </tr>\n",
       "  </thead>\n",
       "  <tbody>\n",
       "    <tr>\n",
       "      <th>0</th>\n",
       "      <td>0.0</td>\n",
       "      <td>6789</td>\n",
       "    </tr>\n",
       "    <tr>\n",
       "      <th>1</th>\n",
       "      <td>1.0</td>\n",
       "      <td>511</td>\n",
       "    </tr>\n",
       "  </tbody>\n",
       "</table>\n",
       "</div>"
      ],
      "text/plain": [
       "   value  count\n",
       "0    0.0   6789\n",
       "1    1.0    511"
      ]
     },
     "execution_count": 78,
     "metadata": {},
     "output_type": "execute_result"
    }
   ],
   "source": [
    "npValueCounts(km_y_pred)"
   ]
  },
  {
   "cell_type": "markdown",
   "metadata": {},
   "source": [
    "# 3.2. Other clustering fraud detection methods"
   ]
  },
  {
   "cell_type": "code",
   "execution_count": 79,
   "metadata": {},
   "outputs": [],
   "source": [
    "from sklearn.cluster import DBSCAN"
   ]
  },
  {
   "cell_type": "code",
   "execution_count": 80,
   "metadata": {},
   "outputs": [
    {
     "data": {
      "text/plain": [
       "DBSCAN(algorithm='auto', eps=0.5, leaf_size=30, metric='euclidean',\n",
       "       metric_params=None, min_samples=10, n_jobs=-1, p=None)"
      ]
     },
     "execution_count": 80,
     "metadata": {},
     "output_type": "execute_result"
    }
   ],
   "source": [
    "db = DBSCAN(eps=0.5, min_samples=10, n_jobs=-1).fit(X_scaled)\n",
    "db"
   ]
  },
  {
   "cell_type": "code",
   "execution_count": 81,
   "metadata": {},
   "outputs": [
    {
     "data": {
      "text/plain": [
       "array([0, 0, 0, ..., 1, 1, 1])"
      ]
     },
     "execution_count": 81,
     "metadata": {},
     "output_type": "execute_result"
    }
   ],
   "source": [
    "'''Get the cluster labels'''\n",
    "pred_labels = db.labels_\n",
    "pred_labels"
   ]
  },
  {
   "cell_type": "code",
   "execution_count": 82,
   "metadata": {},
   "outputs": [
    {
     "data": {
      "text/html": [
       "<div>\n",
       "<style scoped>\n",
       "    .dataframe tbody tr th:only-of-type {\n",
       "        vertical-align: middle;\n",
       "    }\n",
       "\n",
       "    .dataframe tbody tr th {\n",
       "        vertical-align: top;\n",
       "    }\n",
       "\n",
       "    .dataframe thead th {\n",
       "        text-align: right;\n",
       "    }\n",
       "</style>\n",
       "<table border=\"1\" class=\"dataframe\">\n",
       "  <thead>\n",
       "    <tr style=\"text-align: right;\">\n",
       "      <th></th>\n",
       "      <th>value</th>\n",
       "      <th>count</th>\n",
       "    </tr>\n",
       "  </thead>\n",
       "  <tbody>\n",
       "    <tr>\n",
       "      <th>0</th>\n",
       "      <td>-1</td>\n",
       "      <td>37</td>\n",
       "    </tr>\n",
       "    <tr>\n",
       "      <th>1</th>\n",
       "      <td>0</td>\n",
       "      <td>6983</td>\n",
       "    </tr>\n",
       "    <tr>\n",
       "      <th>2</th>\n",
       "      <td>1</td>\n",
       "      <td>223</td>\n",
       "    </tr>\n",
       "    <tr>\n",
       "      <th>3</th>\n",
       "      <td>2</td>\n",
       "      <td>12</td>\n",
       "    </tr>\n",
       "    <tr>\n",
       "      <th>4</th>\n",
       "      <td>3</td>\n",
       "      <td>45</td>\n",
       "    </tr>\n",
       "  </tbody>\n",
       "</table>\n",
       "</div>"
      ],
      "text/plain": [
       "   value  count\n",
       "0     -1     37\n",
       "1      0   6983\n",
       "2      1    223\n",
       "3      2     12\n",
       "4      3     45"
      ]
     },
     "execution_count": 82,
     "metadata": {},
     "output_type": "execute_result"
    }
   ],
   "source": [
    "npValueCounts(pred_labels)"
   ]
  },
  {
   "cell_type": "code",
   "execution_count": 83,
   "metadata": {},
   "outputs": [
    {
     "data": {
      "text/plain": [
       "4"
      ]
     },
     "execution_count": 83,
     "metadata": {},
     "output_type": "execute_result"
    }
   ],
   "source": [
    "'''Count the total number of clusters'''\n",
    "n_clusters_ = len(set(pred_labels)) - (1 if -1 in pred_labels else 0)\n",
    "n_clusters_"
   ]
  },
  {
   "cell_type": "code",
   "execution_count": 84,
   "metadata": {},
   "outputs": [
    {
     "name": "stdout",
     "output_type": "stream",
     "text": [
      "Estimated number of clusters: 4\n"
     ]
    }
   ],
   "source": [
    "print('Estimated number of clusters: %d' % n_clusters_)"
   ]
  },
  {
   "cell_type": "code",
   "execution_count": 85,
   "metadata": {},
   "outputs": [
    {
     "name": "stdout",
     "output_type": "stream",
     "text": [
      "Silhouette coefficient: 0.645\n"
     ]
    }
   ],
   "source": [
    "print('Silhouette coefficient: %0.3f' % metrics.silhouette_score(X_scaled, pred_labels))"
   ]
  },
  {
   "cell_type": "markdown",
   "metadata": {},
   "source": [
    "# 4. Using text data to detect fraud"
   ]
  },
  {
   "cell_type": "code",
   "execution_count": 88,
   "metadata": {},
   "outputs": [
    {
     "name": "stdout",
     "output_type": "stream",
     "text": [
      "<class 'list'>\n",
      "200\n"
     ]
    },
    {
     "data": {
      "text/plain": [
       "[(0, 1),\n",
       " (1, 2),\n",
       " (2, 1),\n",
       " (3, 1),\n",
       " (4, 2),\n",
       " (5, 1),\n",
       " (6, 2),\n",
       " (7, 1),\n",
       " (8, 1),\n",
       " (9, 1),\n",
       " (10, 5),\n",
       " (11, 2),\n",
       " (12, 1),\n",
       " (13, 1),\n",
       " (14, 1),\n",
       " (15, 1),\n",
       " (16, 1),\n",
       " (17, 1),\n",
       " (18, 1),\n",
       " (19, 1),\n",
       " (20, 1),\n",
       " (21, 1),\n",
       " (22, 1),\n",
       " (23, 1),\n",
       " (24, 1),\n",
       " (25, 1),\n",
       " (26, 4),\n",
       " (27, 2),\n",
       " (28, 1),\n",
       " (29, 1),\n",
       " (30, 1),\n",
       " (31, 3),\n",
       " (32, 4),\n",
       " (33, 1),\n",
       " (34, 1),\n",
       " (35, 1),\n",
       " (36, 3),\n",
       " (37, 1),\n",
       " (38, 1),\n",
       " (39, 1),\n",
       " (40, 3),\n",
       " (41, 2),\n",
       " (42, 1),\n",
       " (43, 1),\n",
       " (44, 1),\n",
       " (45, 4),\n",
       " (46, 1),\n",
       " (47, 1),\n",
       " (48, 1),\n",
       " (49, 1),\n",
       " (50, 1),\n",
       " (51, 1),\n",
       " (52, 1),\n",
       " (53, 2),\n",
       " (54, 1),\n",
       " (55, 1),\n",
       " (56, 1),\n",
       " (57, 3),\n",
       " (58, 1),\n",
       " (59, 1),\n",
       " (60, 2),\n",
       " (61, 1),\n",
       " (62, 2),\n",
       " (63, 1),\n",
       " (64, 1),\n",
       " (65, 1),\n",
       " (66, 1),\n",
       " (67, 3),\n",
       " (68, 7),\n",
       " (69, 1),\n",
       " (70, 2),\n",
       " (71, 1),\n",
       " (72, 2),\n",
       " (73, 1),\n",
       " (74, 1),\n",
       " (75, 1),\n",
       " (76, 1),\n",
       " (77, 1),\n",
       " (78, 1),\n",
       " (79, 1),\n",
       " (80, 1),\n",
       " (81, 1),\n",
       " (82, 1),\n",
       " (83, 1),\n",
       " (84, 1),\n",
       " (85, 1),\n",
       " (86, 3),\n",
       " (87, 1),\n",
       " (88, 1),\n",
       " (89, 1),\n",
       " (90, 2),\n",
       " (91, 2),\n",
       " (92, 2),\n",
       " (93, 1),\n",
       " (94, 1),\n",
       " (95, 1),\n",
       " (96, 1),\n",
       " (97, 1),\n",
       " (98, 1),\n",
       " (99, 1),\n",
       " (100, 1),\n",
       " (101, 1),\n",
       " (102, 1),\n",
       " (103, 1),\n",
       " (104, 1),\n",
       " (105, 1),\n",
       " (106, 1),\n",
       " (107, 2),\n",
       " (108, 1),\n",
       " (109, 2),\n",
       " (110, 1),\n",
       " (111, 1),\n",
       " (112, 1),\n",
       " (113, 1),\n",
       " (114, 1),\n",
       " (115, 1),\n",
       " (116, 3),\n",
       " (117, 1),\n",
       " (118, 1),\n",
       " (119, 1),\n",
       " (120, 1),\n",
       " (121, 1),\n",
       " (122, 1),\n",
       " (123, 1),\n",
       " (124, 2),\n",
       " (125, 1)]"
      ]
     },
     "execution_count": 88,
     "metadata": {},
     "output_type": "execute_result"
    }
   ],
   "source": [
    "df4_1 = pd.read_pickle('data/chapter_4/corpus.pickle')\n",
    "print(type(df4_1))\n",
    "print(len(df4_1))\n",
    "df4_1[0]"
   ]
  },
  {
   "cell_type": "code",
   "execution_count": 89,
   "metadata": {},
   "outputs": [
    {
     "name": "stdout",
     "output_type": "stream",
     "text": [
      "<class 'gensim.corpora.dictionary.Dictionary'>\n",
      "8948\n"
     ]
    },
    {
     "data": {
      "text/plain": [
       "'affiliated'"
      ]
     },
     "execution_count": 89,
     "metadata": {},
     "output_type": "execute_result"
    }
   ],
   "source": [
    "df4_2 = pd.read_pickle('data/chapter_4/dict.pickle')\n",
    "print(type(df4_2))\n",
    "print(len(df4_2))\n",
    "df4_2[0]"
   ]
  },
  {
   "cell_type": "code",
   "execution_count": 90,
   "metadata": {},
   "outputs": [
    {
     "name": "stdout",
     "output_type": "stream",
     "text": [
      "<class 'pandas.core.frame.DataFrame'>\n",
      "RangeIndex: 2090 entries, 0 to 2089\n",
      "Data columns (total 6 columns):\n",
      "Message-ID       2090 non-null object\n",
      "From             2090 non-null object\n",
      "To               2090 non-null object\n",
      "Date             2090 non-null object\n",
      "content          2090 non-null object\n",
      "clean_content    2086 non-null object\n",
      "dtypes: object(6)\n",
      "memory usage: 98.0+ KB\n"
     ]
    }
   ],
   "source": [
    "df4_3 = pd.read_csv('data/chapter_4/enron_emails_clean.csv')\n",
    "df4_3.info()"
   ]
  },
  {
   "cell_type": "code",
   "execution_count": 91,
   "metadata": {
    "scrolled": true
   },
   "outputs": [
    {
     "data": {
      "text/html": [
       "<div>\n",
       "<style scoped>\n",
       "    .dataframe tbody tr th:only-of-type {\n",
       "        vertical-align: middle;\n",
       "    }\n",
       "\n",
       "    .dataframe tbody tr th {\n",
       "        vertical-align: top;\n",
       "    }\n",
       "\n",
       "    .dataframe thead th {\n",
       "        text-align: right;\n",
       "    }\n",
       "</style>\n",
       "<table border=\"1\" class=\"dataframe\">\n",
       "  <thead>\n",
       "    <tr style=\"text-align: right;\">\n",
       "      <th></th>\n",
       "      <th>Message-ID</th>\n",
       "      <th>From</th>\n",
       "      <th>To</th>\n",
       "      <th>Date</th>\n",
       "      <th>content</th>\n",
       "      <th>clean_content</th>\n",
       "    </tr>\n",
       "  </thead>\n",
       "  <tbody>\n",
       "    <tr>\n",
       "      <th>0</th>\n",
       "      <td>&lt;8345058.1075840404046.JavaMail.evans@thyme&gt;</td>\n",
       "      <td>('advdfeedback@investools.com')</td>\n",
       "      <td>('advdfeedback@investools.com')</td>\n",
       "      <td>2002-01-29 23:20:55</td>\n",
       "      <td>INVESTools Advisory\\nA Free Digest of Trusted Investment Advice\\n\\nTo unsubscribe from this free newsletter, please see below.\\n\\nIn This Issue:\\n\\n1. Fried Sells 4 Stocks, Gains +46.8% in 3 Months (KM)\\n2. Rowe: January Index Confirms Bull Market for 2002 (ALOY)\\n3. Small-Cap Advisor Earns +31.6% in 2001 (LBIX)\\n4. Compounding Returns with Pine Trees (PCL)\\n5. Undervalued, High-yield Bank Puts Customers First (ASO)\\n\\n\\n*************** A Word from our Sponsor *******************\\nTop Wall S...</td>\n",
       "      <td>investools advisory free digest trusted investment advice unsubscribe free newsletter please see issue fried sells stocks gains months km rowe january index confirms bull market aloy small cap advisor earns lbix compounding returns pine trees pcl undervalued high yield bank puts customers first aso word sponsor top wall street watcher ben zacks year year gain moving best brightest wall street big money machines earned ben zacks five year average annual gain start outperforming long term get ...</td>\n",
       "    </tr>\n",
       "  </tbody>\n",
       "</table>\n",
       "</div>"
      ],
      "text/plain": [
       "                                     Message-ID  \\\n",
       "0  <8345058.1075840404046.JavaMail.evans@thyme>   \n",
       "\n",
       "                              From                               To  \\\n",
       "0  ('advdfeedback@investools.com')  ('advdfeedback@investools.com')   \n",
       "\n",
       "                  Date  \\\n",
       "0  2002-01-29 23:20:55   \n",
       "\n",
       "                                                                                                                                                                                                                                                                                                                                                                                                                                                                                                               content  \\\n",
       "0  INVESTools Advisory\\nA Free Digest of Trusted Investment Advice\\n\\nTo unsubscribe from this free newsletter, please see below.\\n\\nIn This Issue:\\n\\n1. Fried Sells 4 Stocks, Gains +46.8% in 3 Months (KM)\\n2. Rowe: January Index Confirms Bull Market for 2002 (ALOY)\\n3. Small-Cap Advisor Earns +31.6% in 2001 (LBIX)\\n4. Compounding Returns with Pine Trees (PCL)\\n5. Undervalued, High-yield Bank Puts Customers First (ASO)\\n\\n\\n*************** A Word from our Sponsor *******************\\nTop Wall S...   \n",
       "\n",
       "                                                                                                                                                                                                                                                                                                                                                                                                                                                                                                         clean_content  \n",
       "0  investools advisory free digest trusted investment advice unsubscribe free newsletter please see issue fried sells stocks gains months km rowe january index confirms bull market aloy small cap advisor earns lbix compounding returns pine trees pcl undervalued high yield bank puts customers first aso word sponsor top wall street watcher ben zacks year year gain moving best brightest wall street big money machines earned ben zacks five year average annual gain start outperforming long term get ...  "
      ]
     },
     "execution_count": 91,
     "metadata": {},
     "output_type": "execute_result"
    }
   ],
   "source": [
    "df4_3.head(1)"
   ]
  },
  {
   "cell_type": "code",
   "execution_count": 92,
   "metadata": {},
   "outputs": [
    {
     "data": {
      "text/plain": [
       "False    2090\n",
       "Name: content, dtype: int64"
      ]
     },
     "execution_count": 92,
     "metadata": {},
     "output_type": "execute_result"
    }
   ],
   "source": [
    "df4_3['content'].str.contains('money laundering').value_counts()"
   ]
  },
  {
   "cell_type": "code",
   "execution_count": 93,
   "metadata": {},
   "outputs": [
    {
     "data": {
      "text/plain": [
       "False    1866\n",
       "True      224\n",
       "Name: content, dtype: int64"
      ]
     },
     "execution_count": 93,
     "metadata": {},
     "output_type": "execute_result"
    }
   ],
   "source": [
    "df4_3['content'].str.contains('money').value_counts()"
   ]
  },
  {
   "cell_type": "code",
   "execution_count": 94,
   "metadata": {},
   "outputs": [
    {
     "data": {
      "text/plain": [
       "False    2088\n",
       "True        2\n",
       "Name: content, dtype: int64"
      ]
     },
     "execution_count": 94,
     "metadata": {},
     "output_type": "execute_result"
    }
   ],
   "source": [
    "df4_3['content'].str.contains('launder').value_counts()"
   ]
  },
  {
   "cell_type": "code",
   "execution_count": 95,
   "metadata": {
    "scrolled": true
   },
   "outputs": [
    {
     "data": {
      "text/plain": [
       "Message-ID       2\n",
       "From             2\n",
       "To               2\n",
       "Date             2\n",
       "content          2\n",
       "clean_content    2\n",
       "dtype: int64"
      ]
     },
     "execution_count": 95,
     "metadata": {},
     "output_type": "execute_result"
    }
   ],
   "source": [
    "df4_3.loc[df4_3['content'].str.contains('launder', na=False)].count()"
   ]
  },
  {
   "cell_type": "code",
   "execution_count": 96,
   "metadata": {},
   "outputs": [
    {
     "data": {
      "text/plain": [
       "False    2081\n",
       "True        9\n",
       "Name: content, dtype: int64"
      ]
     },
     "execution_count": 96,
     "metadata": {},
     "output_type": "execute_result"
    }
   ],
   "source": [
    "list_of_words = ['police', 'launder']\n",
    "df4_3['content'].str.contains('|'.join(list_of_words), na=False).value_counts()"
   ]
  },
  {
   "cell_type": "markdown",
   "metadata": {},
   "source": [
    "# 4.1. Text mining techniques for fraud detection"
   ]
  },
  {
   "cell_type": "code",
   "execution_count": 98,
   "metadata": {},
   "outputs": [],
   "source": [
    "import nltk\n",
    "from nltk import word_tokenize\n",
    "import re"
   ]
  },
  {
   "cell_type": "code",
   "execution_count": 99,
   "metadata": {
    "scrolled": true
   },
   "outputs": [
    {
     "name": "stdout",
     "output_type": "stream",
     "text": [
      "CPU times: user 4.73 s, sys: 33.8 ms, total: 4.77 s\n",
      "Wall time: 4.77 s\n"
     ]
    }
   ],
   "source": [
    "%%time\n",
    "\n",
    "'''Tokenization'''\n",
    "# text = df4_3.apply(lambda row: word_tokenize(row['content']), axis=1)\n",
    "# text = text.str.rstrip()\n",
    "# text = re.sub(r'[^a-zA-Z]', ' ', text)\n",
    "\n",
    "df4_3['text'] = df4_3['content'].str.rstrip()\n",
    "df4_3['text'] = df4_3['text'].str.replace(r'[^a-zA-Z]', ' ')\n",
    "df4_3['text'] = df4_3.apply(lambda row: word_tokenize(row['text']), axis=1)\n",
    "text = df4_3['text']"
   ]
  },
  {
   "cell_type": "code",
   "execution_count": 100,
   "metadata": {
    "scrolled": true
   },
   "outputs": [
    {
     "data": {
      "text/html": [
       "<div>\n",
       "<style scoped>\n",
       "    .dataframe tbody tr th:only-of-type {\n",
       "        vertical-align: middle;\n",
       "    }\n",
       "\n",
       "    .dataframe tbody tr th {\n",
       "        vertical-align: top;\n",
       "    }\n",
       "\n",
       "    .dataframe thead th {\n",
       "        text-align: right;\n",
       "    }\n",
       "</style>\n",
       "<table border=\"1\" class=\"dataframe\">\n",
       "  <thead>\n",
       "    <tr style=\"text-align: right;\">\n",
       "      <th></th>\n",
       "      <th>Message-ID</th>\n",
       "      <th>From</th>\n",
       "      <th>To</th>\n",
       "      <th>Date</th>\n",
       "      <th>content</th>\n",
       "      <th>clean_content</th>\n",
       "      <th>text</th>\n",
       "    </tr>\n",
       "  </thead>\n",
       "  <tbody>\n",
       "    <tr>\n",
       "      <th>0</th>\n",
       "      <td>&lt;8345058.1075840404046.JavaMail.evans@thyme&gt;</td>\n",
       "      <td>('advdfeedback@investools.com')</td>\n",
       "      <td>('advdfeedback@investools.com')</td>\n",
       "      <td>2002-01-29 23:20:55</td>\n",
       "      <td>INVESTools Advisory\\nA Free Digest of Trusted Investment Advice\\n\\nTo unsubscribe from this free newsletter, please see below.\\n\\nIn This Issue:\\n\\n1. Fried Sells 4 Stocks, Gains +46.8% in 3 Months (KM)\\n2. Rowe: January Index Confirms Bull Market for 2002 (ALOY)\\n3. Small-Cap Advisor Earns +31.6% in 2001 (LBIX)\\n4. Compounding Returns with Pine Trees (PCL)\\n5. Undervalued, High-yield Bank Puts Customers First (ASO)\\n\\n\\n*************** A Word from our Sponsor *******************\\nTop Wall S...</td>\n",
       "      <td>investools advisory free digest trusted investment advice unsubscribe free newsletter please see issue fried sells stocks gains months km rowe january index confirms bull market aloy small cap advisor earns lbix compounding returns pine trees pcl undervalued high yield bank puts customers first aso word sponsor top wall street watcher ben zacks year year gain moving best brightest wall street big money machines earned ben zacks five year average annual gain start outperforming long term get ...</td>\n",
       "      <td>[INVESTools, Advisory, A, Free, Digest, of, Trusted, Investment, Advice, To, unsubscribe, from, this, free, newsletter, please, see, below, In, This, Issue, Fried, Sells, Stocks, Gains, in, Months, KM, Rowe, January, Index, Confirms, Bull, Market, for, ALOY, Small, Cap, Advisor, Earns, in, LBIX, Compounding, Returns, with, Pine, Trees, PCL, Undervalued, High, yield, Bank, Puts, Customers, First, ASO, A, Word, from, our, Sponsor, Top, Wall, Street, Watcher, Ben, Zacks, year, Year, Gain, Movin...</td>\n",
       "    </tr>\n",
       "  </tbody>\n",
       "</table>\n",
       "</div>"
      ],
      "text/plain": [
       "                                     Message-ID  \\\n",
       "0  <8345058.1075840404046.JavaMail.evans@thyme>   \n",
       "\n",
       "                              From                               To  \\\n",
       "0  ('advdfeedback@investools.com')  ('advdfeedback@investools.com')   \n",
       "\n",
       "                  Date  \\\n",
       "0  2002-01-29 23:20:55   \n",
       "\n",
       "                                                                                                                                                                                                                                                                                                                                                                                                                                                                                                               content  \\\n",
       "0  INVESTools Advisory\\nA Free Digest of Trusted Investment Advice\\n\\nTo unsubscribe from this free newsletter, please see below.\\n\\nIn This Issue:\\n\\n1. Fried Sells 4 Stocks, Gains +46.8% in 3 Months (KM)\\n2. Rowe: January Index Confirms Bull Market for 2002 (ALOY)\\n3. Small-Cap Advisor Earns +31.6% in 2001 (LBIX)\\n4. Compounding Returns with Pine Trees (PCL)\\n5. Undervalued, High-yield Bank Puts Customers First (ASO)\\n\\n\\n*************** A Word from our Sponsor *******************\\nTop Wall S...   \n",
       "\n",
       "                                                                                                                                                                                                                                                                                                                                                                                                                                                                                                         clean_content  \\\n",
       "0  investools advisory free digest trusted investment advice unsubscribe free newsletter please see issue fried sells stocks gains months km rowe january index confirms bull market aloy small cap advisor earns lbix compounding returns pine trees pcl undervalued high yield bank puts customers first aso word sponsor top wall street watcher ben zacks year year gain moving best brightest wall street big money machines earned ben zacks five year average annual gain start outperforming long term get ...   \n",
       "\n",
       "                                                                                                                                                                                                                                                                                                                                                                                                                                                                                                                  text  \n",
       "0  [INVESTools, Advisory, A, Free, Digest, of, Trusted, Investment, Advice, To, unsubscribe, from, this, free, newsletter, please, see, below, In, This, Issue, Fried, Sells, Stocks, Gains, in, Months, KM, Rowe, January, Index, Confirms, Bull, Market, for, ALOY, Small, Cap, Advisor, Earns, in, LBIX, Compounding, Returns, with, Pine, Trees, PCL, Undervalued, High, yield, Bank, Puts, Customers, First, ASO, A, Word, from, our, Sponsor, Top, Wall, Street, Watcher, Ben, Zacks, year, Year, Gain, Movin...  "
      ]
     },
     "execution_count": 100,
     "metadata": {},
     "output_type": "execute_result"
    }
   ],
   "source": [
    "df4_3.head(1)"
   ]
  },
  {
   "cell_type": "code",
   "execution_count": 101,
   "metadata": {},
   "outputs": [],
   "source": [
    "from nltk.corpus import stopwords\n",
    "import string"
   ]
  },
  {
   "cell_type": "code",
   "execution_count": 102,
   "metadata": {
    "scrolled": true
   },
   "outputs": [
    {
     "name": "stdout",
     "output_type": "stream",
     "text": [
      "{\"'\", '_', ';', '{', '>', ',', '}', '`', ':', ']', '-', '!', '%', '[', '\\\\', '?', '/', '&', '+', '~', '(', '|', '*', '#', '@', '.', '<', '\"', '$', '^', ')', '='}\n"
     ]
    }
   ],
   "source": [
    "'''Remove all stopwords and punctuation'''\n",
    "exclude = set(string.punctuation)\n",
    "print(exclude)"
   ]
  },
  {
   "cell_type": "code",
   "execution_count": 103,
   "metadata": {
    "scrolled": true
   },
   "outputs": [
    {
     "name": "stdout",
     "output_type": "stream",
     "text": [
      "{'couldn', 'from', 'the', \"you'd\", 'such', 'has', 'yours', 'with', 'same', 'they', 'myself', 'have', 'doesn', 'it', 'under', 'haven', \"it's\", 'while', 'm', 'we', 'hasn', 'when', 'am', 'both', 'most', \"won't\", \"hasn't\", 'other', 'being', 'doing', 'above', 'o', 'about', 'ourselves', \"shouldn't\", 'shouldn', 'having', 's', 'was', 'wouldn', 'hers', 'so', 'herself', 'very', 'she', 'he', 'a', 'can', 'shan', 'down', 'whom', 'again', 'these', 'does', \"mightn't\", 'before', 'himself', 'by', 'not', \"don't\", 'further', 'nor', 'at', 'than', 'yourself', 'over', 'where', 'which', 'wasn', 'that', 'as', 'i', 're', 'did', 'just', \"weren't\", 'my', 'do', 'd', 'their', 'had', 'once', 'but', 'our', 'there', 'why', 'won', \"should've\", 'aren', \"shan't\", 've', 'ain', 'to', 'what', 'ma', 'only', 'and', 'his', 'during', \"you'll\", 'll', \"she's\", 'an', 'hadn', \"you're\", 'isn', 'weren', 'some', 'all', 'or', 'few', 'don', \"aren't\", 'should', 'mightn', 'theirs', 'its', 'themselves', \"wouldn't\", 't', 'more', 'itself', 'yourselves', 'here', 'between', 'is', 'in', 'any', \"isn't\", 'after', 'y', 'needn', 'now', \"wasn't\", 'of', \"you've\", 'below', 'been', 'him', 'own', \"couldn't\", 'then', \"mustn't\", 'this', 'were', 'those', 'be', 'through', 'your', 'if', 'didn', 'no', \"doesn't\", 'them', 'how', 'until', 'too', 'off', 'are', \"haven't\", 'who', 'each', 'because', 'her', 'on', 'into', 'ours', 'out', 'for', 'mustn', \"hadn't\", \"didn't\", \"needn't\", 'me', 'against', 'you', 'will', \"that'll\", 'up'}\n"
     ]
    }
   ],
   "source": [
    "stop = set(stopwords.words('english'))\n",
    "print(stop)"
   ]
  },
  {
   "cell_type": "code",
   "execution_count": 106,
   "metadata": {},
   "outputs": [
    {
     "data": {
      "text/plain": [
       "2090"
      ]
     },
     "execution_count": 106,
     "metadata": {},
     "output_type": "execute_result"
    }
   ],
   "source": [
    "len(text)"
   ]
  },
  {
   "cell_type": "code",
   "execution_count": 108,
   "metadata": {
    "scrolled": true
   },
   "outputs": [
    {
     "name": "stdout",
     "output_type": "stream",
     "text": [
      "Forwarded Forwarded Forwarded Forwarded Forwarded Forwarded Forwarded Forwarded Forwarded Forwarded \n"
     ]
    }
   ],
   "source": [
    "stop_free = ' '.join([word for word in lis for lis in text if ((word not in stop) and (not word.isdigit()))])\n",
    "\n",
    "# for lis in text:\n",
    "#     for word in lis:\n",
    "#         if (word not in stop) and (not word.isdigit()):\n",
    "#             stop_free = ' '.join([word])\n",
    "\n",
    "print(stop_free[:100])"
   ]
  },
  {
   "cell_type": "code",
   "execution_count": 109,
   "metadata": {},
   "outputs": [],
   "source": [
    "from nltk.stem.wordnet import WordNetLemmatizer\n",
    "from nltk.stem.porter import PorterStemmer"
   ]
  },
  {
   "cell_type": "code",
   "execution_count": 110,
   "metadata": {},
   "outputs": [],
   "source": [
    "'''Lemmatize words'''\n",
    "lemma = WordNetLemmatizer()\n",
    "\n",
    "'''Stem words'''\n",
    "porter = PorterStemmer()"
   ]
  },
  {
   "cell_type": "markdown",
   "metadata": {},
   "source": [
    "# 4.2. Topic modelling"
   ]
  },
  {
   "cell_type": "code",
   "execution_count": 111,
   "metadata": {},
   "outputs": [],
   "source": [
    "import gensim\n",
    "from gensim import corpora"
   ]
  },
  {
   "cell_type": "code",
   "execution_count": 112,
   "metadata": {
    "scrolled": true
   },
   "outputs": [
    {
     "data": {
      "text/html": [
       "<div>\n",
       "<style scoped>\n",
       "    .dataframe tbody tr th:only-of-type {\n",
       "        vertical-align: middle;\n",
       "    }\n",
       "\n",
       "    .dataframe tbody tr th {\n",
       "        vertical-align: top;\n",
       "    }\n",
       "\n",
       "    .dataframe thead th {\n",
       "        text-align: right;\n",
       "    }\n",
       "</style>\n",
       "<table border=\"1\" class=\"dataframe\">\n",
       "  <thead>\n",
       "    <tr style=\"text-align: right;\">\n",
       "      <th></th>\n",
       "      <th>Message-ID</th>\n",
       "      <th>From</th>\n",
       "      <th>To</th>\n",
       "      <th>Date</th>\n",
       "      <th>content</th>\n",
       "      <th>clean_content</th>\n",
       "      <th>text</th>\n",
       "    </tr>\n",
       "  </thead>\n",
       "  <tbody>\n",
       "    <tr>\n",
       "      <th>0</th>\n",
       "      <td>&lt;8345058.1075840404046.JavaMail.evans@thyme&gt;</td>\n",
       "      <td>('advdfeedback@investools.com')</td>\n",
       "      <td>('advdfeedback@investools.com')</td>\n",
       "      <td>2002-01-29 23:20:55</td>\n",
       "      <td>INVESTools Advisory\\nA Free Digest of Trusted Investment Advice\\n\\nTo unsubscribe from this free newsletter, please see below.\\n\\nIn This Issue:\\n\\n1. Fried Sells 4 Stocks, Gains +46.8% in 3 Months (KM)\\n2. Rowe: January Index Confirms Bull Market for 2002 (ALOY)\\n3. Small-Cap Advisor Earns +31.6% in 2001 (LBIX)\\n4. Compounding Returns with Pine Trees (PCL)\\n5. Undervalued, High-yield Bank Puts Customers First (ASO)\\n\\n\\n*************** A Word from our Sponsor *******************\\nTop Wall S...</td>\n",
       "      <td>investools advisory free digest trusted investment advice unsubscribe free newsletter please see issue fried sells stocks gains months km rowe january index confirms bull market aloy small cap advisor earns lbix compounding returns pine trees pcl undervalued high yield bank puts customers first aso word sponsor top wall street watcher ben zacks year year gain moving best brightest wall street big money machines earned ben zacks five year average annual gain start outperforming long term get ...</td>\n",
       "      <td>[INVESTools, Advisory, A, Free, Digest, of, Trusted, Investment, Advice, To, unsubscribe, from, this, free, newsletter, please, see, below, In, This, Issue, Fried, Sells, Stocks, Gains, in, Months, KM, Rowe, January, Index, Confirms, Bull, Market, for, ALOY, Small, Cap, Advisor, Earns, in, LBIX, Compounding, Returns, with, Pine, Trees, PCL, Undervalued, High, yield, Bank, Puts, Customers, First, ASO, A, Word, from, our, Sponsor, Top, Wall, Street, Watcher, Ben, Zacks, year, Year, Gain, Movin...</td>\n",
       "    </tr>\n",
       "  </tbody>\n",
       "</table>\n",
       "</div>"
      ],
      "text/plain": [
       "                                     Message-ID  \\\n",
       "0  <8345058.1075840404046.JavaMail.evans@thyme>   \n",
       "\n",
       "                              From                               To  \\\n",
       "0  ('advdfeedback@investools.com')  ('advdfeedback@investools.com')   \n",
       "\n",
       "                  Date  \\\n",
       "0  2002-01-29 23:20:55   \n",
       "\n",
       "                                                                                                                                                                                                                                                                                                                                                                                                                                                                                                               content  \\\n",
       "0  INVESTools Advisory\\nA Free Digest of Trusted Investment Advice\\n\\nTo unsubscribe from this free newsletter, please see below.\\n\\nIn This Issue:\\n\\n1. Fried Sells 4 Stocks, Gains +46.8% in 3 Months (KM)\\n2. Rowe: January Index Confirms Bull Market for 2002 (ALOY)\\n3. Small-Cap Advisor Earns +31.6% in 2001 (LBIX)\\n4. Compounding Returns with Pine Trees (PCL)\\n5. Undervalued, High-yield Bank Puts Customers First (ASO)\\n\\n\\n*************** A Word from our Sponsor *******************\\nTop Wall S...   \n",
       "\n",
       "                                                                                                                                                                                                                                                                                                                                                                                                                                                                                                         clean_content  \\\n",
       "0  investools advisory free digest trusted investment advice unsubscribe free newsletter please see issue fried sells stocks gains months km rowe january index confirms bull market aloy small cap advisor earns lbix compounding returns pine trees pcl undervalued high yield bank puts customers first aso word sponsor top wall street watcher ben zacks year year gain moving best brightest wall street big money machines earned ben zacks five year average annual gain start outperforming long term get ...   \n",
       "\n",
       "                                                                                                                                                                                                                                                                                                                                                                                                                                                                                                                  text  \n",
       "0  [INVESTools, Advisory, A, Free, Digest, of, Trusted, Investment, Advice, To, unsubscribe, from, this, free, newsletter, please, see, below, In, This, Issue, Fried, Sells, Stocks, Gains, in, Months, KM, Rowe, January, Index, Confirms, Bull, Market, for, ALOY, Small, Cap, Advisor, Earns, in, LBIX, Compounding, Returns, with, Pine, Trees, PCL, Undervalued, High, yield, Bank, Puts, Customers, First, ASO, A, Word, from, our, Sponsor, Top, Wall, Street, Watcher, Ben, Zacks, year, Year, Gain, Movin...  "
      ]
     },
     "execution_count": 112,
     "metadata": {},
     "output_type": "execute_result"
    }
   ],
   "source": [
    "df4_3.head(1)"
   ]
  },
  {
   "cell_type": "code",
   "execution_count": 113,
   "metadata": {
    "scrolled": true
   },
   "outputs": [
    {
     "data": {
      "text/plain": [
       "gensim.corpora.dictionary.Dictionary"
      ]
     },
     "execution_count": 113,
     "metadata": {},
     "output_type": "execute_result"
    }
   ],
   "source": [
    "# Create dictionary number of times a word appears\n",
    "dictionary = corpora.Dictionary(df4_3['text'])\n",
    "type(dictionary)"
   ]
  },
  {
   "cell_type": "code",
   "execution_count": 114,
   "metadata": {},
   "outputs": [],
   "source": [
    "# Filter out (non)frequent words\n",
    "dictionary.filter_extremes(no_below=5, keep_n=50000)"
   ]
  },
  {
   "cell_type": "code",
   "execution_count": 115,
   "metadata": {},
   "outputs": [],
   "source": [
    "from itertools import islice\n",
    "\n",
    "def take(n, iterable):\n",
    "    \"Return first n items of the iterable as a list\"\n",
    "    return list(islice(iterable, n))"
   ]
  },
  {
   "cell_type": "code",
   "execution_count": 116,
   "metadata": {},
   "outputs": [
    {
     "data": {
      "text/plain": [
       "[(3, 10),\n",
       " (0, 402),\n",
       " (41, 31),\n",
       " (63, 21),\n",
       " (2, 6),\n",
       " (539, 66),\n",
       " (255, 888),\n",
       " (254, 154),\n",
       " (371, 35),\n",
       " (411, 488)]"
      ]
     },
     "execution_count": 116,
     "metadata": {},
     "output_type": "execute_result"
    }
   ],
   "source": [
    "take(10, dictionary.dfs.items())"
   ]
  },
  {
   "cell_type": "code",
   "execution_count": 117,
   "metadata": {},
   "outputs": [
    {
     "data": {
      "text/plain": [
       "2090"
      ]
     },
     "execution_count": 117,
     "metadata": {},
     "output_type": "execute_result"
    }
   ],
   "source": [
    "dictionary.num_docs"
   ]
  },
  {
   "cell_type": "code",
   "execution_count": 118,
   "metadata": {},
   "outputs": [
    {
     "data": {
      "text/plain": [
       "324309"
      ]
     },
     "execution_count": 118,
     "metadata": {},
     "output_type": "execute_result"
    }
   ],
   "source": [
    "dictionary.num_nnz"
   ]
  },
  {
   "cell_type": "code",
   "execution_count": 119,
   "metadata": {},
   "outputs": [
    {
     "data": {
      "text/plain": [
       "724142"
      ]
     },
     "execution_count": 119,
     "metadata": {},
     "output_type": "execute_result"
    }
   ],
   "source": [
    "dictionary.num_pos"
   ]
  },
  {
   "cell_type": "code",
   "execution_count": 120,
   "metadata": {},
   "outputs": [
    {
     "name": "stdout",
     "output_type": "stream",
     "text": [
      "CPU times: user 370 ms, sys: 4.08 ms, total: 374 ms\n",
      "Wall time: 372 ms\n"
     ]
    }
   ],
   "source": [
    "%%time\n",
    "\n",
    "# Create corpus\n",
    "corpus = [dictionary.doc2bow(text) for text in df4_3['text']]"
   ]
  },
  {
   "cell_type": "code",
   "execution_count": 121,
   "metadata": {},
   "outputs": [
    {
     "data": {
      "text/plain": [
       "2090"
      ]
     },
     "execution_count": 121,
     "metadata": {},
     "output_type": "execute_result"
    }
   ],
   "source": [
    "len(corpus)"
   ]
  },
  {
   "cell_type": "markdown",
   "metadata": {},
   "source": [
    "## Latent Dirichlet Allocation (LDA) with gensim"
   ]
  },
  {
   "cell_type": "code",
   "execution_count": 122,
   "metadata": {},
   "outputs": [],
   "source": [
    "'''Define the LDA model'''\n",
    "ldamodel = gensim.models.ldamodel.LdaModel(corpus, num_topics = 3, id2word=dictionary, passes=15)"
   ]
  },
  {
   "cell_type": "code",
   "execution_count": 123,
   "metadata": {},
   "outputs": [],
   "source": [
    "'''Print the 3 topics from the model with top words'''\n",
    "topics = ldamodel.print_topics(num_words=4)"
   ]
  },
  {
   "cell_type": "code",
   "execution_count": 124,
   "metadata": {},
   "outputs": [
    {
     "name": "stdout",
     "output_type": "stream",
     "text": [
      "(0, '0.035*\"com\" + 0.030*\"http\" + 0.023*\"net\" + 0.022*\"IMAGE\"')\n",
      "(1, '0.021*\"ECT\" + 0.014*\"Enron\" + 0.014*\"ENRON\" + 0.013*\"Subject\"')\n",
      "(2, '0.015*\"s\" + 0.015*\"Enron\" + 0.012*\"com\" + 0.009*\"or\"')\n"
     ]
    }
   ],
   "source": [
    "for topic in topics:\n",
    "    print(topic)"
   ]
  },
  {
   "cell_type": "markdown",
   "metadata": {},
   "source": [
    "# 4.3. Flagging fraud based on topics"
   ]
  },
  {
   "cell_type": "code",
   "execution_count": 126,
   "metadata": {},
   "outputs": [],
   "source": [
    "def get_topic_details(ldamodel, corpus):\n",
    "    topic_details_df = pd.DataFrame()\n",
    "    \n",
    "    for i, row in enumerate(ldamodel[corpus]):\n",
    "        row = sorted(row, key=lambda x: (x[1]), reverse=True)\n",
    "        \n",
    "        for j, (topic_num, prop_topic) in enumerate(row):\n",
    "            '''dominant topic'''\n",
    "            if j == 0:\n",
    "                wp = ldamodel.show_topic(topic_num)\n",
    "                topic_details_df = topic_details_df.append(pd.Series([topic_num, wp]))\n",
    "    \n",
    "    topic_details_df.columns = ['Dominant_Topic', '% Score']\n",
    "    \n",
    "    return topic_details_df"
   ]
  },
  {
   "cell_type": "code",
   "execution_count": 128,
   "metadata": {},
   "outputs": [],
   "source": [
    "# contents = pd.DataFrame({'Original text': text_clean})"
   ]
  },
  {
   "cell_type": "code",
   "execution_count": null,
   "metadata": {},
   "outputs": [],
   "source": []
  }
 ],
 "metadata": {
  "kernelspec": {
   "display_name": "Python 3",
   "language": "python",
   "name": "python3"
  },
  "language_info": {
   "codemirror_mode": {
    "name": "ipython",
    "version": 3
   },
   "file_extension": ".py",
   "mimetype": "text/x-python",
   "name": "python",
   "nbconvert_exporter": "python",
   "pygments_lexer": "ipython3",
   "version": "3.6.7"
  }
 },
 "nbformat": 4,
 "nbformat_minor": 2
}
