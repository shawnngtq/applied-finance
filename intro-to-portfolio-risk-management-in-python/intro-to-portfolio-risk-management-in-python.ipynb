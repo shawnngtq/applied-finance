{
 "cells": [
  {
   "cell_type": "markdown",
   "metadata": {},
   "source": [
    "# 1.0 Financial returns\n",
    "\n",
    "## Investment risk\n",
    "- Risk is a measure of uncertainty. Dispersion / variance of financial returns\n",
    "\n",
    "### Measurements\n",
    "1. Standard deviation / variance of daily returns\n",
    "1. Kurtosis of the daily returns distribution\n",
    "1. Skewness of the daily returns distribution\n",
    "1. Historical drawdown\n",
    "\n",
    "## A tale of 2 returns\n",
    "- Discrete returns (simple returns) represent periodic (daily, weekly, monthly, etc) price movement\n",
    "- Log returns are often used in financial modeling, they assume continuous compounding\n",
    "    - Log returns are always smaller than discrete returns\n",
    "\n",
    "Discrete returns: $ R_{t_2} = \\frac{P_{t_2}-P_{t_1}}{P_{t_1}} $\n",
    "\n",
    "Log returns: $ Rl_{t_2} = \\frac{ln(P_{t_1})}{ln(P_{t_2})} = ln(P_{t_1}) - ln(P_{t_2}) $"
   ]
  },
  {
   "cell_type": "code",
   "execution_count": 1,
   "metadata": {},
   "outputs": [],
   "source": [
    "import pandas as pd"
   ]
  },
  {
   "cell_type": "code",
   "execution_count": 2,
   "metadata": {
    "scrolled": true
   },
   "outputs": [
    {
     "data": {
      "text/html": [
       "<div>\n",
       "<style scoped>\n",
       "    .dataframe tbody tr th:only-of-type {\n",
       "        vertical-align: middle;\n",
       "    }\n",
       "\n",
       "    .dataframe tbody tr th {\n",
       "        vertical-align: top;\n",
       "    }\n",
       "\n",
       "    .dataframe thead th {\n",
       "        text-align: right;\n",
       "    }\n",
       "</style>\n",
       "<table border=\"1\" class=\"dataframe\">\n",
       "  <thead>\n",
       "    <tr style=\"text-align: right;\">\n",
       "      <th></th>\n",
       "      <th>Open</th>\n",
       "      <th>High</th>\n",
       "      <th>Low</th>\n",
       "      <th>Close</th>\n",
       "      <th>Volume</th>\n",
       "      <th>Adjusted</th>\n",
       "    </tr>\n",
       "    <tr>\n",
       "      <th>Date</th>\n",
       "      <th></th>\n",
       "      <th></th>\n",
       "      <th></th>\n",
       "      <th></th>\n",
       "      <th></th>\n",
       "      <th></th>\n",
       "    </tr>\n",
       "  </thead>\n",
       "  <tbody>\n",
       "    <tr>\n",
       "      <th>2000-01-03</th>\n",
       "      <td>88.777</td>\n",
       "      <td>89.722</td>\n",
       "      <td>84.712</td>\n",
       "      <td>58.28125</td>\n",
       "      <td>53228400</td>\n",
       "      <td>38.527809</td>\n",
       "    </tr>\n",
       "    <tr>\n",
       "      <th>2000-01-04</th>\n",
       "      <td>85.893</td>\n",
       "      <td>88.588</td>\n",
       "      <td>84.901</td>\n",
       "      <td>56.31250</td>\n",
       "      <td>54119000</td>\n",
       "      <td>37.226345</td>\n",
       "    </tr>\n",
       "    <tr>\n",
       "      <th>2000-01-05</th>\n",
       "      <td>84.050</td>\n",
       "      <td>88.021</td>\n",
       "      <td>82.726</td>\n",
       "      <td>56.90625</td>\n",
       "      <td>64059600</td>\n",
       "      <td>37.618851</td>\n",
       "    </tr>\n",
       "    <tr>\n",
       "      <th>2000-01-06</th>\n",
       "      <td>84.853</td>\n",
       "      <td>86.130</td>\n",
       "      <td>81.970</td>\n",
       "      <td>55.00000</td>\n",
       "      <td>54976600</td>\n",
       "      <td>36.358688</td>\n",
       "    </tr>\n",
       "    <tr>\n",
       "      <th>2000-01-07</th>\n",
       "      <td>82.159</td>\n",
       "      <td>84.901</td>\n",
       "      <td>81.166</td>\n",
       "      <td>55.71875</td>\n",
       "      <td>62013600</td>\n",
       "      <td>36.833828</td>\n",
       "    </tr>\n",
       "  </tbody>\n",
       "</table>\n",
       "</div>"
      ],
      "text/plain": [
       "              Open    High     Low     Close    Volume   Adjusted\n",
       "Date                                                             \n",
       "2000-01-03  88.777  89.722  84.712  58.28125  53228400  38.527809\n",
       "2000-01-04  85.893  88.588  84.901  56.31250  54119000  37.226345\n",
       "2000-01-05  84.050  88.021  82.726  56.90625  64059600  37.618851\n",
       "2000-01-06  84.853  86.130  81.970  55.00000  54976600  36.358688\n",
       "2000-01-07  82.159  84.901  81.166  55.71875  62013600  36.833828"
      ]
     },
     "execution_count": 2,
     "metadata": {},
     "output_type": "execute_result"
    }
   ],
   "source": [
    "msftPrices = pd.read_csv('data/MSFTPrices.csv', parse_dates=['Date'])\n",
    "msftPrices = msftPrices.sort_values(by='Date')\n",
    "msftPrices.set_index('Date', inplace=True)\n",
    "msftPrices.head()"
   ]
  },
  {
   "cell_type": "code",
   "execution_count": 3,
   "metadata": {},
   "outputs": [
    {
     "data": {
      "text/html": [
       "<div>\n",
       "<style scoped>\n",
       "    .dataframe tbody tr th:only-of-type {\n",
       "        vertical-align: middle;\n",
       "    }\n",
       "\n",
       "    .dataframe tbody tr th {\n",
       "        vertical-align: top;\n",
       "    }\n",
       "\n",
       "    .dataframe thead th {\n",
       "        text-align: right;\n",
       "    }\n",
       "</style>\n",
       "<table border=\"1\" class=\"dataframe\">\n",
       "  <thead>\n",
       "    <tr style=\"text-align: right;\">\n",
       "      <th></th>\n",
       "      <th>Open</th>\n",
       "      <th>High</th>\n",
       "      <th>Low</th>\n",
       "      <th>Close</th>\n",
       "      <th>Volume</th>\n",
       "      <th>Adjusted</th>\n",
       "      <th>Returns</th>\n",
       "    </tr>\n",
       "    <tr>\n",
       "      <th>Date</th>\n",
       "      <th></th>\n",
       "      <th></th>\n",
       "      <th></th>\n",
       "      <th></th>\n",
       "      <th></th>\n",
       "      <th></th>\n",
       "      <th></th>\n",
       "    </tr>\n",
       "  </thead>\n",
       "  <tbody>\n",
       "    <tr>\n",
       "      <th>2000-01-03</th>\n",
       "      <td>88.777</td>\n",
       "      <td>89.722</td>\n",
       "      <td>84.712</td>\n",
       "      <td>58.28125</td>\n",
       "      <td>53228400</td>\n",
       "      <td>38.527809</td>\n",
       "      <td>NaN</td>\n",
       "    </tr>\n",
       "    <tr>\n",
       "      <th>2000-01-04</th>\n",
       "      <td>85.893</td>\n",
       "      <td>88.588</td>\n",
       "      <td>84.901</td>\n",
       "      <td>56.31250</td>\n",
       "      <td>54119000</td>\n",
       "      <td>37.226345</td>\n",
       "      <td>-0.033780</td>\n",
       "    </tr>\n",
       "    <tr>\n",
       "      <th>2000-01-05</th>\n",
       "      <td>84.050</td>\n",
       "      <td>88.021</td>\n",
       "      <td>82.726</td>\n",
       "      <td>56.90625</td>\n",
       "      <td>64059600</td>\n",
       "      <td>37.618851</td>\n",
       "      <td>0.010544</td>\n",
       "    </tr>\n",
       "    <tr>\n",
       "      <th>2000-01-06</th>\n",
       "      <td>84.853</td>\n",
       "      <td>86.130</td>\n",
       "      <td>81.970</td>\n",
       "      <td>55.00000</td>\n",
       "      <td>54976600</td>\n",
       "      <td>36.358688</td>\n",
       "      <td>-0.033498</td>\n",
       "    </tr>\n",
       "    <tr>\n",
       "      <th>2000-01-07</th>\n",
       "      <td>82.159</td>\n",
       "      <td>84.901</td>\n",
       "      <td>81.166</td>\n",
       "      <td>55.71875</td>\n",
       "      <td>62013600</td>\n",
       "      <td>36.833828</td>\n",
       "      <td>0.013068</td>\n",
       "    </tr>\n",
       "  </tbody>\n",
       "</table>\n",
       "</div>"
      ],
      "text/plain": [
       "              Open    High     Low     Close    Volume   Adjusted   Returns\n",
       "Date                                                                       \n",
       "2000-01-03  88.777  89.722  84.712  58.28125  53228400  38.527809       NaN\n",
       "2000-01-04  85.893  88.588  84.901  56.31250  54119000  37.226345 -0.033780\n",
       "2000-01-05  84.050  88.021  82.726  56.90625  64059600  37.618851  0.010544\n",
       "2000-01-06  84.853  86.130  81.970  55.00000  54976600  36.358688 -0.033498\n",
       "2000-01-07  82.159  84.901  81.166  55.71875  62013600  36.833828  0.013068"
      ]
     },
     "execution_count": 3,
     "metadata": {},
     "output_type": "execute_result"
    }
   ],
   "source": [
    "msftPrices['Returns'] = msftPrices['Adjusted'].pct_change()\n",
    "msftPrices.head()"
   ]
  },
  {
   "cell_type": "code",
   "execution_count": 4,
   "metadata": {},
   "outputs": [],
   "source": [
    "import matplotlib.pyplot as plt"
   ]
  },
  {
   "cell_type": "code",
   "execution_count": 5,
   "metadata": {},
   "outputs": [
    {
     "data": {
      "image/png": "[encoded data removed]",
      "text/plain": [
       "<Figure size 432x288 with 1 Axes>"
      ]
     },
     "metadata": {
      "needs_background": "light"
     },
     "output_type": "display_data"
    }
   ],
   "source": [
    "plt.hist(msftPrices['Returns'].dropna(), bins=75, density=False)\n",
    "plt.show()"
   ]
  },
  {
   "cell_type": "markdown",
   "metadata": {},
   "source": [
    "# 1.1 Mean, variance, and normal distributions\n",
    "\n",
    "Probability distributions have the following moments:\n",
    "1. Mean\n",
    "1. Variance\n",
    "1. Skewness\n",
    "1. Kurtosis\n",
    "\n",
    "Comparing against a normal distribution\n",
    "- Normal distributions have a skewness near 0 and a kurtosis near 3\n",
    "- Financial returns tend not to be normally distributed\n",
    "- Financial returns can have high kurtosis\n",
    "\n",
    "Standard deviation (volatility)\n",
    "- Investment with higher SD is higher risk investment"
   ]
  },
  {
   "cell_type": "code",
   "execution_count": 6,
   "metadata": {},
   "outputs": [],
   "source": [
    "import numpy as np"
   ]
  },
  {
   "cell_type": "code",
   "execution_count": 7,
   "metadata": {},
   "outputs": [
    {
     "data": {
      "text/plain": [
       "0.00037777546435757725"
      ]
     },
     "execution_count": 7,
     "metadata": {},
     "output_type": "execute_result"
    }
   ],
   "source": [
    "# Average daily return\n",
    "np.mean(msftPrices['Returns'])"
   ]
  },
  {
   "cell_type": "code",
   "execution_count": 8,
   "metadata": {},
   "outputs": [
    {
     "data": {
      "text/plain": [
       "0.09985839482858783"
      ]
     },
     "execution_count": 8,
     "metadata": {},
     "output_type": "execute_result"
    }
   ],
   "source": [
    "# Average annualized return assuming 252 trading days\n",
    "((1+np.mean(msftPrices['Returns']))**252)-1"
   ]
  },
  {
   "cell_type": "code",
   "execution_count": 9,
   "metadata": {},
   "outputs": [
    {
     "data": {
      "text/plain": [
       "0.019341100408708328"
      ]
     },
     "execution_count": 9,
     "metadata": {},
     "output_type": "execute_result"
    }
   ],
   "source": [
    "# Standard deviation\n",
    "np.std(msftPrices['Returns'])"
   ]
  },
  {
   "cell_type": "code",
   "execution_count": 10,
   "metadata": {},
   "outputs": [
    {
     "data": {
      "text/plain": [
       "0.0003740781650197375"
      ]
     },
     "execution_count": 10,
     "metadata": {},
     "output_type": "execute_result"
    }
   ],
   "source": [
    "# Variance\n",
    "# np.std(msftPrices['Returns'])**2\n",
    "np.var(msftPrices['Returns'])"
   ]
  },
  {
   "cell_type": "markdown",
   "metadata": {},
   "source": [
    "## Scaling volatility\n",
    "- Volatility scales with the square root of time\n",
    "- Assume 252 trading days in a year and 21 trading days in a month\n",
    "\n",
    "$ \\sigma_{annual} = \\sigma_{daily} * \\sqrt{252} $\n",
    "\n",
    "$ \\sigma_{monthly} = \\sigma_{daily} * \\sqrt{21} $"
   ]
  },
  {
   "cell_type": "code",
   "execution_count": 11,
   "metadata": {},
   "outputs": [
    {
     "data": {
      "text/plain": [
       "0.3070304505826317"
      ]
     },
     "execution_count": 11,
     "metadata": {},
     "output_type": "execute_result"
    }
   ],
   "source": [
    "# Annualized volatility of returns\n",
    "np.std(msftPrices['Returns']) * np.sqrt(252)"
   ]
  },
  {
   "cell_type": "markdown",
   "metadata": {},
   "source": [
    "# 1.3 Skewness and kurtosis\n",
    "\n",
    "## Skewness\n",
    "- It's the 3rd moment of a distribution\n",
    "- **Negative skew**: Mass of distribution concentrated on the right side, a right-leaning curve\n",
    "- **Positive skew**: Opposite of negative skew"
   ]
  },
  {
   "cell_type": "code",
   "execution_count": 12,
   "metadata": {},
   "outputs": [],
   "source": [
    "from scipy.stats import skew"
   ]
  },
  {
   "cell_type": "code",
   "execution_count": 13,
   "metadata": {},
   "outputs": [
    {
     "data": {
      "text/plain": [
       "0.21935459193067852"
      ]
     },
     "execution_count": 13,
     "metadata": {},
     "output_type": "execute_result"
    }
   ],
   "source": [
    "# If skewness > 0, it suggests non-normality\n",
    "skew(msftPrices['Returns'].dropna())"
   ]
  },
  {
   "cell_type": "markdown",
   "metadata": {},
   "source": [
    "## Kurtosis\n",
    "- Measure of the thickness of the tails of a distribution\n",
    "- Most financial returns are leptokurtic\n",
    "- **Leptokurtic**: distribution has positive excess kurtosis (> 3)\n",
    "- **Excess kurtosis**: subtract 3 from sample kurtosis"
   ]
  },
  {
   "cell_type": "code",
   "execution_count": 14,
   "metadata": {},
   "outputs": [],
   "source": [
    "from scipy.stats import kurtosis"
   ]
  },
  {
   "cell_type": "code",
   "execution_count": 15,
   "metadata": {},
   "outputs": [
    {
     "data": {
      "text/plain": [
       "10.31457261802553"
      ]
     },
     "execution_count": 15,
     "metadata": {},
     "output_type": "execute_result"
    }
   ],
   "source": [
    "# Excess kurtosis > 0, suggests non-normality\n",
    "kurtosis(msftPrices['Returns'].dropna())"
   ]
  },
  {
   "cell_type": "markdown",
   "metadata": {},
   "source": [
    "## Shapiro-Wilk test\n",
    "- Testing for normality\n",
    "- H0: data are normally distributed"
   ]
  },
  {
   "cell_type": "code",
   "execution_count": 16,
   "metadata": {},
   "outputs": [],
   "source": [
    "from scipy import stats"
   ]
  },
  {
   "cell_type": "code",
   "execution_count": 17,
   "metadata": {},
   "outputs": [
    {
     "name": "stdout",
     "output_type": "stream",
     "text": [
      "H0 of normality is rejected.\n"
     ]
    }
   ],
   "source": [
    "pValue = stats.shapiro(msftPrices['Returns'].dropna())[1]\n",
    "if pValue <= 0.05:\n",
    "    print('H0 of normality is rejected.')\n",
    "else:\n",
    "    print('H0 of normality is accepted.')"
   ]
  },
  {
   "cell_type": "markdown",
   "metadata": {},
   "source": [
    "# 2.0 Portfolio composition\n",
    "\n",
    "## Portfolio return formula\n",
    "$ R_{p} = R_{a_1}w_{a_1} + R_{a_2}w_{a_2} + ... + R_{a_n}w_{a_n} $\n",
    "\n",
    "- $R_{p}$: portfolio return\n",
    "- $R_{a_n}$: return for asset n\n",
    "- $W_{a_n}$: weight for asset n"
   ]
  },
  {
   "cell_type": "code",
   "execution_count": 18,
   "metadata": {},
   "outputs": [],
   "source": [
    "import numpy as np"
   ]
  },
  {
   "cell_type": "code",
   "execution_count": 19,
   "metadata": {
    "scrolled": true
   },
   "outputs": [
    {
     "name": "stdout",
     "output_type": "stream",
     "text": [
      "<class 'pandas.core.frame.DataFrame'>\n",
      "DatetimeIndex: 251 entries, 2017-01-03 to 2017-12-29\n",
      "Data columns (total 9 columns):\n",
      "AAPL    251 non-null float64\n",
      "MSFT    251 non-null float64\n",
      "XOM     251 non-null float64\n",
      "JNJ     251 non-null float64\n",
      "JPM     251 non-null float64\n",
      "AMZN    251 non-null float64\n",
      "GE      251 non-null float64\n",
      "FB      251 non-null float64\n",
      "T       251 non-null float64\n",
      "dtypes: float64(9)\n",
      "memory usage: 19.6 KB\n",
      "None\n"
     ]
    },
    {
     "data": {
      "text/html": [
       "<div>\n",
       "<style scoped>\n",
       "    .dataframe tbody tr th:only-of-type {\n",
       "        vertical-align: middle;\n",
       "    }\n",
       "\n",
       "    .dataframe tbody tr th {\n",
       "        vertical-align: top;\n",
       "    }\n",
       "\n",
       "    .dataframe thead th {\n",
       "        text-align: right;\n",
       "    }\n",
       "</style>\n",
       "<table border=\"1\" class=\"dataframe\">\n",
       "  <thead>\n",
       "    <tr style=\"text-align: right;\">\n",
       "      <th></th>\n",
       "      <th>AAPL</th>\n",
       "      <th>MSFT</th>\n",
       "      <th>XOM</th>\n",
       "      <th>JNJ</th>\n",
       "      <th>JPM</th>\n",
       "      <th>AMZN</th>\n",
       "      <th>GE</th>\n",
       "      <th>FB</th>\n",
       "      <th>T</th>\n",
       "    </tr>\n",
       "    <tr>\n",
       "      <th>Date</th>\n",
       "      <th></th>\n",
       "      <th></th>\n",
       "      <th></th>\n",
       "      <th></th>\n",
       "      <th></th>\n",
       "      <th></th>\n",
       "      <th></th>\n",
       "      <th></th>\n",
       "      <th></th>\n",
       "    </tr>\n",
       "  </thead>\n",
       "  <tbody>\n",
       "    <tr>\n",
       "      <th>2017-01-03</th>\n",
       "      <td>0.002849</td>\n",
       "      <td>0.007081</td>\n",
       "      <td>0.006980</td>\n",
       "      <td>0.005468</td>\n",
       "      <td>0.010894</td>\n",
       "      <td>0.005068</td>\n",
       "      <td>0.002848</td>\n",
       "      <td>0.015732</td>\n",
       "      <td>0.011521</td>\n",
       "    </tr>\n",
       "    <tr>\n",
       "      <th>2017-01-04</th>\n",
       "      <td>-0.001119</td>\n",
       "      <td>-0.004474</td>\n",
       "      <td>-0.011002</td>\n",
       "      <td>-0.001640</td>\n",
       "      <td>0.001844</td>\n",
       "      <td>0.004657</td>\n",
       "      <td>0.000316</td>\n",
       "      <td>0.015660</td>\n",
       "      <td>-0.005811</td>\n",
       "    </tr>\n",
       "    <tr>\n",
       "      <th>2017-01-05</th>\n",
       "      <td>0.005085</td>\n",
       "      <td>0.000000</td>\n",
       "      <td>-0.014907</td>\n",
       "      <td>0.010463</td>\n",
       "      <td>-0.009205</td>\n",
       "      <td>0.030732</td>\n",
       "      <td>-0.005678</td>\n",
       "      <td>0.016682</td>\n",
       "      <td>-0.002806</td>\n",
       "    </tr>\n",
       "    <tr>\n",
       "      <th>2017-01-06</th>\n",
       "      <td>0.011148</td>\n",
       "      <td>0.008668</td>\n",
       "      <td>-0.000565</td>\n",
       "      <td>-0.004792</td>\n",
       "      <td>0.000116</td>\n",
       "      <td>0.019912</td>\n",
       "      <td>0.002855</td>\n",
       "      <td>0.022707</td>\n",
       "      <td>-0.019924</td>\n",
       "    </tr>\n",
       "    <tr>\n",
       "      <th>2017-01-09</th>\n",
       "      <td>0.009159</td>\n",
       "      <td>-0.003183</td>\n",
       "      <td>-0.016497</td>\n",
       "      <td>-0.000172</td>\n",
       "      <td>0.000697</td>\n",
       "      <td>0.001168</td>\n",
       "      <td>-0.004745</td>\n",
       "      <td>0.012074</td>\n",
       "      <td>-0.012585</td>\n",
       "    </tr>\n",
       "  </tbody>\n",
       "</table>\n",
       "</div>"
      ],
      "text/plain": [
       "                AAPL      MSFT       XOM       JNJ       JPM      AMZN  \\\n",
       "Date                                                                     \n",
       "2017-01-03  0.002849  0.007081  0.006980  0.005468  0.010894  0.005068   \n",
       "2017-01-04 -0.001119 -0.004474 -0.011002 -0.001640  0.001844  0.004657   \n",
       "2017-01-05  0.005085  0.000000 -0.014907  0.010463 -0.009205  0.030732   \n",
       "2017-01-06  0.011148  0.008668 -0.000565 -0.004792  0.000116  0.019912   \n",
       "2017-01-09  0.009159 -0.003183 -0.016497 -0.000172  0.000697  0.001168   \n",
       "\n",
       "                  GE        FB         T  \n",
       "Date                                      \n",
       "2017-01-03  0.002848  0.015732  0.011521  \n",
       "2017-01-04  0.000316  0.015660 -0.005811  \n",
       "2017-01-05 -0.005678  0.016682 -0.002806  \n",
       "2017-01-06  0.002855  0.022707 -0.019924  \n",
       "2017-01-09 -0.004745  0.012074 -0.012585  "
      ]
     },
     "execution_count": 19,
     "metadata": {},
     "output_type": "execute_result"
    }
   ],
   "source": [
    "stockReturns = pd.read_csv('data/Big9Returns2017.csv', index_col=['Date'], parse_dates=True).sort_index()\n",
    "print(stockReturns.info())\n",
    "stockReturns.head()"
   ]
  },
  {
   "cell_type": "code",
   "execution_count": 20,
   "metadata": {
    "scrolled": true
   },
   "outputs": [
    {
     "name": "stdout",
     "output_type": "stream",
     "text": [
      "<class 'pandas.core.frame.DataFrame'>\n",
      "RangeIndex: 39 entries, 0 to 38\n",
      "Data columns (total 11 columns):\n",
      "AAPL weight    39 non-null float64\n",
      "MSFT weight    39 non-null float64\n",
      "XOM weight     39 non-null float64\n",
      "JNJ weight     39 non-null float64\n",
      "JPM weight     39 non-null float64\n",
      "AMZN weight    39 non-null float64\n",
      "GE weight      39 non-null float64\n",
      "FB weight      39 non-null float64\n",
      "T weight       39 non-null float64\n",
      "Returns        39 non-null float64\n",
      "Volatility     39 non-null float64\n",
      "dtypes: float64(11)\n",
      "memory usage: 3.4 KB\n",
      "None\n"
     ]
    },
    {
     "data": {
      "text/html": [
       "<div>\n",
       "<style scoped>\n",
       "    .dataframe tbody tr th:only-of-type {\n",
       "        vertical-align: middle;\n",
       "    }\n",
       "\n",
       "    .dataframe tbody tr th {\n",
       "        vertical-align: top;\n",
       "    }\n",
       "\n",
       "    .dataframe thead th {\n",
       "        text-align: right;\n",
       "    }\n",
       "</style>\n",
       "<table border=\"1\" class=\"dataframe\">\n",
       "  <thead>\n",
       "    <tr style=\"text-align: right;\">\n",
       "      <th></th>\n",
       "      <th>AAPL weight</th>\n",
       "      <th>MSFT weight</th>\n",
       "      <th>XOM weight</th>\n",
       "      <th>JNJ weight</th>\n",
       "      <th>JPM weight</th>\n",
       "      <th>AMZN weight</th>\n",
       "      <th>GE weight</th>\n",
       "      <th>FB weight</th>\n",
       "      <th>T weight</th>\n",
       "      <th>Returns</th>\n",
       "      <th>Volatility</th>\n",
       "    </tr>\n",
       "  </thead>\n",
       "  <tbody>\n",
       "    <tr>\n",
       "      <th>0</th>\n",
       "      <td>0.000053</td>\n",
       "      <td>0.263110</td>\n",
       "      <td>0.007022</td>\n",
       "      <td>0.040087</td>\n",
       "      <td>0.000027</td>\n",
       "      <td>0.024316</td>\n",
       "      <td>0.355899</td>\n",
       "      <td>0.299400</td>\n",
       "      <td>0.010087</td>\n",
       "      <td>0.127453</td>\n",
       "      <td>0.171565</td>\n",
       "    </tr>\n",
       "    <tr>\n",
       "      <th>1</th>\n",
       "      <td>0.042360</td>\n",
       "      <td>0.034922</td>\n",
       "      <td>0.079355</td>\n",
       "      <td>0.043057</td>\n",
       "      <td>0.001435</td>\n",
       "      <td>0.202032</td>\n",
       "      <td>0.225924</td>\n",
       "      <td>0.362324</td>\n",
       "      <td>0.008590</td>\n",
       "      <td>0.138614</td>\n",
       "      <td>0.182723</td>\n",
       "    </tr>\n",
       "    <tr>\n",
       "      <th>2</th>\n",
       "      <td>0.207824</td>\n",
       "      <td>0.002132</td>\n",
       "      <td>0.005982</td>\n",
       "      <td>0.041657</td>\n",
       "      <td>0.007498</td>\n",
       "      <td>0.406642</td>\n",
       "      <td>0.064929</td>\n",
       "      <td>0.229260</td>\n",
       "      <td>0.034075</td>\n",
       "      <td>0.155952</td>\n",
       "      <td>0.201185</td>\n",
       "    </tr>\n",
       "    <tr>\n",
       "      <th>3</th>\n",
       "      <td>0.096565</td>\n",
       "      <td>0.016775</td>\n",
       "      <td>0.118409</td>\n",
       "      <td>0.037725</td>\n",
       "      <td>0.020013</td>\n",
       "      <td>0.045195</td>\n",
       "      <td>0.512282</td>\n",
       "      <td>0.153015</td>\n",
       "      <td>0.000020</td>\n",
       "      <td>0.118787</td>\n",
       "      <td>0.148958</td>\n",
       "    </tr>\n",
       "    <tr>\n",
       "      <th>4</th>\n",
       "      <td>0.131309</td>\n",
       "      <td>0.002733</td>\n",
       "      <td>0.002360</td>\n",
       "      <td>0.047573</td>\n",
       "      <td>0.050633</td>\n",
       "      <td>0.289410</td>\n",
       "      <td>0.313717</td>\n",
       "      <td>0.157123</td>\n",
       "      <td>0.005141</td>\n",
       "      <td>0.138304</td>\n",
       "      <td>0.171473</td>\n",
       "    </tr>\n",
       "  </tbody>\n",
       "</table>\n",
       "</div>"
      ],
      "text/plain": [
       "   AAPL weight  MSFT weight  XOM weight  JNJ weight  JPM weight  AMZN weight  \\\n",
       "0     0.000053     0.263110    0.007022    0.040087    0.000027     0.024316   \n",
       "1     0.042360     0.034922    0.079355    0.043057    0.001435     0.202032   \n",
       "2     0.207824     0.002132    0.005982    0.041657    0.007498     0.406642   \n",
       "3     0.096565     0.016775    0.118409    0.037725    0.020013     0.045195   \n",
       "4     0.131309     0.002733    0.002360    0.047573    0.050633     0.289410   \n",
       "\n",
       "   GE weight  FB weight  T weight   Returns  Volatility  \n",
       "0   0.355899   0.299400  0.010087  0.127453    0.171565  \n",
       "1   0.225924   0.362324  0.008590  0.138614    0.182723  \n",
       "2   0.064929   0.229260  0.034075  0.155952    0.201185  \n",
       "3   0.512282   0.153015  0.000020  0.118787    0.148958  \n",
       "4   0.313717   0.157123  0.005141  0.138304    0.171473  "
      ]
     },
     "execution_count": 20,
     "metadata": {},
     "output_type": "execute_result"
    }
   ],
   "source": [
    "stockWeights = pd.read_csv('data/EfficientFrontierPortfoliosSlim.csv')\n",
    "print(stockWeights.info())\n",
    "stockWeights.head()"
   ]
  },
  {
   "cell_type": "code",
   "execution_count": 21,
   "metadata": {
    "scrolled": true
   },
   "outputs": [
    {
     "data": {
      "text/html": [
       "<div>\n",
       "<style scoped>\n",
       "    .dataframe tbody tr th:only-of-type {\n",
       "        vertical-align: middle;\n",
       "    }\n",
       "\n",
       "    .dataframe tbody tr th {\n",
       "        vertical-align: top;\n",
       "    }\n",
       "\n",
       "    .dataframe thead th {\n",
       "        text-align: right;\n",
       "    }\n",
       "</style>\n",
       "<table border=\"1\" class=\"dataframe\">\n",
       "  <thead>\n",
       "    <tr style=\"text-align: right;\">\n",
       "      <th></th>\n",
       "      <th>AAPL</th>\n",
       "      <th>MSFT</th>\n",
       "      <th>XOM</th>\n",
       "      <th>JNJ</th>\n",
       "      <th>JPM</th>\n",
       "      <th>AMZN</th>\n",
       "      <th>GE</th>\n",
       "      <th>FB</th>\n",
       "      <th>T</th>\n",
       "      <th>portfolio_total_return</th>\n",
       "    </tr>\n",
       "    <tr>\n",
       "      <th>Date</th>\n",
       "      <th></th>\n",
       "      <th></th>\n",
       "      <th></th>\n",
       "      <th></th>\n",
       "      <th></th>\n",
       "      <th></th>\n",
       "      <th></th>\n",
       "      <th></th>\n",
       "      <th></th>\n",
       "      <th></th>\n",
       "    </tr>\n",
       "  </thead>\n",
       "  <tbody>\n",
       "    <tr>\n",
       "      <th>2017-01-03</th>\n",
       "      <td>1.495844e-07</td>\n",
       "      <td>0.001863</td>\n",
       "      <td>0.000049</td>\n",
       "      <td>0.000219</td>\n",
       "      <td>2.897699e-07</td>\n",
       "      <td>0.000123</td>\n",
       "      <td>0.001014</td>\n",
       "      <td>0.004710</td>\n",
       "      <td>1.162197e-04</td>\n",
       "      <td>0.008095</td>\n",
       "    </tr>\n",
       "    <tr>\n",
       "      <th>2017-01-04</th>\n",
       "      <td>-4.741262e-05</td>\n",
       "      <td>-0.000156</td>\n",
       "      <td>-0.000873</td>\n",
       "      <td>-0.000071</td>\n",
       "      <td>2.647388e-06</td>\n",
       "      <td>0.000941</td>\n",
       "      <td>0.000071</td>\n",
       "      <td>0.005674</td>\n",
       "      <td>-4.991810e-05</td>\n",
       "      <td>0.005491</td>\n",
       "    </tr>\n",
       "    <tr>\n",
       "      <th>2017-01-05</th>\n",
       "      <td>1.056848e-03</td>\n",
       "      <td>0.000000</td>\n",
       "      <td>-0.000089</td>\n",
       "      <td>0.000436</td>\n",
       "      <td>-6.901935e-05</td>\n",
       "      <td>0.012497</td>\n",
       "      <td>-0.000369</td>\n",
       "      <td>0.003825</td>\n",
       "      <td>-9.560207e-05</td>\n",
       "      <td>0.017192</td>\n",
       "    </tr>\n",
       "    <tr>\n",
       "      <th>2017-01-06</th>\n",
       "      <td>1.076542e-03</td>\n",
       "      <td>0.000145</td>\n",
       "      <td>-0.000067</td>\n",
       "      <td>-0.000181</td>\n",
       "      <td>2.324355e-06</td>\n",
       "      <td>0.000900</td>\n",
       "      <td>0.001463</td>\n",
       "      <td>0.003474</td>\n",
       "      <td>-4.064549e-07</td>\n",
       "      <td>0.006813</td>\n",
       "    </tr>\n",
       "    <tr>\n",
       "      <th>2017-01-09</th>\n",
       "      <td>1.202725e-03</td>\n",
       "      <td>-0.000009</td>\n",
       "      <td>-0.000039</td>\n",
       "      <td>-0.000008</td>\n",
       "      <td>3.527019e-05</td>\n",
       "      <td>0.000338</td>\n",
       "      <td>-0.001489</td>\n",
       "      <td>0.001897</td>\n",
       "      <td>-6.469568e-05</td>\n",
       "      <td>0.001864</td>\n",
       "    </tr>\n",
       "  </tbody>\n",
       "</table>\n",
       "</div>"
      ],
      "text/plain": [
       "                    AAPL      MSFT       XOM       JNJ           JPM  \\\n",
       "Date                                                                   \n",
       "2017-01-03  1.495844e-07  0.001863  0.000049  0.000219  2.897699e-07   \n",
       "2017-01-04 -4.741262e-05 -0.000156 -0.000873 -0.000071  2.647388e-06   \n",
       "2017-01-05  1.056848e-03  0.000000 -0.000089  0.000436 -6.901935e-05   \n",
       "2017-01-06  1.076542e-03  0.000145 -0.000067 -0.000181  2.324355e-06   \n",
       "2017-01-09  1.202725e-03 -0.000009 -0.000039 -0.000008  3.527019e-05   \n",
       "\n",
       "                AMZN        GE        FB             T  portfolio_total_return  \n",
       "Date                                                                            \n",
       "2017-01-03  0.000123  0.001014  0.004710  1.162197e-04                0.008095  \n",
       "2017-01-04  0.000941  0.000071  0.005674 -4.991810e-05                0.005491  \n",
       "2017-01-05  0.012497 -0.000369  0.003825 -9.560207e-05                0.017192  \n",
       "2017-01-06  0.000900  0.001463  0.003474 -4.064549e-07                0.006813  \n",
       "2017-01-09  0.000338 -0.001489  0.001897 -6.469568e-05                0.001864  "
      ]
     },
     "execution_count": 21,
     "metadata": {},
     "output_type": "execute_result"
    }
   ],
   "source": [
    "portfolioReturns = pd.DataFrame(stockReturns.iloc[:39].values * stockWeights.iloc[:,:9].values, \n",
    "                        index=stockReturns.iloc[:39].index, columns=stockReturns.columns)\n",
    "\n",
    "portfolioReturns['portfolio_total_return'] = portfolioReturns.sum(axis=1)\n",
    "\n",
    "portfolioReturns.head()"
   ]
  },
  {
   "cell_type": "markdown",
   "metadata": {},
   "source": [
    "## Equally weighted portfolio\n",
    "\n",
    "Assuming stockReturns is a Pandas Dataframe of stock returns, calculate the portfolio return for an equally weighted portfolio"
   ]
  },
  {
   "cell_type": "code",
   "execution_count": 22,
   "metadata": {},
   "outputs": [
    {
     "data": {
      "text/plain": [
       "Date\n",
       "2017-01-03    0.007605\n",
       "2017-01-04   -0.000174\n",
       "2017-01-05    0.003374\n",
       "2017-01-06    0.004458\n",
       "2017-01-09   -0.001565\n",
       "dtype: float64"
      ]
     },
     "execution_count": 22,
     "metadata": {},
     "output_type": "execute_result"
    }
   ],
   "source": [
    "numStocks = len(stockReturns.columns)\n",
    "equalStockWeights = np.repeat(1/numStocks, numStocks)\n",
    "equalPortfolioReturns = stockReturns.mul(equalStockWeights, axis=1).sum(axis=1)\n",
    "equalPortfolioReturns.head()"
   ]
  },
  {
   "cell_type": "code",
   "execution_count": 23,
   "metadata": {},
   "outputs": [
    {
     "data": {
      "image/png": "[encoded data removed]",
      "text/plain": [
       "<Figure size 432x288 with 1 Axes>"
      ]
     },
     "metadata": {
      "needs_background": "light"
     },
     "output_type": "display_data"
    }
   ],
   "source": [
    "msftReturns = msftPrices['Returns']\n",
    "msftReturns.plot(grid=True)\n",
    "plt.show()"
   ]
  },
  {
   "cell_type": "code",
   "execution_count": 24,
   "metadata": {},
   "outputs": [
    {
     "data": {
      "image/png": "[encoded data removed]",
      "text/plain": [
       "<Figure size 432x288 with 1 Axes>"
      ]
     },
     "metadata": {
      "needs_background": "light"
     },
     "output_type": "display_data"
    }
   ],
   "source": [
    "msftCumulativeReturns = ((1+msftReturns).cumprod()-1)\n",
    "msftCumulativeReturns.plot(grid=True)\n",
    "plt.show()"
   ]
  },
  {
   "cell_type": "markdown",
   "metadata": {},
   "source": [
    "## Market capitalization\n",
    "\n",
    "**Market Cap**: The value of a company's publically traded shares\n",
    "\n",
    "### Market-cap weighted portfolios\n",
    "$ w_{mcap_n} = \\frac{mcap_{n}}{\\sum\\limits^n_{i=1}mcap_i} $\n",
    "\n",
    "### Market-cap weights\n",
    "```python\n",
    "mCap = np.array([100, 200, 100, 100])\n",
    "mCapWeights = mCap / sum(mCap)\n",
    "mCapWeights\n",
    "```"
   ]
  },
  {
   "cell_type": "markdown",
   "metadata": {},
   "source": [
    "# 2.1 Correlation and covariance"
   ]
  },
  {
   "cell_type": "code",
   "execution_count": 25,
   "metadata": {},
   "outputs": [
    {
     "data": {
      "text/html": [
       "<div>\n",
       "<style scoped>\n",
       "    .dataframe tbody tr th:only-of-type {\n",
       "        vertical-align: middle;\n",
       "    }\n",
       "\n",
       "    .dataframe tbody tr th {\n",
       "        vertical-align: top;\n",
       "    }\n",
       "\n",
       "    .dataframe thead th {\n",
       "        text-align: right;\n",
       "    }\n",
       "</style>\n",
       "<table border=\"1\" class=\"dataframe\">\n",
       "  <thead>\n",
       "    <tr style=\"text-align: right;\">\n",
       "      <th></th>\n",
       "      <th>AAPL</th>\n",
       "      <th>MSFT</th>\n",
       "      <th>XOM</th>\n",
       "      <th>JNJ</th>\n",
       "      <th>JPM</th>\n",
       "      <th>AMZN</th>\n",
       "      <th>GE</th>\n",
       "      <th>FB</th>\n",
       "      <th>T</th>\n",
       "    </tr>\n",
       "  </thead>\n",
       "  <tbody>\n",
       "    <tr>\n",
       "      <th>AAPL</th>\n",
       "      <td>1.000000</td>\n",
       "      <td>0.437430</td>\n",
       "      <td>0.055505</td>\n",
       "      <td>0.038432</td>\n",
       "      <td>0.199914</td>\n",
       "      <td>0.509472</td>\n",
       "      <td>0.006766</td>\n",
       "      <td>0.542367</td>\n",
       "      <td>0.005082</td>\n",
       "    </tr>\n",
       "    <tr>\n",
       "      <th>MSFT</th>\n",
       "      <td>0.437430</td>\n",
       "      <td>1.000000</td>\n",
       "      <td>0.084108</td>\n",
       "      <td>0.230215</td>\n",
       "      <td>0.191248</td>\n",
       "      <td>0.621096</td>\n",
       "      <td>-0.044827</td>\n",
       "      <td>0.543341</td>\n",
       "      <td>-0.021079</td>\n",
       "    </tr>\n",
       "    <tr>\n",
       "      <th>XOM</th>\n",
       "      <td>0.055505</td>\n",
       "      <td>0.084108</td>\n",
       "      <td>1.000000</td>\n",
       "      <td>0.121012</td>\n",
       "      <td>0.305926</td>\n",
       "      <td>0.015118</td>\n",
       "      <td>0.193861</td>\n",
       "      <td>-0.046813</td>\n",
       "      <td>0.197576</td>\n",
       "    </tr>\n",
       "    <tr>\n",
       "      <th>JNJ</th>\n",
       "      <td>0.038432</td>\n",
       "      <td>0.230215</td>\n",
       "      <td>0.121012</td>\n",
       "      <td>1.000000</td>\n",
       "      <td>0.070328</td>\n",
       "      <td>0.052781</td>\n",
       "      <td>0.067930</td>\n",
       "      <td>0.079391</td>\n",
       "      <td>0.091622</td>\n",
       "    </tr>\n",
       "    <tr>\n",
       "      <th>JPM</th>\n",
       "      <td>0.199914</td>\n",
       "      <td>0.191248</td>\n",
       "      <td>0.305926</td>\n",
       "      <td>0.070328</td>\n",
       "      <td>1.000000</td>\n",
       "      <td>0.013919</td>\n",
       "      <td>0.257401</td>\n",
       "      <td>0.095245</td>\n",
       "      <td>0.252832</td>\n",
       "    </tr>\n",
       "    <tr>\n",
       "      <th>AMZN</th>\n",
       "      <td>0.509472</td>\n",
       "      <td>0.621096</td>\n",
       "      <td>0.015118</td>\n",
       "      <td>0.052781</td>\n",
       "      <td>0.013919</td>\n",
       "      <td>1.000000</td>\n",
       "      <td>-0.092188</td>\n",
       "      <td>0.653030</td>\n",
       "      <td>-0.017909</td>\n",
       "    </tr>\n",
       "    <tr>\n",
       "      <th>GE</th>\n",
       "      <td>0.006766</td>\n",
       "      <td>-0.044827</td>\n",
       "      <td>0.193861</td>\n",
       "      <td>0.067930</td>\n",
       "      <td>0.257401</td>\n",
       "      <td>-0.092188</td>\n",
       "      <td>1.000000</td>\n",
       "      <td>-0.024364</td>\n",
       "      <td>0.292706</td>\n",
       "    </tr>\n",
       "    <tr>\n",
       "      <th>FB</th>\n",
       "      <td>0.542367</td>\n",
       "      <td>0.543341</td>\n",
       "      <td>-0.046813</td>\n",
       "      <td>0.079391</td>\n",
       "      <td>0.095245</td>\n",
       "      <td>0.653030</td>\n",
       "      <td>-0.024364</td>\n",
       "      <td>1.000000</td>\n",
       "      <td>-0.024505</td>\n",
       "    </tr>\n",
       "    <tr>\n",
       "      <th>T</th>\n",
       "      <td>0.005082</td>\n",
       "      <td>-0.021079</td>\n",
       "      <td>0.197576</td>\n",
       "      <td>0.091622</td>\n",
       "      <td>0.252832</td>\n",
       "      <td>-0.017909</td>\n",
       "      <td>0.292706</td>\n",
       "      <td>-0.024505</td>\n",
       "      <td>1.000000</td>\n",
       "    </tr>\n",
       "  </tbody>\n",
       "</table>\n",
       "</div>"
      ],
      "text/plain": [
       "          AAPL      MSFT       XOM       JNJ       JPM      AMZN        GE  \\\n",
       "AAPL  1.000000  0.437430  0.055505  0.038432  0.199914  0.509472  0.006766   \n",
       "MSFT  0.437430  1.000000  0.084108  0.230215  0.191248  0.621096 -0.044827   \n",
       "XOM   0.055505  0.084108  1.000000  0.121012  0.305926  0.015118  0.193861   \n",
       "JNJ   0.038432  0.230215  0.121012  1.000000  0.070328  0.052781  0.067930   \n",
       "JPM   0.199914  0.191248  0.305926  0.070328  1.000000  0.013919  0.257401   \n",
       "AMZN  0.509472  0.621096  0.015118  0.052781  0.013919  1.000000 -0.092188   \n",
       "GE    0.006766 -0.044827  0.193861  0.067930  0.257401 -0.092188  1.000000   \n",
       "FB    0.542367  0.543341 -0.046813  0.079391  0.095245  0.653030 -0.024364   \n",
       "T     0.005082 -0.021079  0.197576  0.091622  0.252832 -0.017909  0.292706   \n",
       "\n",
       "            FB         T  \n",
       "AAPL  0.542367  0.005082  \n",
       "MSFT  0.543341 -0.021079  \n",
       "XOM  -0.046813  0.197576  \n",
       "JNJ   0.079391  0.091622  \n",
       "JPM   0.095245  0.252832  \n",
       "AMZN  0.653030 -0.017909  \n",
       "GE   -0.024364  0.292706  \n",
       "FB    1.000000 -0.024505  \n",
       "T    -0.024505  1.000000  "
      ]
     },
     "execution_count": 25,
     "metadata": {},
     "output_type": "execute_result"
    }
   ],
   "source": [
    "# Correlation matrix\n",
    "correlationMatrix = stockReturns.corr()\n",
    "correlationMatrix"
   ]
  },
  {
   "cell_type": "code",
   "execution_count": 26,
   "metadata": {},
   "outputs": [
    {
     "data": {
      "image/png": "[encoded data removed]",
      "text/plain": [
       "<Figure size 432x288 with 2 Axes>"
      ]
     },
     "metadata": {
      "needs_background": "light"
     },
     "output_type": "display_data"
    }
   ],
   "source": [
    "# Correlation matrix heatmap\n",
    "import seaborn as sns\n",
    "ax = sns.heatmap(correlationMatrix, cmap='PuBu')"
   ]
  },
  {
   "cell_type": "markdown",
   "metadata": {},
   "source": [
    "## Portfolio standard deviation\n",
    "\n",
    "$ \\sigma_p = \\sqrt{w_1^2\\sigma_1^2 + w_2^2\\sigma_2^2 + 2w_1w_2\\rho_{1,2}\\sigma_1\\sigma_2} $\n",
    "\n",
    "- $\\sigma_p$: portfolio standard deviation\n",
    "- $w$: asset weight\n",
    "- $\\sigma$: asset volatility\n",
    "- $\\rho_{1,2}$: correlation between assets 1 and 2\n",
    "\n",
    "To calculate the portfolio volatility:\n",
    "```python\n",
    "portfolioVolatility = np.sqrt(np.dot(weights.T, np.dot(covarianceMatrix, weights)))\n",
    "```"
   ]
  },
  {
   "cell_type": "code",
   "execution_count": 27,
   "metadata": {},
   "outputs": [
    {
     "data": {
      "text/html": [
       "<div>\n",
       "<style scoped>\n",
       "    .dataframe tbody tr th:only-of-type {\n",
       "        vertical-align: middle;\n",
       "    }\n",
       "\n",
       "    .dataframe tbody tr th {\n",
       "        vertical-align: top;\n",
       "    }\n",
       "\n",
       "    .dataframe thead th {\n",
       "        text-align: right;\n",
       "    }\n",
       "</style>\n",
       "<table border=\"1\" class=\"dataframe\">\n",
       "  <thead>\n",
       "    <tr style=\"text-align: right;\">\n",
       "      <th></th>\n",
       "      <th>AAPL</th>\n",
       "      <th>MSFT</th>\n",
       "      <th>XOM</th>\n",
       "      <th>JNJ</th>\n",
       "      <th>JPM</th>\n",
       "      <th>AMZN</th>\n",
       "      <th>GE</th>\n",
       "      <th>FB</th>\n",
       "      <th>T</th>\n",
       "    </tr>\n",
       "  </thead>\n",
       "  <tbody>\n",
       "    <tr>\n",
       "      <th>AAPL</th>\n",
       "      <td>1.230004e-04</td>\n",
       "      <td>0.000045</td>\n",
       "      <td>0.000004</td>\n",
       "      <td>0.000003</td>\n",
       "      <td>0.000023</td>\n",
       "      <td>0.000075</td>\n",
       "      <td>9.366843e-07</td>\n",
       "      <td>0.000064</td>\n",
       "      <td>6.028459e-07</td>\n",
       "    </tr>\n",
       "    <tr>\n",
       "      <th>MSFT</th>\n",
       "      <td>4.523795e-05</td>\n",
       "      <td>0.000087</td>\n",
       "      <td>0.000006</td>\n",
       "      <td>0.000015</td>\n",
       "      <td>0.000018</td>\n",
       "      <td>0.000076</td>\n",
       "      <td>-5.218049e-06</td>\n",
       "      <td>0.000054</td>\n",
       "      <td>-2.102457e-06</td>\n",
       "    </tr>\n",
       "    <tr>\n",
       "      <th>XOM</th>\n",
       "      <td>4.335558e-06</td>\n",
       "      <td>0.000006</td>\n",
       "      <td>0.000050</td>\n",
       "      <td>0.000006</td>\n",
       "      <td>0.000022</td>\n",
       "      <td>0.000001</td>\n",
       "      <td>1.704432e-05</td>\n",
       "      <td>-0.000004</td>\n",
       "      <td>1.488464e-05</td>\n",
       "    </tr>\n",
       "    <tr>\n",
       "      <th>JNJ</th>\n",
       "      <td>3.072253e-06</td>\n",
       "      <td>0.000015</td>\n",
       "      <td>0.000006</td>\n",
       "      <td>0.000052</td>\n",
       "      <td>0.000005</td>\n",
       "      <td>0.000005</td>\n",
       "      <td>6.112208e-06</td>\n",
       "      <td>0.000006</td>\n",
       "      <td>7.064036e-06</td>\n",
       "    </tr>\n",
       "    <tr>\n",
       "      <th>JPM</th>\n",
       "      <td>2.268091e-05</td>\n",
       "      <td>0.000018</td>\n",
       "      <td>0.000022</td>\n",
       "      <td>0.000005</td>\n",
       "      <td>0.000105</td>\n",
       "      <td>0.000002</td>\n",
       "      <td>3.287008e-05</td>\n",
       "      <td>0.000010</td>\n",
       "      <td>2.766552e-05</td>\n",
       "    </tr>\n",
       "    <tr>\n",
       "      <th>AMZN</th>\n",
       "      <td>7.462331e-05</td>\n",
       "      <td>0.000076</td>\n",
       "      <td>0.000001</td>\n",
       "      <td>0.000005</td>\n",
       "      <td>0.000002</td>\n",
       "      <td>0.000174</td>\n",
       "      <td>-1.519864e-05</td>\n",
       "      <td>0.000092</td>\n",
       "      <td>-2.530026e-06</td>\n",
       "    </tr>\n",
       "    <tr>\n",
       "      <th>GE</th>\n",
       "      <td>9.366843e-07</td>\n",
       "      <td>-0.000005</td>\n",
       "      <td>0.000017</td>\n",
       "      <td>0.000006</td>\n",
       "      <td>0.000033</td>\n",
       "      <td>-0.000015</td>\n",
       "      <td>1.558316e-04</td>\n",
       "      <td>-0.000003</td>\n",
       "      <td>3.908441e-05</td>\n",
       "    </tr>\n",
       "    <tr>\n",
       "      <th>FB</th>\n",
       "      <td>6.445736e-05</td>\n",
       "      <td>0.000054</td>\n",
       "      <td>-0.000004</td>\n",
       "      <td>0.000006</td>\n",
       "      <td>0.000010</td>\n",
       "      <td>0.000092</td>\n",
       "      <td>-3.259186e-06</td>\n",
       "      <td>0.000115</td>\n",
       "      <td>-2.808798e-06</td>\n",
       "    </tr>\n",
       "    <tr>\n",
       "      <th>T</th>\n",
       "      <td>6.028459e-07</td>\n",
       "      <td>-0.000002</td>\n",
       "      <td>0.000015</td>\n",
       "      <td>0.000007</td>\n",
       "      <td>0.000028</td>\n",
       "      <td>-0.000003</td>\n",
       "      <td>3.908441e-05</td>\n",
       "      <td>-0.000003</td>\n",
       "      <td>1.144161e-04</td>\n",
       "    </tr>\n",
       "  </tbody>\n",
       "</table>\n",
       "</div>"
      ],
      "text/plain": [
       "              AAPL      MSFT       XOM       JNJ       JPM      AMZN  \\\n",
       "AAPL  1.230004e-04  0.000045  0.000004  0.000003  0.000023  0.000075   \n",
       "MSFT  4.523795e-05  0.000087  0.000006  0.000015  0.000018  0.000076   \n",
       "XOM   4.335558e-06  0.000006  0.000050  0.000006  0.000022  0.000001   \n",
       "JNJ   3.072253e-06  0.000015  0.000006  0.000052  0.000005  0.000005   \n",
       "JPM   2.268091e-05  0.000018  0.000022  0.000005  0.000105  0.000002   \n",
       "AMZN  7.462331e-05  0.000076  0.000001  0.000005  0.000002  0.000174   \n",
       "GE    9.366843e-07 -0.000005  0.000017  0.000006  0.000033 -0.000015   \n",
       "FB    6.445736e-05  0.000054 -0.000004  0.000006  0.000010  0.000092   \n",
       "T     6.028459e-07 -0.000002  0.000015  0.000007  0.000028 -0.000003   \n",
       "\n",
       "                GE        FB             T  \n",
       "AAPL  9.366843e-07  0.000064  6.028459e-07  \n",
       "MSFT -5.218049e-06  0.000054 -2.102457e-06  \n",
       "XOM   1.704432e-05 -0.000004  1.488464e-05  \n",
       "JNJ   6.112208e-06  0.000006  7.064036e-06  \n",
       "JPM   3.287008e-05  0.000010  2.766552e-05  \n",
       "AMZN -1.519864e-05  0.000092 -2.530026e-06  \n",
       "GE    1.558316e-04 -0.000003  3.908441e-05  \n",
       "FB   -3.259186e-06  0.000115 -2.808798e-06  \n",
       "T     3.908441e-05 -0.000003  1.144161e-04  "
      ]
     },
     "execution_count": 27,
     "metadata": {},
     "output_type": "execute_result"
    }
   ],
   "source": [
    "covarianceMatrix = stockReturns.cov()\n",
    "covarianceMatrix"
   ]
  },
  {
   "cell_type": "code",
   "execution_count": 28,
   "metadata": {},
   "outputs": [
    {
     "data": {
      "text/html": [
       "<div>\n",
       "<style scoped>\n",
       "    .dataframe tbody tr th:only-of-type {\n",
       "        vertical-align: middle;\n",
       "    }\n",
       "\n",
       "    .dataframe tbody tr th {\n",
       "        vertical-align: top;\n",
       "    }\n",
       "\n",
       "    .dataframe thead th {\n",
       "        text-align: right;\n",
       "    }\n",
       "</style>\n",
       "<table border=\"1\" class=\"dataframe\">\n",
       "  <thead>\n",
       "    <tr style=\"text-align: right;\">\n",
       "      <th></th>\n",
       "      <th>AAPL</th>\n",
       "      <th>MSFT</th>\n",
       "      <th>XOM</th>\n",
       "      <th>JNJ</th>\n",
       "      <th>JPM</th>\n",
       "      <th>AMZN</th>\n",
       "      <th>GE</th>\n",
       "      <th>FB</th>\n",
       "      <th>T</th>\n",
       "    </tr>\n",
       "  </thead>\n",
       "  <tbody>\n",
       "    <tr>\n",
       "      <th>AAPL</th>\n",
       "      <td>0.030996</td>\n",
       "      <td>0.011400</td>\n",
       "      <td>0.001093</td>\n",
       "      <td>0.000774</td>\n",
       "      <td>0.005716</td>\n",
       "      <td>0.018805</td>\n",
       "      <td>0.000236</td>\n",
       "      <td>0.016243</td>\n",
       "      <td>0.000152</td>\n",
       "    </tr>\n",
       "    <tr>\n",
       "      <th>MSFT</th>\n",
       "      <td>0.011400</td>\n",
       "      <td>0.021912</td>\n",
       "      <td>0.001392</td>\n",
       "      <td>0.003899</td>\n",
       "      <td>0.004597</td>\n",
       "      <td>0.019275</td>\n",
       "      <td>-0.001315</td>\n",
       "      <td>0.013682</td>\n",
       "      <td>-0.000530</td>\n",
       "    </tr>\n",
       "    <tr>\n",
       "      <th>XOM</th>\n",
       "      <td>0.001093</td>\n",
       "      <td>0.001392</td>\n",
       "      <td>0.012500</td>\n",
       "      <td>0.001548</td>\n",
       "      <td>0.005554</td>\n",
       "      <td>0.000354</td>\n",
       "      <td>0.004295</td>\n",
       "      <td>-0.000890</td>\n",
       "      <td>0.003751</td>\n",
       "    </tr>\n",
       "    <tr>\n",
       "      <th>JNJ</th>\n",
       "      <td>0.000774</td>\n",
       "      <td>0.003899</td>\n",
       "      <td>0.001548</td>\n",
       "      <td>0.013092</td>\n",
       "      <td>0.001307</td>\n",
       "      <td>0.001266</td>\n",
       "      <td>0.001540</td>\n",
       "      <td>0.001545</td>\n",
       "      <td>0.001780</td>\n",
       "    </tr>\n",
       "    <tr>\n",
       "      <th>JPM</th>\n",
       "      <td>0.005716</td>\n",
       "      <td>0.004597</td>\n",
       "      <td>0.005554</td>\n",
       "      <td>0.001307</td>\n",
       "      <td>0.026371</td>\n",
       "      <td>0.000474</td>\n",
       "      <td>0.008283</td>\n",
       "      <td>0.002631</td>\n",
       "      <td>0.006972</td>\n",
       "    </tr>\n",
       "    <tr>\n",
       "      <th>AMZN</th>\n",
       "      <td>0.018805</td>\n",
       "      <td>0.019275</td>\n",
       "      <td>0.000354</td>\n",
       "      <td>0.001266</td>\n",
       "      <td>0.000474</td>\n",
       "      <td>0.043954</td>\n",
       "      <td>-0.003830</td>\n",
       "      <td>0.023290</td>\n",
       "      <td>-0.000638</td>\n",
       "    </tr>\n",
       "    <tr>\n",
       "      <th>GE</th>\n",
       "      <td>0.000236</td>\n",
       "      <td>-0.001315</td>\n",
       "      <td>0.004295</td>\n",
       "      <td>0.001540</td>\n",
       "      <td>0.008283</td>\n",
       "      <td>-0.003830</td>\n",
       "      <td>0.039270</td>\n",
       "      <td>-0.000821</td>\n",
       "      <td>0.009849</td>\n",
       "    </tr>\n",
       "    <tr>\n",
       "      <th>FB</th>\n",
       "      <td>0.016243</td>\n",
       "      <td>0.013682</td>\n",
       "      <td>-0.000890</td>\n",
       "      <td>0.001545</td>\n",
       "      <td>0.002631</td>\n",
       "      <td>0.023290</td>\n",
       "      <td>-0.000821</td>\n",
       "      <td>0.028937</td>\n",
       "      <td>-0.000708</td>\n",
       "    </tr>\n",
       "    <tr>\n",
       "      <th>T</th>\n",
       "      <td>0.000152</td>\n",
       "      <td>-0.000530</td>\n",
       "      <td>0.003751</td>\n",
       "      <td>0.001780</td>\n",
       "      <td>0.006972</td>\n",
       "      <td>-0.000638</td>\n",
       "      <td>0.009849</td>\n",
       "      <td>-0.000708</td>\n",
       "      <td>0.028833</td>\n",
       "    </tr>\n",
       "  </tbody>\n",
       "</table>\n",
       "</div>"
      ],
      "text/plain": [
       "          AAPL      MSFT       XOM       JNJ       JPM      AMZN        GE  \\\n",
       "AAPL  0.030996  0.011400  0.001093  0.000774  0.005716  0.018805  0.000236   \n",
       "MSFT  0.011400  0.021912  0.001392  0.003899  0.004597  0.019275 -0.001315   \n",
       "XOM   0.001093  0.001392  0.012500  0.001548  0.005554  0.000354  0.004295   \n",
       "JNJ   0.000774  0.003899  0.001548  0.013092  0.001307  0.001266  0.001540   \n",
       "JPM   0.005716  0.004597  0.005554  0.001307  0.026371  0.000474  0.008283   \n",
       "AMZN  0.018805  0.019275  0.000354  0.001266  0.000474  0.043954 -0.003830   \n",
       "GE    0.000236 -0.001315  0.004295  0.001540  0.008283 -0.003830  0.039270   \n",
       "FB    0.016243  0.013682 -0.000890  0.001545  0.002631  0.023290 -0.000821   \n",
       "T     0.000152 -0.000530  0.003751  0.001780  0.006972 -0.000638  0.009849   \n",
       "\n",
       "            FB         T  \n",
       "AAPL  0.016243  0.000152  \n",
       "MSFT  0.013682 -0.000530  \n",
       "XOM  -0.000890  0.003751  \n",
       "JNJ   0.001545  0.001780  \n",
       "JPM   0.002631  0.006972  \n",
       "AMZN  0.023290 -0.000638  \n",
       "GE   -0.000821  0.009849  \n",
       "FB    0.028937 -0.000708  \n",
       "T    -0.000708  0.028833  "
      ]
     },
     "execution_count": 28,
     "metadata": {},
     "output_type": "execute_result"
    }
   ],
   "source": [
    "# Annualizing the covariance matrix\n",
    "covarianceMatrixAnnual = covarianceMatrix*252\n",
    "covarianceMatrixAnnual"
   ]
  },
  {
   "cell_type": "markdown",
   "metadata": {},
   "source": [
    "## Portfolio standard deviation using covariance\n",
    "\n",
    "### Portfolio volatility:\n",
    "$ \\sigma_{portfolio} = \\sqrt{w_T \\bullet \\Sigma \\bullet w} $\n",
    "\n",
    "- $\\sigma_{portfolio}$: portfolio volatility\n",
    "- $\\Sigma$: covariance matrix of returns\n",
    "- $w$: portfolio weights ($w_T$ is transposed portfolio weights)\n",
    "- $\\bullet$: dot-multiplication operator\n",
    "\n",
    "### Matrix transpose\n",
    "$ \\begin{bmatrix} 1 & 2 \\end{bmatrix}^T = \\begin{bmatrix} 1 \\\\ 2 \\end{bmatrix} $\n",
    "\n",
    "### Dot product\n",
    "$ a \\bullet b = \\sum\\limits^{n}_{i=1}a_ib_i = a_1b_1 + a_2b_2 + \\ldots + a_nb_n $"
   ]
  },
  {
   "cell_type": "markdown",
   "metadata": {},
   "source": [
    "# 2.2 Markowitz portfolios\n",
    "\n",
    "## Sharpe ratio\n",
    "This is a measure of risk-adjusted return\n",
    "\n",
    "$ S = \\frac{R_a-r_f}{\\sigma_a} $\n",
    "\n",
    "- $S$: sharpe ratio\n",
    "- $R_a$: asset return\n",
    "- $r_f$: risk-free rate of return\n",
    "- $\\sigma_a$: asset volatility\n",
    "\n",
    "![Markowitz portfolios](the-markowitz-portfolios.PNG)\n",
    "\n",
    "- **MSR**: max sharpe ratio portfolio\n",
    "- **GMV**: global minimum volatility portfolio\n",
    "\n",
    "To choose the best portfolio:\n",
    "- Portfolio on the bounding edge of the efficient frontier\n",
    "- Higher return is available if you can stomach higher risk"
   ]
  },
  {
   "cell_type": "code",
   "execution_count": 29,
   "metadata": {
    "scrolled": true
   },
   "outputs": [
    {
     "data": {
      "text/plain": [
       "array([0.00755369, 0.00573255, 0.00724446, 0.16672379, 0.38235578,\n",
       "       0.01794065, 0.0103131 , 0.01125444, 0.39088154])"
      ]
     },
     "execution_count": 29,
     "metadata": {},
     "output_type": "execute_result"
    }
   ],
   "source": [
    "numStocks = 9\n",
    "riskFree = 0\n",
    "stockWeights['Sharpe'] = (stockWeights['Returns']-riskFree) / stockWeights['Volatility']\n",
    "stockWeights.head()\n",
    "MSR = stockWeights.sort_values(by=['Sharpe'], ascending=False)\n",
    "MSRWeights = MSR.iloc[0, 0:numStocks]\n",
    "np.array(MSRWeights)"
   ]
  },
  {
   "cell_type": "markdown",
   "metadata": {},
   "source": [
    "#### Past performance is not a guarantee of future returns\n",
    "\n",
    "Max Sharpe ratio portfolio sound nice, but in reality, returns are difficult to predict"
   ]
  },
  {
   "cell_type": "code",
   "execution_count": 30,
   "metadata": {},
   "outputs": [
    {
     "data": {
      "text/plain": [
       "array([0.08658622, 0.01522472, 0.04522291, 0.34099938, 0.02868646,\n",
       "       0.03481758, 0.06975889, 0.01879761, 0.35990623])"
      ]
     },
     "execution_count": 30,
     "metadata": {},
     "output_type": "execute_result"
    }
   ],
   "source": [
    "GMV = stockWeights.sort_values(by=['Volatility'], ascending=True)\n",
    "GMVWeights = GMV.iloc[0,0:numStocks]\n",
    "np.array(GMVWeights)"
   ]
  },
  {
   "cell_type": "markdown",
   "metadata": {},
   "source": [
    "# 3.0 The capital asset pricing asset\n",
    "\n",
    "## CAPM (Capital asset pricing model)\n",
    "CAPM is the fundamental building block for other models in finance\n",
    "\n",
    "$ E(R_P) - RF = \\beta_P(E(R_M) - RF) $\n",
    "\n",
    "- $E(R_p) - RF$: excess expected return of a stock or portfolio P\n",
    "- $E(R_M) - RF$: excess expected return of the broad market portfolio B\n",
    "- $RF$: regional risk-free rate\n",
    "- $\\beta_p$: portfolio beta / exposure to the braod market portfolio B\n",
    "\n",
    "### Calculating historical beta using covariance\n",
    "$ \\beta_P = \\frac{cov(R_P,R_B)}{var(R_B)} $\n",
    "\n",
    "- $cov(R_P,R_B)$: covariance between portfolio P and the benchmark market index B\n",
    "- $var(R_B)$: variance of the benchmark market index\n",
    "\n",
    "### Excess returns\n",
    "`Excess return = Portfolio return - Risk free return`"
   ]
  },
  {
   "cell_type": "code",
   "execution_count": 31,
   "metadata": {
    "scrolled": true
   },
   "outputs": [
    {
     "name": "stdout",
     "output_type": "stream",
     "text": [
      "<class 'pandas.core.frame.DataFrame'>\n",
      "DatetimeIndex: 1258 entries, 2013-01-03 to 2017-12-29\n",
      "Data columns (total 7 columns):\n",
      "Portfolio        1258 non-null float64\n",
      "Market_Excess    1258 non-null float64\n",
      "SMB              1258 non-null float64\n",
      "HML              1258 non-null float64\n",
      "RMW              1258 non-null float64\n",
      "CMA              1258 non-null float64\n",
      "RF               1258 non-null float64\n",
      "dtypes: float64(7)\n",
      "memory usage: 78.6 KB\n",
      "None\n"
     ]
    },
    {
     "data": {
      "text/html": [
       "<div>\n",
       "<style scoped>\n",
       "    .dataframe tbody tr th:only-of-type {\n",
       "        vertical-align: middle;\n",
       "    }\n",
       "\n",
       "    .dataframe tbody tr th {\n",
       "        vertical-align: top;\n",
       "    }\n",
       "\n",
       "    .dataframe thead th {\n",
       "        text-align: right;\n",
       "    }\n",
       "</style>\n",
       "<table border=\"1\" class=\"dataframe\">\n",
       "  <thead>\n",
       "    <tr style=\"text-align: right;\">\n",
       "      <th></th>\n",
       "      <th>Portfolio</th>\n",
       "      <th>Market_Excess</th>\n",
       "      <th>SMB</th>\n",
       "      <th>HML</th>\n",
       "      <th>RMW</th>\n",
       "      <th>CMA</th>\n",
       "      <th>RF</th>\n",
       "    </tr>\n",
       "    <tr>\n",
       "      <th>Date</th>\n",
       "      <th></th>\n",
       "      <th></th>\n",
       "      <th></th>\n",
       "      <th></th>\n",
       "      <th></th>\n",
       "      <th></th>\n",
       "      <th></th>\n",
       "    </tr>\n",
       "  </thead>\n",
       "  <tbody>\n",
       "    <tr>\n",
       "      <th>2013-01-03</th>\n",
       "      <td>-0.005066</td>\n",
       "      <td>-0.0014</td>\n",
       "      <td>0.0014</td>\n",
       "      <td>0.0004</td>\n",
       "      <td>0.0020</td>\n",
       "      <td>0.0023</td>\n",
       "      <td>0.0</td>\n",
       "    </tr>\n",
       "    <tr>\n",
       "      <th>2013-01-04</th>\n",
       "      <td>0.004024</td>\n",
       "      <td>0.0055</td>\n",
       "      <td>0.0019</td>\n",
       "      <td>0.0043</td>\n",
       "      <td>-0.0037</td>\n",
       "      <td>0.0027</td>\n",
       "      <td>0.0</td>\n",
       "    </tr>\n",
       "    <tr>\n",
       "      <th>2013-01-07</th>\n",
       "      <td>0.004421</td>\n",
       "      <td>-0.0031</td>\n",
       "      <td>-0.0009</td>\n",
       "      <td>-0.0037</td>\n",
       "      <td>-0.0013</td>\n",
       "      <td>-0.0012</td>\n",
       "      <td>0.0</td>\n",
       "    </tr>\n",
       "    <tr>\n",
       "      <th>2013-01-08</th>\n",
       "      <td>-0.004659</td>\n",
       "      <td>-0.0027</td>\n",
       "      <td>0.0004</td>\n",
       "      <td>-0.0007</td>\n",
       "      <td>-0.0012</td>\n",
       "      <td>0.0009</td>\n",
       "      <td>0.0</td>\n",
       "    </tr>\n",
       "    <tr>\n",
       "      <th>2013-01-09</th>\n",
       "      <td>0.004636</td>\n",
       "      <td>0.0034</td>\n",
       "      <td>0.0024</td>\n",
       "      <td>-0.0041</td>\n",
       "      <td>-0.0007</td>\n",
       "      <td>-0.0015</td>\n",
       "      <td>0.0</td>\n",
       "    </tr>\n",
       "  </tbody>\n",
       "</table>\n",
       "</div>"
      ],
      "text/plain": [
       "            Portfolio  Market_Excess     SMB     HML     RMW     CMA   RF\n",
       "Date                                                                     \n",
       "2013-01-03  -0.005066        -0.0014  0.0014  0.0004  0.0020  0.0023  0.0\n",
       "2013-01-04   0.004024         0.0055  0.0019  0.0043 -0.0037  0.0027  0.0\n",
       "2013-01-07   0.004421        -0.0031 -0.0009 -0.0037 -0.0013 -0.0012  0.0\n",
       "2013-01-08  -0.004659        -0.0027  0.0004 -0.0007 -0.0012  0.0009  0.0\n",
       "2013-01-09   0.004636         0.0034  0.0024 -0.0041 -0.0007 -0.0015  0.0"
      ]
     },
     "execution_count": 31,
     "metadata": {},
     "output_type": "execute_result"
    }
   ],
   "source": [
    "famaFrenchFactors = pd.read_csv('data/FamaFrenchFactors.csv', index_col='Date', parse_dates=['Date'])\n",
    "print(famaFrenchFactors.info())\n",
    "famaFrenchFactors.head()"
   ]
  },
  {
   "cell_type": "code",
   "execution_count": 32,
   "metadata": {},
   "outputs": [
    {
     "data": {
      "text/html": [
       "<div>\n",
       "<style scoped>\n",
       "    .dataframe tbody tr th:only-of-type {\n",
       "        vertical-align: middle;\n",
       "    }\n",
       "\n",
       "    .dataframe tbody tr th {\n",
       "        vertical-align: top;\n",
       "    }\n",
       "\n",
       "    .dataframe thead th {\n",
       "        text-align: right;\n",
       "    }\n",
       "</style>\n",
       "<table border=\"1\" class=\"dataframe\">\n",
       "  <thead>\n",
       "    <tr style=\"text-align: right;\">\n",
       "      <th></th>\n",
       "      <th>Portfolio</th>\n",
       "      <th>Market_Excess</th>\n",
       "    </tr>\n",
       "  </thead>\n",
       "  <tbody>\n",
       "    <tr>\n",
       "      <th>Portfolio</th>\n",
       "      <td>0.000070</td>\n",
       "      <td>0.000057</td>\n",
       "    </tr>\n",
       "    <tr>\n",
       "      <th>Market_Excess</th>\n",
       "      <td>0.000057</td>\n",
       "      <td>0.000059</td>\n",
       "    </tr>\n",
       "  </tbody>\n",
       "</table>\n",
       "</div>"
      ],
      "text/plain": [
       "               Portfolio  Market_Excess\n",
       "Portfolio       0.000070       0.000057\n",
       "Market_Excess   0.000057       0.000059"
      ]
     },
     "execution_count": 32,
     "metadata": {},
     "output_type": "execute_result"
    }
   ],
   "source": [
    "convarianceMatrix = famaFrenchFactors[['Portfolio','Market_Excess']].cov()\n",
    "convarianceMatrix"
   ]
  },
  {
   "cell_type": "code",
   "execution_count": 33,
   "metadata": {},
   "outputs": [
    {
     "data": {
      "text/plain": [
       "5.726320572793939e-05"
      ]
     },
     "execution_count": 33,
     "metadata": {},
     "output_type": "execute_result"
    }
   ],
   "source": [
    "convarianceCoefficient = convarianceMatrix.iloc[0,1]\n",
    "convarianceCoefficient"
   ]
  },
  {
   "cell_type": "code",
   "execution_count": 34,
   "metadata": {},
   "outputs": [
    {
     "data": {
      "text/plain": [
       "5.8803350882118946e-05"
      ]
     },
     "execution_count": 34,
     "metadata": {},
     "output_type": "execute_result"
    }
   ],
   "source": [
    "benchmarkVariance = famaFrenchFactors['Market_Excess'].var()\n",
    "benchmarkVariance"
   ]
  },
  {
   "cell_type": "code",
   "execution_count": 35,
   "metadata": {},
   "outputs": [
    {
     "data": {
      "text/plain": [
       "0.9738085477940358"
      ]
     },
     "execution_count": 35,
     "metadata": {},
     "output_type": "execute_result"
    }
   ],
   "source": [
    "portfolioBeta = convarianceCoefficient / benchmarkVariance\n",
    "portfolioBeta"
   ]
  },
  {
   "cell_type": "markdown",
   "metadata": {},
   "source": [
    "### Calculating beta using linear regression"
   ]
  },
  {
   "cell_type": "code",
   "execution_count": 36,
   "metadata": {},
   "outputs": [],
   "source": [
    "import statsmodels.formula.api as smf"
   ]
  },
  {
   "cell_type": "code",
   "execution_count": 37,
   "metadata": {},
   "outputs": [
    {
     "data": {
      "text/plain": [
       "0.9738085477940359"
      ]
     },
     "execution_count": 37,
     "metadata": {},
     "output_type": "execute_result"
    }
   ],
   "source": [
    "model = smf.ols(formula='Portfolio ~ Market_Excess', data=famaFrenchFactors)\n",
    "fit = model.fit()\n",
    "beta = fit.params['Market_Excess']\n",
    "beta"
   ]
  },
  {
   "cell_type": "markdown",
   "metadata": {},
   "source": [
    "### R-squared vs Adjusted R-squared"
   ]
  },
  {
   "cell_type": "code",
   "execution_count": 38,
   "metadata": {},
   "outputs": [
    {
     "data": {
      "text/plain": [
       "0.794502321892429"
      ]
     },
     "execution_count": 38,
     "metadata": {},
     "output_type": "execute_result"
    }
   ],
   "source": [
    "rSquared = fit.rsquared\n",
    "rSquared"
   ]
  },
  {
   "cell_type": "code",
   "execution_count": 39,
   "metadata": {},
   "outputs": [
    {
     "data": {
      "text/plain": [
       "0.7943387090913879"
      ]
     },
     "execution_count": 39,
     "metadata": {},
     "output_type": "execute_result"
    }
   ],
   "source": [
    "adjustedRSquared = fit.rsquared_adj\n",
    "adjustedRSquared"
   ]
  },
  {
   "cell_type": "markdown",
   "metadata": {},
   "source": [
    "# 3.1 Alpha and multi-factor models\n",
    "\n",
    "## The Fama-French 3 factor model\n",
    "\n",
    "$ R_P = RF + \\beta_M(R_M - RF) + b_{SMB} \\bullet SMB + b_{HML} \\bullet HML + \\alpha $\n",
    "\n",
    "- $SMB$: small minus big factor\n",
    "- $b_{SMB}$: exposure to SMB factor\n",
    "- $HML$: high minus low factor\n",
    "- $b_{HML}$: exposure to HML factor\n",
    "- $\\alpha$: performance which is unexplained by any other factors\n",
    "- $\\beta_M$: beta to the broad market portfolio B"
   ]
  },
  {
   "cell_type": "code",
   "execution_count": 40,
   "metadata": {
    "scrolled": true
   },
   "outputs": [
    {
     "data": {
      "text/html": [
       "<div>\n",
       "<style scoped>\n",
       "    .dataframe tbody tr th:only-of-type {\n",
       "        vertical-align: middle;\n",
       "    }\n",
       "\n",
       "    .dataframe tbody tr th {\n",
       "        vertical-align: top;\n",
       "    }\n",
       "\n",
       "    .dataframe thead th {\n",
       "        text-align: right;\n",
       "    }\n",
       "</style>\n",
       "<table border=\"1\" class=\"dataframe\">\n",
       "  <thead>\n",
       "    <tr style=\"text-align: right;\">\n",
       "      <th></th>\n",
       "      <th>Portfolio</th>\n",
       "      <th>Market_Excess</th>\n",
       "      <th>SMB</th>\n",
       "      <th>HML</th>\n",
       "      <th>RMW</th>\n",
       "      <th>CMA</th>\n",
       "      <th>RF</th>\n",
       "    </tr>\n",
       "    <tr>\n",
       "      <th>Date</th>\n",
       "      <th></th>\n",
       "      <th></th>\n",
       "      <th></th>\n",
       "      <th></th>\n",
       "      <th></th>\n",
       "      <th></th>\n",
       "      <th></th>\n",
       "    </tr>\n",
       "  </thead>\n",
       "  <tbody>\n",
       "    <tr>\n",
       "      <th>2013-01-03</th>\n",
       "      <td>-0.005066</td>\n",
       "      <td>-0.0014</td>\n",
       "      <td>0.0014</td>\n",
       "      <td>0.0004</td>\n",
       "      <td>0.0020</td>\n",
       "      <td>0.0023</td>\n",
       "      <td>0.0</td>\n",
       "    </tr>\n",
       "    <tr>\n",
       "      <th>2013-01-04</th>\n",
       "      <td>0.004024</td>\n",
       "      <td>0.0055</td>\n",
       "      <td>0.0019</td>\n",
       "      <td>0.0043</td>\n",
       "      <td>-0.0037</td>\n",
       "      <td>0.0027</td>\n",
       "      <td>0.0</td>\n",
       "    </tr>\n",
       "    <tr>\n",
       "      <th>2013-01-07</th>\n",
       "      <td>0.004421</td>\n",
       "      <td>-0.0031</td>\n",
       "      <td>-0.0009</td>\n",
       "      <td>-0.0037</td>\n",
       "      <td>-0.0013</td>\n",
       "      <td>-0.0012</td>\n",
       "      <td>0.0</td>\n",
       "    </tr>\n",
       "    <tr>\n",
       "      <th>2013-01-08</th>\n",
       "      <td>-0.004659</td>\n",
       "      <td>-0.0027</td>\n",
       "      <td>0.0004</td>\n",
       "      <td>-0.0007</td>\n",
       "      <td>-0.0012</td>\n",
       "      <td>0.0009</td>\n",
       "      <td>0.0</td>\n",
       "    </tr>\n",
       "    <tr>\n",
       "      <th>2013-01-09</th>\n",
       "      <td>0.004636</td>\n",
       "      <td>0.0034</td>\n",
       "      <td>0.0024</td>\n",
       "      <td>-0.0041</td>\n",
       "      <td>-0.0007</td>\n",
       "      <td>-0.0015</td>\n",
       "      <td>0.0</td>\n",
       "    </tr>\n",
       "  </tbody>\n",
       "</table>\n",
       "</div>"
      ],
      "text/plain": [
       "            Portfolio  Market_Excess     SMB     HML     RMW     CMA   RF\n",
       "Date                                                                     \n",
       "2013-01-03  -0.005066        -0.0014  0.0014  0.0004  0.0020  0.0023  0.0\n",
       "2013-01-04   0.004024         0.0055  0.0019  0.0043 -0.0037  0.0027  0.0\n",
       "2013-01-07   0.004421        -0.0031 -0.0009 -0.0037 -0.0013 -0.0012  0.0\n",
       "2013-01-08  -0.004659        -0.0027  0.0004 -0.0007 -0.0012  0.0009  0.0\n",
       "2013-01-09   0.004636         0.0034  0.0024 -0.0041 -0.0007 -0.0015  0.0"
      ]
     },
     "execution_count": 40,
     "metadata": {},
     "output_type": "execute_result"
    }
   ],
   "source": [
    "famaFrenchFactors.head()"
   ]
  },
  {
   "cell_type": "code",
   "execution_count": 41,
   "metadata": {},
   "outputs": [
    {
     "data": {
      "text/plain": [
       "0.8194687130934963"
      ]
     },
     "execution_count": 41,
     "metadata": {},
     "output_type": "execute_result"
    }
   ],
   "source": [
    "model2 = smf.ols(formula='Portfolio ~ Market_Excess + SMB + HML', data=famaFrenchFactors)\n",
    "fit2 = model2.fit()\n",
    "adjustedRSquared2 = fit2.rsquared_adj\n",
    "adjustedRSquared2"
   ]
  },
  {
   "cell_type": "code",
   "execution_count": 42,
   "metadata": {},
   "outputs": [
    {
     "data": {
      "text/plain": [
       "4.6546317150001906e-07"
      ]
     },
     "execution_count": 42,
     "metadata": {},
     "output_type": "execute_result"
    }
   ],
   "source": [
    "fit2.pvalues['HML']"
   ]
  },
  {
   "cell_type": "code",
   "execution_count": 43,
   "metadata": {},
   "outputs": [
    {
     "data": {
      "text/plain": [
       "True"
      ]
     },
     "execution_count": 43,
     "metadata": {},
     "output_type": "execute_result"
    }
   ],
   "source": [
    "fit2.pvalues['HML'] < 0.05"
   ]
  },
  {
   "cell_type": "code",
   "execution_count": 44,
   "metadata": {},
   "outputs": [
    {
     "data": {
      "text/plain": [
       "-0.10867209271322338"
      ]
     },
     "execution_count": 44,
     "metadata": {},
     "output_type": "execute_result"
    }
   ],
   "source": [
    "fit2.params['HML']"
   ]
  },
  {
   "cell_type": "code",
   "execution_count": 45,
   "metadata": {},
   "outputs": [
    {
     "data": {
      "text/plain": [
       "-0.262151159124763"
      ]
     },
     "execution_count": 45,
     "metadata": {},
     "output_type": "execute_result"
    }
   ],
   "source": [
    "fit2.params['SMB']"
   ]
  },
  {
   "cell_type": "code",
   "execution_count": 46,
   "metadata": {},
   "outputs": [
    {
     "data": {
      "text/plain": [
       "0.00019140256747527139"
      ]
     },
     "execution_count": 46,
     "metadata": {},
     "output_type": "execute_result"
    }
   ],
   "source": [
    "portfolioAlpha = fit2.params['Intercept']\n",
    "portfolioAlpha"
   ]
  },
  {
   "cell_type": "code",
   "execution_count": 47,
   "metadata": {},
   "outputs": [
    {
     "data": {
      "text/plain": [
       "0.049410766185005395"
      ]
     },
     "execution_count": 47,
     "metadata": {},
     "output_type": "execute_result"
    }
   ],
   "source": [
    "portfolioAlphaAnnualized = ((1+portfolioAlpha)**252)-1\n",
    "portfolioAlphaAnnualized"
   ]
  },
  {
   "cell_type": "markdown",
   "metadata": {},
   "source": [
    "# 3.2 Expanding the 3-factor model\n",
    "\n",
    "## The Fama-French 5 factor model\n",
    "\n",
    "2 additional factors:\n",
    "- **RMW**: profitability\n",
    "    - returns of companies with high vs low operating profitability\n",
    "- **CMA**: investment\n",
    "    - returns of companies with aggressive vs conservative investments"
   ]
  },
  {
   "cell_type": "code",
   "execution_count": 48,
   "metadata": {},
   "outputs": [
    {
     "data": {
      "text/plain": [
       "0.8368098114264946"
      ]
     },
     "execution_count": 48,
     "metadata": {},
     "output_type": "execute_result"
    }
   ],
   "source": [
    "model3 = smf.ols(formula='Portfolio ~ Market_Excess + SMB + HML + RMW + CMA', data=famaFrenchFactors)\n",
    "fit3 = model3.fit()\n",
    "adjustedRSquared3 = fit3.rsquared_adj\n",
    "adjustedRSquared3"
   ]
  },
  {
   "cell_type": "markdown",
   "metadata": {},
   "source": [
    "# 4.0 Estimating tail risk\n",
    "\n",
    "**Tail risk** is the risk of extreme investment outcomes\n",
    "\n",
    "- Historical drawdown\n",
    "- Value at risk\n",
    "- Conditional value at risk\n",
    "- Monte-Carlo simulation\n",
    "\n",
    "## Historical drawdown\n",
    "![Historical drawdown](historical-drawdown.PNG)\n",
    "\n",
    "**Drawdown** is the percentage loss from the highest cumulative historical point\n",
    "\n",
    "$ Drawdown = \\frac{r_t}{RM} - 1 $\n",
    "\n",
    "- $r_t$: cumulative return at time t\n",
    "- **RM**: running maximum"
   ]
  },
  {
   "cell_type": "code",
   "execution_count": 49,
   "metadata": {},
   "outputs": [
    {
     "data": {
      "text/html": [
       "<div>\n",
       "<style scoped>\n",
       "    .dataframe tbody tr th:only-of-type {\n",
       "        vertical-align: middle;\n",
       "    }\n",
       "\n",
       "    .dataframe tbody tr th {\n",
       "        vertical-align: top;\n",
       "    }\n",
       "\n",
       "    .dataframe thead th {\n",
       "        text-align: right;\n",
       "    }\n",
       "</style>\n",
       "<table border=\"1\" class=\"dataframe\">\n",
       "  <thead>\n",
       "    <tr style=\"text-align: right;\">\n",
       "      <th></th>\n",
       "      <th>USO</th>\n",
       "    </tr>\n",
       "    <tr>\n",
       "      <th>Date</th>\n",
       "      <th></th>\n",
       "    </tr>\n",
       "  </thead>\n",
       "  <tbody>\n",
       "    <tr>\n",
       "      <th>2007-01-03</th>\n",
       "      <td>-0.042636</td>\n",
       "    </tr>\n",
       "    <tr>\n",
       "      <th>2007-01-04</th>\n",
       "      <td>-0.040688</td>\n",
       "    </tr>\n",
       "    <tr>\n",
       "      <th>2007-01-05</th>\n",
       "      <td>0.009285</td>\n",
       "    </tr>\n",
       "    <tr>\n",
       "      <th>2007-01-08</th>\n",
       "      <td>-0.007109</td>\n",
       "    </tr>\n",
       "    <tr>\n",
       "      <th>2007-01-09</th>\n",
       "      <td>-0.004001</td>\n",
       "    </tr>\n",
       "  </tbody>\n",
       "</table>\n",
       "</div>"
      ],
      "text/plain": [
       "                 USO\n",
       "Date                \n",
       "2007-01-03 -0.042636\n",
       "2007-01-04 -0.040688\n",
       "2007-01-05  0.009285\n",
       "2007-01-08 -0.007109\n",
       "2007-01-09 -0.004001"
      ]
     },
     "execution_count": 49,
     "metadata": {},
     "output_type": "execute_result"
    }
   ],
   "source": [
    "uso = pd.read_csv('data/USO.csv', index_col='Date', parse_dates=['Date'])\n",
    "uso.head()"
   ]
  },
  {
   "cell_type": "code",
   "execution_count": 50,
   "metadata": {},
   "outputs": [
    {
     "data": {
      "image/png": "[encoded data removed]",
      "text/plain": [
       "<Figure size 432x288 with 1 Axes>"
      ]
     },
     "metadata": {
      "needs_background": "light"
     },
     "output_type": "display_data"
    }
   ],
   "source": [
    "uso.plot(grid=True)\n",
    "plt.show()"
   ]
  },
  {
   "cell_type": "code",
   "execution_count": 51,
   "metadata": {},
   "outputs": [
    {
     "data": {
      "image/png": "[encoded data removed]",
      "text/plain": [
       "<Figure size 432x288 with 1 Axes>"
      ]
     },
     "metadata": {
      "needs_background": "light"
     },
     "output_type": "display_data"
    }
   ],
   "source": [
    "runningMax = np.maximum.accumulate(uso['USO'])\n",
    "runningMax[runningMax < 1] = 1\n",
    "drawdown = uso['USO'] / runningMax - 1\n",
    "drawdown.plot(grid=True)\n",
    "plt.show()"
   ]
  },
  {
   "cell_type": "markdown",
   "metadata": {},
   "source": [
    "## Historical value at risk\n",
    "\n",
    "![Historical value](historical-shortfall-vs-value.PNG)\n",
    "\n",
    "**Value at risk (VaR)** is a threshold with a given confidence level that losses will not historically  exceed a certain level\n",
    "\n",
    "E.g.\n",
    "`VaR(95) = -2.3%`\n",
    "\n",
    "95% certain that losses will not exceed `-2.3%` in a given day based on historical value\n",
    "\n",
    "## Historical expected shortfall\n",
    "\n",
    "**Conditional value at risk (cVaR)**: estimate of expected losses sustained in the worst 1-x% of scenarios\n",
    "\n",
    "`cVaR(95) = -2.5%`\n",
    "\n",
    "In worst 5% of cases, losses were on average exceed -2.5% historically."
   ]
  },
  {
   "cell_type": "code",
   "execution_count": 52,
   "metadata": {},
   "outputs": [
    {
     "data": {
      "text/plain": [
       "-0.01449299137117219"
      ]
     },
     "execution_count": 52,
     "metadata": {},
     "output_type": "execute_result"
    }
   ],
   "source": [
    "varLevel = 95\n",
    "var95 = np.percentile(stockReturns, 100 - varLevel)\n",
    "var95"
   ]
  },
  {
   "cell_type": "code",
   "execution_count": 53,
   "metadata": {},
   "outputs": [
    {
     "data": {
      "text/plain": [
       "AAPL   -0.022576\n",
       "MSFT   -0.020743\n",
       "XOM    -0.016397\n",
       "JNJ    -0.020421\n",
       "JPM    -0.022801\n",
       "AMZN   -0.022419\n",
       "GE     -0.028429\n",
       "FB     -0.025118\n",
       "T      -0.024000\n",
       "dtype: float64"
      ]
     },
     "execution_count": 53,
     "metadata": {},
     "output_type": "execute_result"
    }
   ],
   "source": [
    "cVar95 = stockReturns[stockReturns <= var95].mean()\n",
    "cVar95"
   ]
  },
  {
   "cell_type": "markdown",
   "metadata": {},
   "source": [
    "# 4.1 VaR extensions\n",
    "\n",
    "![VaR quantiles](var-quantiles.PNG)\n",
    "\n",
    "**Empirical historical values** are those that have actually occurred. For simulation, use sample from probability distribution"
   ]
  },
  {
   "cell_type": "code",
   "execution_count": 54,
   "metadata": {},
   "outputs": [
    {
     "data": {
      "text/plain": [
       "array([-0.0165694 , -0.01390218, -0.01169161, -0.01093551, -0.01579565,\n",
       "       -0.01982375, -0.02264449, -0.01582797, -0.01766494])"
      ]
     },
     "execution_count": 54,
     "metadata": {},
     "output_type": "execute_result"
    }
   ],
   "source": [
    "from scipy.stats import norm\n",
    "\n",
    "# parametric VaR(95)\n",
    "mu = np.mean(stockReturns)\n",
    "std = np.std(stockReturns)\n",
    "confLevel = 0.05\n",
    "VaR = norm.ppf(confLevel, mu, std)\n",
    "VaR"
   ]
  },
  {
   "cell_type": "markdown",
   "metadata": {},
   "source": [
    "## Scaling risk\n",
    "\n",
    "![Scaling risk](scaling-risk.PNG)\n",
    "\n",
    "Assuming you have a one-day estimate of VaR(95). Estimate 5-day VaR(95)"
   ]
  },
  {
   "cell_type": "code",
   "execution_count": 55,
   "metadata": {},
   "outputs": [
    {
     "data": {
      "text/plain": [
       "array([-0.03705031, -0.03108623, -0.02614324, -0.02445253, -0.03532015,\n",
       "       -0.04432724, -0.05063461, -0.03539243, -0.0395    ])"
      ]
     },
     "execution_count": 55,
     "metadata": {},
     "output_type": "execute_result"
    }
   ],
   "source": [
    "forecastDays = 5\n",
    "VaR5Days = VaR*np.sqrt(forecastDays)\n",
    "VaR5Days"
   ]
  },
  {
   "cell_type": "markdown",
   "metadata": {},
   "source": [
    "# 4.2 Random walks"
   ]
  },
  {
   "cell_type": "code",
   "execution_count": 56,
   "metadata": {
    "scrolled": true
   },
   "outputs": [
    {
     "data": {
      "text/plain": [
       "array([ 9.93268298,  9.839165  ,  9.78004729,  9.98986453, 10.18975741,\n",
       "       10.29196971, 10.15508415, 10.18640904, 10.00305312, 10.1441052 ,\n",
       "       10.13060998, 10.25612842, 10.35185295, 10.41050627, 10.40811442,\n",
       "       10.53198689, 10.55684873, 10.54925578, 10.82678938, 11.09308329,\n",
       "       11.17982373, 11.14640211, 11.23075454, 11.18930753, 11.020824  ,\n",
       "       11.13316664, 11.3270496 , 11.4072036 , 11.48856484, 11.36539523,\n",
       "       11.41376793, 11.32729028, 11.32094647, 11.22123941, 11.3934712 ,\n",
       "       11.42815007, 11.49508675, 11.34393417, 11.54027405, 11.5860125 ,\n",
       "       11.8208373 , 11.8206353 , 12.15460382, 12.15139297, 12.29396678,\n",
       "       12.18686803, 12.26430772, 12.1348507 , 12.33187823, 12.21587592,\n",
       "       12.07493125, 12.03019638, 12.01956322, 11.92990953, 11.75298698,\n",
       "       11.80301947, 12.1005046 , 11.98499524, 12.09018548, 12.15735638,\n",
       "       12.21818344, 12.29845677, 12.40679305, 12.55870858, 12.6091974 ,\n",
       "       12.65051284, 12.64897319, 12.67502332, 12.73605392, 12.81834017,\n",
       "       12.87773118, 12.81846735, 12.53921887, 12.75262564, 12.74677967,\n",
       "       12.74269987, 12.789145  , 12.75265138, 12.98119809, 13.0322396 ,\n",
       "       12.85584066, 12.92773086, 12.81930118, 12.65184229, 12.7090435 ,\n",
       "       12.783638  , 12.6683904 , 12.5991821 , 12.78133744, 12.5443659 ,\n",
       "       12.60851799, 12.77542729, 12.80587856, 12.85942395, 12.94406379,\n",
       "       12.64268668, 13.03320613, 13.14019963, 12.91784777, 12.88754707,\n",
       "       12.79627434, 12.88891833, 12.96227886, 13.07529231, 13.181315  ,\n",
       "       13.34138566, 13.37648287, 13.50834063, 13.36456746, 13.19438267,\n",
       "       12.9734697 , 12.89082279, 12.98292132, 12.97666414, 12.97168944,\n",
       "       12.97488695, 12.99786862, 13.26783567, 13.31500999, 13.18255059,\n",
       "       13.25726341, 13.42487022, 13.38371347, 13.2823557 , 13.28450417,\n",
       "       13.30004877, 13.3131026 , 13.53155339, 13.48831657, 13.48571562,\n",
       "       13.4709293 , 13.28259727, 13.38675441, 13.65198346, 13.61875135,\n",
       "       13.79169003, 13.82033485, 13.86969546, 13.79495172, 13.88841213,\n",
       "       13.67914237, 13.73544951, 13.7908197 , 13.79746401, 13.82994757,\n",
       "       14.09055211, 13.8945632 , 13.59247872, 13.76381758, 13.71540339,\n",
       "       13.80062393, 13.76561087, 13.64617485, 13.5672427 , 13.39690196,\n",
       "       13.20836445, 13.24294703, 13.38653376, 13.42422848, 13.67809681,\n",
       "       13.66991366, 13.74963612, 13.80048527, 14.12729636, 14.24163915,\n",
       "       14.21855798, 13.9059982 , 13.9198201 , 13.69447518, 13.64682605,\n",
       "       13.79218213, 13.83099778, 13.75172741, 13.5073211 , 13.52491778,\n",
       "       13.55603793, 13.713177  , 13.53626325, 13.46955476, 13.40108842,\n",
       "       13.27186146, 13.24127356, 13.25941702, 13.2701661 , 13.21450767,\n",
       "       13.17837979, 13.26240242, 13.47710341, 13.46495475, 13.55991379,\n",
       "       13.73046137, 13.63430598, 13.58163215, 13.58717708, 13.5008104 ,\n",
       "       13.48930043, 13.70123026, 13.74105622, 13.83353744, 13.98595975,\n",
       "       13.99416407, 13.9665055 , 13.8198576 , 13.86850083, 13.94761757,\n",
       "       13.91267687, 13.87834325, 13.83552397, 13.98919803, 13.93230621,\n",
       "       13.93015295, 13.76905486, 13.95797466, 14.02922602, 14.02447591,\n",
       "       14.01128665, 14.02442109, 13.74527165, 13.82783996, 13.68533881,\n",
       "       13.53525002, 13.56889668, 13.37260718, 13.51766203, 13.25859258,\n",
       "       13.21070352, 13.16871934, 13.34880555, 13.34873207, 13.39606182,\n",
       "       13.27952704, 13.30422879, 13.29149708, 13.2686078 , 13.41602647,\n",
       "       13.26798669, 13.11642655, 12.95028986, 13.27694721, 13.22258751,\n",
       "       13.20864161, 13.34209267, 13.50876443, 13.54004482, 13.54921912,\n",
       "       13.2446222 , 13.3685089 , 13.3894298 , 13.18580569, 13.24174315,\n",
       "       13.15751092, 13.31541206])"
      ]
     },
     "execution_count": 56,
     "metadata": {},
     "output_type": "execute_result"
    }
   ],
   "source": [
    "T = 252\n",
    "S0 = 10\n",
    "randomReturns = np.random.normal(mu[0], std[0], T) + 1\n",
    "forecastValues = S0 * randomReturns.cumprod()\n",
    "forecastValues"
   ]
  },
  {
   "cell_type": "code",
   "execution_count": 57,
   "metadata": {
    "scrolled": true
   },
   "outputs": [],
   "source": [
    "# count, bins, ignored = plt.hist(forecastValues, 30, density=True)\n",
    "\n",
    "# plt.plot(bins, \n",
    "#          1/(std * np.sqrt(2 * np.pi)) * np.exp( - (bins - mu[0])**2 / (2 * std[0]**2)), \n",
    "#          linewidth=2, color='r')\n",
    "\n",
    "# plt.show()"
   ]
  },
  {
   "cell_type": "code",
   "execution_count": 58,
   "metadata": {},
   "outputs": [
    {
     "data": {
      "text/plain": [
       "-0.001145332264845977"
      ]
     },
     "execution_count": 58,
     "metadata": {},
     "output_type": "execute_result"
    }
   ],
   "source": [
    "'''Calculate the VaR(95) of 100 Monte Carlo simulations'''\n",
    "\n",
    "mu = 0.0005\n",
    "vol = 0.001\n",
    "T = 252\n",
    "simulationReturns = []\n",
    "\n",
    "for i in range(100):\n",
    "    randomReturns = np.random.normal(mu, vol, T)\n",
    "    simulationReturns.append(randomReturns)\n",
    "\n",
    "VaR95 = np.percentile(simulationReturns, 5)\n",
    "VaR95"
   ]
  },
  {
   "cell_type": "markdown",
   "metadata": {},
   "source": [
    "# 4.3 Understanding risk\n",
    "\n",
    "Summary:\n",
    "- Moments and distributions\n",
    "- Portfolio composition\n",
    "- Correlation and covariance\n",
    "- Markowitz optimization\n",
    "- Beta & CAPM\n",
    "- FAMA french factor modeling\n",
    "- Alpha\n",
    "- Value at risk\n",
    "- Monte Carlo simulations"
   ]
  }
 ],
 "metadata": {
  "kernelspec": {
   "display_name": "Python 3",
   "language": "python",
   "name": "python3"
  },
  "language_info": {
   "codemirror_mode": {
    "name": "ipython",
    "version": 3
   },
   "file_extension": ".py",
   "mimetype": "text/x-python",
   "name": "python",
   "nbconvert_exporter": "python",
   "pygments_lexer": "ipython3",
   "version": "3.6.6"
  }
 },
 "nbformat": 4,
 "nbformat_minor": 2
}
