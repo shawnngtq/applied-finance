{
 "cells": [
  {
   "cell_type": "markdown",
   "metadata": {},
   "source": [
    "# Setup"
   ]
  },
  {
   "cell_type": "code",
   "execution_count": 1,
   "metadata": {},
   "outputs": [],
   "source": [
    "import csv\n",
    "import datetime\n",
    "import json\n",
    "import matplotlib.pyplot as plt\n",
    "import numpy as np\n",
    "import os\n",
    "import pandas as pd\n",
    "import requests\n",
    "import seaborn as sns\n",
    "import sys\n",
    "import time"
   ]
  },
  {
   "cell_type": "code",
   "execution_count": 2,
   "metadata": {},
   "outputs": [
    {
     "data": {
      "text/plain": [
       "['/home/anonymous/anaconda3/lib/python36.zip',\n",
       " '/home/anonymous/anaconda3/lib/python3.6',\n",
       " '/home/anonymous/anaconda3/lib/python3.6/lib-dynload',\n",
       " '',\n",
       " '/home/anonymous/.local/lib/python3.6/site-packages',\n",
       " '/home/anonymous/anaconda3/lib/python3.6/site-packages',\n",
       " '/home/anonymous/anaconda3/lib/python3.6/site-packages/IPython/extensions',\n",
       " '/home/anonymous/.ipython',\n",
       " '/home/anonymous/Documents/github/data-science/pandas']"
      ]
     },
     "execution_count": 2,
     "metadata": {},
     "output_type": "execute_result"
    }
   ],
   "source": [
    "if 'pandas' not in sys.path:\n",
    "    sys.path.append('/home/anonymous/Documents/github/data-science/pandas')\n",
    "\n",
    "sys.path"
   ]
  },
  {
   "cell_type": "code",
   "execution_count": 3,
   "metadata": {},
   "outputs": [],
   "source": [
    "from pandas_common import *"
   ]
  },
  {
   "cell_type": "code",
   "execution_count": 4,
   "metadata": {},
   "outputs": [],
   "source": [
    "config_pandas_display()"
   ]
  },
  {
   "cell_type": "markdown",
   "metadata": {},
   "source": [
    "# Load data"
   ]
  },
  {
   "cell_type": "code",
   "execution_count": 5,
   "metadata": {},
   "outputs": [
    {
     "data": {
      "text/plain": [
       "['F-Balance-Sheet.csv', 'TSLA-Income-Statement.csv', 'Netflix.csv']"
      ]
     },
     "execution_count": 5,
     "metadata": {},
     "output_type": "execute_result"
    }
   ],
   "source": [
    "os.listdir('data')"
   ]
  },
  {
   "cell_type": "code",
   "execution_count": 6,
   "metadata": {},
   "outputs": [
    {
     "name": "stdout",
     "output_type": "stream",
     "text": [
      "<class 'pandas.core.frame.DataFrame'>\n",
      "MultiIndex: 47 entries, (Fiscal year ends in December. USD in millions except per share data., 2013-12, 2014-12, 2015-12, 2016-12) to (Total liabilities and stockholders' equity, 202026, 208527, 224925, 237951)\n",
      "Data columns (total 1 columns):\n",
      "FORD MOTOR CO  (F) CashFlowFlag BALANCE SHEET    35 non-null object\n",
      "dtypes: object(1)\n",
      "memory usage: 2.1+ KB\n"
     ]
    },
    {
     "data": {
      "text/plain": [
       "(47, 1)"
      ]
     },
     "execution_count": 6,
     "metadata": {},
     "output_type": "execute_result"
    }
   ],
   "source": [
    "fBS = pd.read_csv('data/F-Balance-Sheet.csv')\n",
    "fBS.info()\n",
    "fBS.shape"
   ]
  }
 ],
 "metadata": {
  "kernelspec": {
   "display_name": "Python 3",
   "language": "python",
   "name": "python3"
  },
  "language_info": {
   "codemirror_mode": {
    "name": "ipython",
    "version": 3
   },
   "file_extension": ".py",
   "mimetype": "text/x-python",
   "name": "python",
   "nbconvert_exporter": "python",
   "pygments_lexer": "ipython3",
   "version": "3.6.7"
  }
 },
 "nbformat": 4,
 "nbformat_minor": 2
}
